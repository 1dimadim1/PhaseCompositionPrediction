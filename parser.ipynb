{
 "cells": [
  {
   "cell_type": "code",
   "execution_count": 1,
   "metadata": {},
   "outputs": [
    {
     "name": "stderr",
     "output_type": "stream",
     "text": [
      "C:\\Users\\Dmitry\\AppData\\Roaming\\Python\\Python37\\site-packages\\pycalphad\\io\\tdb.py:925: UserWarning: The type definition character `K` was defined in the following phases: ['FCC_A1', 'FCC_L12'], but no corresponding TYPE_DEFINITION line was found in the TDB.\n",
      "  warnings.warn(f\"The type definition character `{typechar}` was defined in the following phases: \"\n",
      "C:\\Users\\Dmitry\\AppData\\Roaming\\Python\\Python37\\site-packages\\pycalphad\\io\\tdb.py:925: UserWarning: The type definition character `S` was defined in the following phases: ['FCC_A1'], but no corresponding TYPE_DEFINITION line was found in the TDB.\n",
      "  warnings.warn(f\"The type definition character `{typechar}` was defined in the following phases: \"\n",
      "C:\\Users\\Dmitry\\AppData\\Roaming\\Python\\Python37\\site-packages\\pycalphad\\io\\tdb.py:925: UserWarning: The type definition character `P` was defined in the following phases: ['FCC_A1', 'FCC_4SL', 'HCP_A3', 'HCP_4SL'], but no corresponding TYPE_DEFINITION line was found in the TDB.\n",
      "  warnings.warn(f\"The type definition character `{typechar}` was defined in the following phases: \"\n",
      "C:\\Users\\Dmitry\\AppData\\Roaming\\Python\\Python37\\site-packages\\pycalphad\\io\\tdb.py:925: UserWarning: The type definition character `M` was defined in the following phases: ['BCC_A2', 'BCC_B2', 'A2_BCC', 'B2_BCC'], but no corresponding TYPE_DEFINITION line was found in the TDB.\n",
      "  warnings.warn(f\"The type definition character `{typechar}` was defined in the following phases: \"\n",
      "C:\\Users\\Dmitry\\AppData\\Roaming\\Python\\Python37\\site-packages\\pycalphad\\io\\tdb.py:925: UserWarning: The type definition character `U` was defined in the following phases: ['HCP_A3'], but no corresponding TYPE_DEFINITION line was found in the TDB.\n",
      "  warnings.warn(f\"The type definition character `{typechar}` was defined in the following phases: \"\n"
     ]
    }
   ],
   "source": [
    "from pycalphad import Database, equilibrium, variables as v, calculate\n",
    "db_name = 'models/sgsol_2021_pycalphad.tdb'\n",
    "db = Database(db_name)"
   ]
  },
  {
   "cell_type": "code",
   "execution_count": 2,
   "metadata": {},
   "outputs": [],
   "source": [
    "# constants:\n",
    "P = 101325"
   ]
  },
  {
   "attachments": {},
   "cell_type": "markdown",
   "metadata": {},
   "source": [
    "# Компоненты и фазы"
   ]
  },
  {
   "cell_type": "code",
   "execution_count": 3,
   "metadata": {},
   "outputs": [
    {
     "name": "stdout",
     "output_type": "stream",
     "text": [
      "Количество фаз =2023\n",
      "Количество компонент =80\n",
      "['AG', 'AL', 'AM', 'AS', 'AU', 'B', 'BA', 'BE', 'BI', 'C', 'CA', 'CD', 'CE', 'CO', 'CR', 'CS', 'CU', 'DY', 'ER', 'EU', 'FE', 'GA', 'GD', 'GE', 'H', 'HF', 'HG', 'HO', 'IN', 'IR', 'K', 'LA', 'LI', 'LU', 'MG', 'MN', 'MO', 'N', 'NA', 'NB', 'ND', 'NI', 'NP', 'O', 'OS', 'P', 'PA', 'PB', 'PD', 'PR', 'PT', 'PU', 'RB', 'RE', 'RH', 'RU', 'S', 'SB', 'SC', 'SE', 'SI', 'SM', 'SN', 'SR', 'TA', 'TB', 'TC', 'TE', 'TH', 'TI', 'TL', 'TM', 'U', 'V', 'VA', 'W', 'Y', 'YB', 'ZN', 'ZR']\n",
      "['V', 'AU', 'RH', 'SM', 'ZR', 'AL', 'HG', 'SE']\n"
     ]
    }
   ],
   "source": [
    "import random\n",
    "\n",
    "random.seed(10)\n",
    "all_components = list(db.elements)\n",
    "all_phases =  list(db.phases)\n",
    "all_phases.sort()\n",
    "all_components.sort()\n",
    "print('Количество фаз =' + str(len(all_phases)))\n",
    "print('Количество компонент =' + str(len(all_components)))\n",
    "print(all_components)\n",
    "# components = random.sample(all_components, 8)\n",
    "components = ['V', 'AU', 'RH', 'SM', 'ZR', 'AL', 'HG', 'SE']\n",
    "\n",
    "print(components)\n"
   ]
  },
  {
   "attachments": {},
   "cell_type": "markdown",
   "metadata": {},
   "source": [
    "# Бинарные фазы для компонент"
   ]
  },
  {
   "cell_type": "code",
   "execution_count": 4,
   "metadata": {},
   "outputs": [
    {
     "name": "stdout",
     "output_type": "stream",
     "text": [
      "['AGSB_ORTHO', 'AL11SM3_HT', 'AL11SM3_LT', 'AL21V2', 'AL23V4', 'AL2PD5', 'AL2SM', 'AL2ZR', 'AL2ZR3', 'AL3M_D022', 'AL3NB', 'AL3PD2_D513', 'AL3SM', 'AL3ZR', 'AL3ZR2', 'AL3ZR5', 'AL45V7', 'AL4RE_LT', 'AL4ZR5', 'AL5FE4', 'AL8V5', 'ALCE_AMORPHOUS', 'ALCR2_C11B', 'ALCU_THETA', 'ALM_D019', 'ALNB3', 'ALPD2_C37', 'ALPHA_PU', 'ALPT3', 'ALRE2_C11B', 'ALSM', 'ALSM2', 'ALTA_SIGMA', 'ALTI', 'ALZR', 'ALZR2', 'ALZR3', 'AU10ZR7', 'AU2HF', 'AU2ZR', 'AU2ZR3', 'AU3ZR', 'AU4ZR', 'AU51ND14', 'AU5HF', 'AUHF_ALPHA', 'AUHF_BETA', 'AUZN_BETA', 'AUZR', 'AUZR2', 'AUZR3', 'BCT_A5', 'CU2SE_ALPHA', 'CU2SE_BETA', 'DIAMOND_A4', 'D_GAMMA', 'FEUZR_DELTA', 'FEZR2', 'FEZR3', 'GA5V6', 'GA7V6_D82', 'GAMMA_PU', 'GAV3_A15', 'HEXAGONAL_A8', 'IR3ZR', 'IRZR_ALPHA', 'IRZR_BETA', 'LAVES_C14', 'LAVES_C15', 'LAVES_C36', 'LIQUID', 'MB2_C32', 'MN2ZR', 'MSM_A', 'MSM_B', 'NI10ZR7', 'NI3ZR', 'NI5ZR', 'OMEGA_ZR', 'ORTHORHOMBIC_A20', 'PD3ZR', 'PT2V', 'PT3V_D022', 'PTV3_A15', 'PTV_B19', 'RHOMBO_A10', 'RHOMBO_C19', 'SIGMA', 'TETRAGONAL_A6', 'TETRAGONAL_U', 'TIAU4', 'V2ZR', 'V3SI']\n"
     ]
    }
   ],
   "source": [
    "counter = 0 \n",
    "possible_phases = []\n",
    "\n",
    "for phase in db.phases.items():\n",
    "    # item[0] - name, item[1] - content\n",
    "    # item[1] - name, constituents, sublattices, model_hints    \n",
    "    found_sublattices = 0\n",
    "    for sublattice_c in phase[1].constituents:\n",
    "        found = False\n",
    "        for comp in components:\n",
    "            if len([species.name for species in sublattice_c if species.name == comp]) > 0:\n",
    "                found = True\n",
    "                break\n",
    "        if found:\n",
    "            found_sublattices += 1\n",
    "        else:\n",
    "            break\n",
    "    \n",
    "    if found_sublattices == len(phase[1].constituents):\n",
    "        possible_phases.append(phase[0])\n",
    "        \n",
    "possible_phases.sort()\n",
    "print(possible_phases)"
   ]
  },
  {
   "cell_type": "code",
   "execution_count": 5,
   "metadata": {},
   "outputs": [
    {
     "name": "stdout",
     "output_type": "stream",
     "text": [
      "True\n"
     ]
    }
   ],
   "source": [
    "import numpy as np\n",
    "\n",
    "def getPhases(int_mask, all_phases = all_phases):\n",
    "    return [all_phases[i] for i in range(len(all_phases)) if (int_mask & (1 << i)) > 0]\n",
    "def phasesToMask(phases, all_phases = all_phases):\n",
    "    mask = [1 if phase in phases else 0 for phase in all_phases][::-1]\n",
    "    return int(''.join(map(str, mask)), 2)\n",
    "def phaseToMask(phase, all_phases = all_phases):\n",
    "    mask = [1 if phase == phase_ else 0 for phase_ in all_phases][::-1]\n",
    "    return int(''.join(map(str, mask)), 2)\n",
    "\n",
    "phases_mask = phasesToMask(possible_phases)\n",
    "print(possible_phases == getPhases(phases_mask, all_phases))"
   ]
  },
  {
   "attachments": {},
   "cell_type": "markdown",
   "metadata": {},
   "source": [
    "# Расчет фазовых равновесий"
   ]
  },
  {
   "cell_type": "code",
   "execution_count": 7,
   "metadata": {},
   "outputs": [
    {
     "name": "stdout",
     "output_type": "stream",
     "text": [
      "{T: 1200, P: 101325, X_AU: 0.125, X_RH: 0.125, X_SM: 0.125, X_ZR: 0.125, X_AL: 0.125, X_HG: 0.125, X_SE: 0.125}\n",
      "['V', 'AU', 'RH', 'SM', 'ZR', 'AL', 'HG', 'SE', 'VA']\n"
     ]
    }
   ],
   "source": [
    "skip_cond_component = 'V'\n",
    "temp = 1200\n",
    "conditions = {v.T:temp,v.P:P}\n",
    "components = ['V', 'AU', 'RH', 'SM', 'ZR', 'AL', 'HG', 'SE']\n",
    "# TODO: make random amount of component\n",
    "amount = 1.0/len(components)\n",
    "\n",
    "for comp in components:\n",
    "    if comp != skip_cond_component:\n",
    "        conditions[v.X(comp)] = amount\n",
    "\n",
    "calc_components = components\n",
    "calc_components.append('VA')\n",
    "print(conditions)\n",
    "print(calc_components)\n",
    "eq = equilibrium(db,calc_components,getPhases(phases_mask),conditions, verbose=False)\n",
    "# gibbs_energy = eq.GM"
   ]
  },
  {
   "cell_type": "code",
   "execution_count": 8,
   "metadata": {},
   "outputs": [],
   "source": [
    "def flatten_array(arr):\n",
    "    result = []\n",
    "    for item in arr.flat:\n",
    "        if isinstance(item, np.ndarray):\n",
    "            result.extend(flatten_array(item))\n",
    "        else:\n",
    "            result.append(item)\n",
    "    return result"
   ]
  },
  {
   "cell_type": "code",
   "execution_count": 9,
   "metadata": {},
   "outputs": [
    {
     "name": "stdout",
     "output_type": "stream",
     "text": [
      "['AUZR', 'LIQUID', 'AL2SM', '', '', '', '', '', '']\n",
      "[['AUZR'], ['LIQUID'], ['AL2SM'], [], [], [], [], [], []]\n"
     ]
    }
   ],
   "source": [
    "eq_phases = flatten_array(np.array(eq.Phase))\n",
    "print(eq_phases)\n",
    "eq_phases_bin = [phaseToMask(phase) for phase in eq_phases]\n",
    "print([getPhases(phase) for phase in eq_phases_bin])"
   ]
  },
  {
   "attachments": {},
   "cell_type": "markdown",
   "metadata": {},
   "source": [
    "# Словарь с фазами"
   ]
  },
  {
   "cell_type": "code",
   "execution_count": 10,
   "metadata": {},
   "outputs": [
    {
     "data": {
      "text/plain": [
       "{'AGSB_ORTHO': <pycalphad.model.Model at 0x2282ecfcd88>,\n",
       " 'AL11SM3_HT': <pycalphad.model.Model at 0x22830df7f08>,\n",
       " 'AL11SM3_LT': <pycalphad.model.Model at 0x2282e42b9c8>,\n",
       " 'AL21V2': <pycalphad.model.Model at 0x22830df7188>,\n",
       " 'AL23V4': <pycalphad.model.Model at 0x22830d1f2c8>,\n",
       " 'AL2PD5': <pycalphad.model.Model at 0x2282ecdce48>,\n",
       " 'AL2SM': <pycalphad.model.Model at 0x22830cf5dc8>,\n",
       " 'AL2ZR': <pycalphad.model.Model at 0x2282ecd5d48>,\n",
       " 'AL2ZR3': <pycalphad.model.Model at 0x22830ea05c8>,\n",
       " 'AL3M_D022': <pycalphad.model.Model at 0x2282eea94c8>,\n",
       " 'AL3NB': <pycalphad.model.Model at 0x2282ec7a1c8>,\n",
       " 'AL3PD2_D513': <pycalphad.model.Model at 0x2282ecfc208>,\n",
       " 'AL3SM': <pycalphad.model.Model at 0x2282fae3e88>,\n",
       " 'AL3ZR': <pycalphad.model.Model at 0x2282ec6cdc8>,\n",
       " 'AL3ZR2': <pycalphad.model.Model at 0x2282ec69cc8>,\n",
       " 'AL3ZR5': <pycalphad.model.Model at 0x2282ecd5e08>,\n",
       " 'AL45V7': <pycalphad.model.Model at 0x22830efce88>,\n",
       " 'AL4RE_LT': <pycalphad.model.Model at 0x2282ec75cc8>,\n",
       " 'AL4ZR5': <pycalphad.model.Model at 0x2282eec3108>,\n",
       " 'AL5FE4': <pycalphad.model.Model at 0x2282ef33a48>,\n",
       " 'AL8V5': <pycalphad.model.Model at 0x2282ec57448>,\n",
       " 'ALCE_AMORPHOUS': <pycalphad.model.Model at 0x2282ef33d48>,\n",
       " 'ALCR2_C11B': <pycalphad.model.Model at 0x2282e42f608>,\n",
       " 'ALCU_THETA': <pycalphad.model.Model at 0x2282ec530c8>,\n",
       " 'ALM_D019': <pycalphad.model.Model at 0x2282ec53c88>,\n",
       " 'ALNB3': <pycalphad.model.Model at 0x2282ec7d848>,\n",
       " 'ALPD2_C37': <pycalphad.model.Model at 0x2282ec577c8>,\n",
       " 'ALPHA_PU': <pycalphad.model.Model at 0x2282ec84e88>,\n",
       " 'ALPT3': <pycalphad.model.Model at 0x2282f06ed48>,\n",
       " 'ALRE2_C11B': <pycalphad.model.Model at 0x2282ee73248>,\n",
       " 'ALSM': <pycalphad.model.Model at 0x22830f55bc8>,\n",
       " 'ALSM2': <pycalphad.model.Model at 0x2282ee78f08>,\n",
       " 'ALTA_SIGMA': <pycalphad.model.Model at 0x2282f063348>,\n",
       " 'ALTI': <pycalphad.model.Model at 0x2282e4c4888>,\n",
       " 'ALZR': <pycalphad.model.Model at 0x2282f05e508>,\n",
       " 'ALZR2': <pycalphad.model.Model at 0x2282f06a4c8>,\n",
       " 'ALZR3': <pycalphad.model.Model at 0x2282ee27f88>,\n",
       " 'AU10ZR7': <pycalphad.model.Model at 0x2282e4d13c8>,\n",
       " 'AU2HF': <pycalphad.model.Model at 0x2282f07af08>,\n",
       " 'AU2ZR': <pycalphad.model.Model at 0x2282e81a708>,\n",
       " 'AU2ZR3': <pycalphad.model.Model at 0x2282f063848>,\n",
       " 'AU3ZR': <pycalphad.model.Model at 0x2282ef834c8>,\n",
       " 'AU4ZR': <pycalphad.model.Model at 0x2282ef02348>,\n",
       " 'AU51ND14': <pycalphad.model.Model at 0x2282ef7d808>,\n",
       " 'AU5HF': <pycalphad.model.Model at 0x228169d07c8>,\n",
       " 'AUHF_ALPHA': <pycalphad.model.Model at 0x2282f08d188>,\n",
       " 'AUHF_BETA': <pycalphad.model.Model at 0x228310ac888>,\n",
       " 'AUZN_BETA': <pycalphad.model.Model at 0x2283151be88>,\n",
       " 'AUZR': <pycalphad.model.Model at 0x2283151e088>,\n",
       " 'AUZR2': <pycalphad.model.Model at 0x2282ee81948>,\n",
       " 'AUZR3': <pycalphad.model.Model at 0x2282ee23f08>,\n",
       " 'BCT_A5': <pycalphad.model.Model at 0x2282eddc248>,\n",
       " 'CU2SE_ALPHA': <pycalphad.model.Model at 0x228314f9f48>,\n",
       " 'CU2SE_BETA': <pycalphad.model.Model at 0x22830ecd048>,\n",
       " 'DIAMOND_A4': <pycalphad.model.Model at 0x2282eec9888>,\n",
       " 'D_GAMMA': <pycalphad.model.Model at 0x2282eedfd88>,\n",
       " 'FEUZR_DELTA': <pycalphad.model.Model at 0x2282ee5c0c8>,\n",
       " 'FEZR2': <pycalphad.model.Model at 0x2282ef340c8>,\n",
       " 'FEZR3': <pycalphad.model.Model at 0x2282ef172c8>,\n",
       " 'GA5V6': <pycalphad.model.Model at 0x2282edd3808>,\n",
       " 'GA7V6_D82': <pycalphad.model.Model at 0x2282ededa88>,\n",
       " 'GAMMA_PU': <pycalphad.model.Model at 0x2282ee7dd08>,\n",
       " 'GAV3_A15': <pycalphad.model.Model at 0x2282ef3a508>,\n",
       " 'HEXAGONAL_A8': <pycalphad.model.Model at 0x2282edef388>,\n",
       " 'IR3ZR': <pycalphad.model.Model at 0x2282ee8e848>,\n",
       " 'IRZR_ALPHA': <pycalphad.model.Model at 0x228314fb588>,\n",
       " 'IRZR_BETA': <pycalphad.model.Model at 0x22831518b48>,\n",
       " 'LAVES_C14': <pycalphad.model.Model at 0x2282ef74f88>,\n",
       " 'LAVES_C15': <pycalphad.model.Model at 0x2283150d9c8>,\n",
       " 'LAVES_C36': <pycalphad.model.Model at 0x2282ee1a908>,\n",
       " 'LIQUID': <pycalphad.model.Model at 0x2282ef5ca48>,\n",
       " 'MB2_C32': <pycalphad.model.Model at 0x2282ef68ac8>,\n",
       " 'MN2ZR': <pycalphad.model.Model at 0x2282e4a7e88>,\n",
       " 'MSM_A': <pycalphad.model.Model at 0x2282ee31588>,\n",
       " 'MSM_B': <pycalphad.model.Model at 0x2282f009ec8>,\n",
       " 'NI10ZR7': <pycalphad.model.Model at 0x2282ecfeb08>,\n",
       " 'NI3ZR': <pycalphad.model.Model at 0x2282ee190c8>,\n",
       " 'NI5ZR': <pycalphad.model.Model at 0x2282f0e71c8>,\n",
       " 'OMEGA_ZR': <pycalphad.model.Model at 0x2282f4ae408>,\n",
       " 'ORTHORHOMBIC_A20': <pycalphad.model.Model at 0x2282ed125c8>,\n",
       " 'PD3ZR': <pycalphad.model.Model at 0x2282ed18488>,\n",
       " 'PT2V': <pycalphad.model.Model at 0x2282ed18b48>,\n",
       " 'PT3V_D022': <pycalphad.model.Model at 0x2282ed1f988>,\n",
       " 'PTV3_A15': <pycalphad.model.Model at 0x2282ed14b08>,\n",
       " 'PTV_B19': <pycalphad.model.Model at 0x2282ed1b808>,\n",
       " 'RHOMBO_A10': <pycalphad.model.Model at 0x2282ed23808>,\n",
       " 'RHOMBO_C19': <pycalphad.model.Model at 0x2282ed25f48>,\n",
       " 'SIGMA': <pycalphad.model.Model at 0x2282ed32b48>,\n",
       " 'TETRAGONAL_A6': <pycalphad.model.Model at 0x2282ed259c8>,\n",
       " 'TETRAGONAL_U': <pycalphad.model.Model at 0x2282ed26a88>,\n",
       " 'TIAU4': <pycalphad.model.Model at 0x2282ed23988>,\n",
       " 'V2ZR': <pycalphad.model.Model at 0x2282ed30888>,\n",
       " 'V3SI': <pycalphad.model.Model at 0x2282ed37548>}"
      ]
     },
     "execution_count": 10,
     "metadata": {},
     "output_type": "execute_result"
    }
   ],
   "source": [
    "from pycalphad.core.utils import instantiate_models\n",
    "instantiate_models(db, calc_components, getPhases(phases_mask))"
   ]
  },
  {
   "attachments": {},
   "cell_type": "markdown",
   "metadata": {},
   "source": [
    "# Функции"
   ]
  },
  {
   "cell_type": "code",
   "execution_count": 11,
   "metadata": {},
   "outputs": [
    {
     "name": "stdout",
     "output_type": "stream",
     "text": [
      "['AGSB_ORTHO', 'AL11SM3_HT', 'AL11SM3_LT', 'AL21V2', 'AL23V4', 'AL2PD5', 'AL2SM', 'AL2ZR', 'AL2ZR3', 'AL3M_D022', 'AL3NB', 'AL3PD2_D513', 'AL3SM', 'AL3ZR', 'AL3ZR2', 'AL3ZR5', 'AL45V7', 'AL4RE_LT', 'AL4ZR5', 'AL5FE4', 'AL8V5', 'ALCE_AMORPHOUS', 'ALCR2_C11B', 'ALCU_THETA', 'ALM_D019', 'ALNB3', 'ALPD2_C37', 'ALPHA_PU', 'ALPT3', 'ALRE2_C11B', 'ALSM', 'ALSM2', 'ALTA_SIGMA', 'ALTI', 'ALZR', 'ALZR2', 'ALZR3', 'AU10ZR7', 'AU2HF', 'AU2ZR', 'AU2ZR3', 'AU3ZR', 'AU4ZR', 'AU51ND14', 'AU5HF', 'AUHF_ALPHA', 'AUHF_BETA', 'AUZN_BETA', 'AUZR', 'AUZR2', 'AUZR3', 'BCT_A5', 'CU2SE_ALPHA', 'CU2SE_BETA', 'DIAMOND_A4', 'D_GAMMA', 'FEUZR_DELTA', 'FEZR2', 'FEZR3', 'GA5V6', 'GA7V6_D82', 'GAMMA_PU', 'GAV3_A15', 'HEXAGONAL_A8', 'IR3ZR', 'IRZR_ALPHA', 'IRZR_BETA', 'LAVES_C14', 'LAVES_C15', 'LAVES_C36', 'LIQUID', 'MB2_C32', 'MN2ZR', 'MSM_A', 'MSM_B', 'NI10ZR7', 'NI3ZR', 'NI5ZR', 'OMEGA_ZR', 'ORTHORHOMBIC_A20', 'PD3ZR', 'PT2V', 'PT3V_D022', 'PTV3_A15', 'PTV_B19', 'RHOMBO_A10', 'RHOMBO_C19', 'SIGMA', 'TETRAGONAL_A6', 'TETRAGONAL_U', 'TIAU4', 'V2ZR', 'V3SI']\n"
     ]
    }
   ],
   "source": [
    "from pycalphad.core.utils import instantiate_models\n",
    "# instantiate_models(db, components, getAllPhases(components_phases))\n",
    "print(getPhases(phases_mask))"
   ]
  },
  {
   "cell_type": "code",
   "execution_count": 12,
   "metadata": {},
   "outputs": [],
   "source": [
    "import re\n",
    "\n",
    "# read the text file\n",
    "text = \"\"\n",
    "function_start = False\n",
    "with open(db_name, 'r') as f:\n",
    "    for line in f:\n",
    "        if \"Standard functions for the elements\" in line:\n",
    "            function_start = True\n",
    "        if \"Data for the elements from unary database\" in line:\n",
    "            function_start = False\n",
    "\n",
    "        if function_start:\n",
    "            text += line\n",
    "\n",
    "component_functions = {}\n",
    "# find all the component names in the text\n",
    "component_names = re.findall(r'\\$ ([A-Z][a-z]*)', text)\n",
    "for component in component_names:\n",
    "    # find the text between the component name and the next component name\n",
    "    pattern = r'\\$ {}.*?\\$ [A-Z][a-z]*'.format(component)\n",
    "    component_text = re.search(pattern, text, re.DOTALL).group()\n",
    "    \n",
    "    # find all the function names in the component text\n",
    "    function_names = re.findall(r'FUNCTION ([A-Z]*)', component_text)\n",
    "    \n",
    "    component_functions[component] = function_names\n",
    "component_functions = {k.upper():v for k,v in component_functions.items()}"
   ]
  },
  {
   "cell_type": "code",
   "execution_count": 13,
   "metadata": {},
   "outputs": [
    {
     "name": "stdout",
     "output_type": "stream",
     "text": [
      "AG : ['GHSERAG', 'GHCPAG', 'GBCCAG', 'GLIQAG', 'GDHCPAG']\n",
      "AL : ['GHSERAL', 'GHCPAL', 'GBCCAL', 'GLIQAL', 'GLAVAL', 'GB', 'LB']\n",
      "AM : ['GHSERAM', 'GFCCAM', 'GBCCAM', 'GLIQAM']\n",
      "AS : ['GHSERAS', 'GLIQAS', 'GFCCAS', 'GBCCAS', 'GHCPAS']\n",
      "AU : ['GHSERAU', 'GHCPAU', 'GBCCAU', 'GLIQAU']\n",
      "B : ['GHSERB', 'GLIQB', 'GFCCB', 'GHCPB', 'GBCCB']\n",
      "BA : ['GHSERBA', 'GLIQBA', 'GHCPBA', 'GFCCBA']\n",
      "BE : ['GHSERBE', 'GBCCBE', 'GLIQBE', 'GFCCBE']\n",
      "BI : ['GHSERBI', 'GLIQBI', 'GBCCBI', 'GFCCBI', 'GHCPBI']\n",
      "C : ['GHSERC', 'GDIAC', 'GLIQC']\n",
      "CA : ['GHSERCA', 'GBCCCA', 'GLIQCA', 'GHCPCA']\n",
      "ADDED : ['GGASCA', 'GGASCA']\n",
      "CD : ['GHSERCD', 'GLIQCD', 'GFCCCD', 'GBCCCD', 'GGASCD']\n",
      "CE : ['GHSERCE', 'GBCCCE', 'GLIQCE', 'GHCPCE']\n",
      "CO : ['GHSERCO', 'GFCCCO', 'GLIQCO', 'GBCCCO']\n",
      "CR : ['GHSERCR', 'GLIQCR', 'GFCCCR', 'GHCPCR']\n",
      "CS : ['GHSERCS', 'GLIQCS', 'GHCPCS', 'GFCCCS']\n",
      "CU : ['GHSERCU', 'GBCCCU', 'GHCPCU', 'GLIQCU']\n",
      "DY : ['GHSERDY', 'GBCCDY', 'GLIQDY', 'GFCCDY']\n",
      "ER : ['GHSERER', 'GLIQER', 'GBCCER']\n",
      "EU : ['GHSEREU', 'GLIQEU']\n",
      "Z : ['GFCCEU']\n",
      "FE : ['GHSERFE', 'GFCCFE', 'GLIQFE', 'GHCPFE']\n",
      "SMALL : ['GHSERGD', 'GBCCGD', 'GLIQGD', 'GFCCGD']\n",
      "GE : ['GHSERGE', 'GLIQGE', 'GFCCGE', 'GBCCGE', 'GHCPGE']\n",
      "HF : ['GHSERHF', 'GBCCHF', 'GLIQHF', 'GFCCHF']\n",
      "HG : ['GHSERHG', 'GRHOMBHG', 'GHCPHG', 'GFCCHG']\n",
      "HO : ['GHSERHO', 'GBCCHO', 'GLIQHO']\n",
      "IN : ['GHSERIN', 'GLIQIN', 'GHCPIN', 'GFCCIN', 'GBCCIN']\n",
      "IR : ['GHSERIR', 'GLIQIR', 'GBCCIR', 'GHCPIR']\n",
      "K : ['GHSERK', 'GLIQK', 'GHCPK', 'GFCCK']\n",
      "LA : ['GHSERLA', 'GFCCLA', 'GBCCLA', 'GLIQLA', 'GGASLA']\n",
      "LI : ['GHSERLI', 'GLIQLI', 'GFCCLI', 'GHCPLI', 'GGASLI', 'GGASLI']\n",
      "LU : ['GHSERLU', 'GLIQLU']\n",
      "MG : ['GHSERMG', 'GLIQMG', 'GFCCMG', 'GBCCMG']\n",
      "MN : ['GHSERMN', 'GFCCMN', 'GBCCMN', 'GLIQMN', 'GHCPMN']\n",
      "MO : ['GHSERMO', 'GLIQMO', 'GFCCMO', 'GHCPMO']\n",
      "D : ['GHSERDY', 'GBCCDY', 'GLIQDY', 'GFCCDY']\n",
      "NA : ['GHSERNA', 'GLIQNA', 'GHCPNA', 'GFCCNA']\n",
      "NB : ['GHSERNB', 'GLIQNB', 'GFCCNB', 'GHCPNB']\n",
      "ND : ['GHSERND', 'GBCCND', 'GLIQND', 'GFCCND', 'GHCPND', 'GGASND']\n",
      "NI : ['GHSERNI', 'GLIQNI', 'GBCCNI', 'GHCPNI', 'GGASNI', 'GGASNI']\n",
      "NP : ['GHSERNP']\n",
      "T : ['GBCCNP', 'GLIQNP']\n",
      "O : ['GHSERO', 'GLIQO', 'GBCCO', 'GFCCO']\n",
      "OS : ['GHSEROS', 'GLIQOS', 'GFCCOS', 'GBCCOS']\n",
      "P : ['GHSERP', 'GLIQP', 'GREDP', 'GBCCP', 'GFCCP']\n",
      "PA : ['GHSERPA', 'GBCCPA', 'GLIQPA']\n",
      "PB : ['GHSERPB', 'GLIQPB', 'GHCPPB', 'GBCCPB']\n",
      "PD : ['GHSERPD', 'GLIQPD', 'GBCCPD', 'GHCPPD']\n",
      "PR : ['GHSERPR', 'GBCCPR', 'GLIQPR']\n",
      "PT : ['GHSERPT', 'GLIQPT', 'GBCCPT', 'GHCPPT']\n",
      "PU : ['GHSERPU', 'GBCCPU', 'GFCCPU', 'GLIQPU']\n",
      "RB : ['GHSERRB', 'GLIQRB', 'GHCPRB', 'GFCCRB']\n",
      "RH : ['GHSERRH', 'GBCCRH', 'GHCPRH', 'GLIQRH']\n",
      "RU : ['GHSERRU', 'GBCCRU', 'GFCCRU', 'GLIQRU']\n",
      "SB : ['GHSERSB', 'GLIQSB', 'GFCCSB', 'GBCCSB', 'GHCPSB', 'GSBLOW']\n",
      "SC : ['GHSERSC', 'GBCCSC', 'GLIQSC']\n",
      "SE : ['GHSERSE', 'GLIQSE']\n",
      "SI : ['GHSERSI', 'GLIQSI', 'GBCCSI', 'GFCCSI', 'GHCPSI', 'GLAVSI']\n",
      "SM : ['GHSERGD', 'GBCCGD', 'GLIQGD', 'GFCCGD']\n",
      "SN : ['GHSERSN', 'GLIQSN', 'GFCCSN', 'GHCPSN', 'GBCCSN']\n",
      "SR : ['GHSERSR', 'GBCCSR', 'GLIQSR', 'GHCPSR']\n",
      "TA : ['GHSERTA', 'GLIQTA', 'GFCCTA', 'GHCPTA']\n",
      "TB : ['GHSERTB', 'GBCCTB', 'GLIQTB']\n",
      "TC : ['GHSERTC', 'GFCCTC', 'GBCCTC', 'GLIQTC']\n",
      "TE : ['GHSERTE', 'GLIQTE']\n",
      "TH : ['GHSERTH', 'GBCCTH', 'GLIQTH']\n",
      "TI : ['GHSERTI', 'GBCCTI', 'GLIQTI', 'GFCCTI']\n",
      "TL : ['GHSERTL', 'GBCCTL', 'GLIQTL', 'GFCCTL']\n",
      "TM : ['GHSERTM', 'GLIQTM']\n",
      "U : ['GHSERU', 'GBCCU', 'GLIQU', 'GFCCU', 'GHCPU']\n",
      "V : ['GHSERV', 'GHSERVZ', 'GLIQV']\n",
      "W : ['GHSERW', 'GLIQW', 'GFCCW', 'GHCPW']\n",
      "Y : ['GHSERY', 'GBCCY', 'GLIQY', 'GFCCY']\n",
      "YB : ['GHSERYB', 'GBCCYB', 'GLIQYB', 'GHCPYB']\n",
      "ZN : ['GHSERZN', 'GHCPZN', 'GLIQZN', 'GFCCZN', 'GBCCZN']\n",
      "ZR : ['GHSERZR', 'GBCCZR', 'GLIQZR', 'GFCCZR', 'U', 'GFENI', 'GFE', 'U', 'GFE', 'GBCCL', 'GBCCL', 'GBCCL', 'GBCCCZ', 'GBCCL', 'GBCCL', 'GBCCL', 'GBCCMZ']\n",
      "FUNCTION : ['GGASHLI']\n"
     ]
    }
   ],
   "source": [
    "# print the functions for each component\n",
    "for component, functions in component_functions.items():\n",
    "    if len(functions) > 0:\n",
    "        print(f\"{component} : {functions}\")"
   ]
  },
  {
   "cell_type": "code",
   "execution_count": 14,
   "metadata": {},
   "outputs": [
    {
     "name": "stdout",
     "output_type": "stream",
     "text": [
      "Check - VA\n",
      "{'GB', 'GBCCZR', 'GBCCCZ', 'GBCCAU', 'GLAVAL', 'GHCPAU', 'GBCCL', 'GHSERSE', 'GHSERAU', 'GBCCMZ', 'GFCCGD', 'GHSERAL', 'GHSERHG', 'GFE', 'GLIQSE', 'GBCCAL', 'GHSERGD', 'GBCCGD', 'GLIQGD', 'GHSERRH', 'GHCPRH', 'GHCPAL', 'GLIQZR', 'GHSERZR', 'GFCCHG', 'GHSERV', 'GLIQAL', 'GRHOMBHG', 'GFENI', 'GFCCZR', 'U', 'GHSERVZ', 'GLIQV', 'LB', 'GLIQRH', 'GHCPHG', 'GBCCRH', 'GLIQAU'}\n"
     ]
    }
   ],
   "source": [
    "functions = set()\n",
    "for component in components:\n",
    "    if str(component) in component_functions.keys():\n",
    "        functions.update(component_functions[component])\n",
    "    else:\n",
    "        print(f'Check - {component}')\n",
    "print(functions)"
   ]
  },
  {
   "cell_type": "code",
   "execution_count": 15,
   "metadata": {},
   "outputs": [
    {
     "name": "stdout",
     "output_type": "stream",
     "text": [
      "Piecewise((-3600.78 + 95.01916415*T - 24.721413*T*log(T) - 8665.7*T**(-1.0) - 0.00285240521*T**2.0 - 3.14674076e-07*T**3.0, And(T < 1000.0, 100.0 <= T)), (152792.74 - 1349.588729*T + 180.097094*T*log(T) - 22038836.0*T**(-1.0) - 0.119550229*T**2.0 + 1.17915728e-05*T**3.0, And(T < 1508.15, 1000.0 <= T)), (-15783.76 + 202.2221768*T - 38.960425*T*log(T), And(T < 1586.15, 1508.15 <= T)), (-19850.56 + 224.8180291*T - 41.904333*T*log(T) + 995428.6*T**(-1.0) + 0.000858222759*T**2.0 - 3.77570269e-08*T**3.0, And(T < 3600.0, 1586.15 <= T)), (0, True))\n",
      "<class 'int'>\n",
      "Piecewise((105763.775257605 - 29665.6956*log(1200), False), (-1636855.92342827 + 216116.5128*log(1200), True), (226882.85216 - 46752.51*log(1200), False), (251931.19538381 - 50285.1996*log(1200), False), (0, True))\n"
     ]
    }
   ],
   "source": [
    "from symengine import Piecewise, Symbol, lib\n",
    "import math\n",
    "\n",
    "temp = 1200\n",
    "T = Symbol('T')\n",
    "print(db.symbols['GBCCGD'])\n",
    "print(type(temp))\n",
    "expr = db.symbols['GBCCGD'].subs(T, temp)\n",
    "print(expr)\n"
   ]
  },
  {
   "cell_type": "code",
   "execution_count": 16,
   "metadata": {},
   "outputs": [
    {
     "name": "stdout",
     "output_type": "stream",
     "text": [
      "Wrong function: GB\n",
      "Wrong function: GBCCL\n",
      "Wrong function: GFE\n",
      "Wrong function: GFENI\n",
      "Wrong function: U\n",
      "Wrong function: LB\n",
      "OrderedDict([('GB', None), ('GBCCZR', -69104.2656226965), ('GBCCCZ', -5725.0), ('GBCCAU', 2930.0 + GHSERAU), ('GLAVAL', 5000.0 + GHSERAL), ('GHCPAU', 2160.75 + GHSERAU), ('GBCCL', None), ('GHSERSE', 0), ('GHSERAU', -77272.6856248379), ('GBCCMZ', 0.0), ('GFCCGD', 500.0 + GHSERGD), ('GHSERAL', -54976.3276402473), ('GHSERHG', -112210.200050902), ('GFE', None), ('GLIQSE', 0), ('GBCCAL', 4307.4 + GHSERAL), ('GHSERGD', -105270.77857148), ('GBCCGD', -104573.24219628), ('GLIQGD', -102198.298584263), ('GHSERRH', 0), ('GHCPRH', 2400.0 + GHSERRH), ('GHCPAL', 3321.0 + GHSERAL), ('GLIQZR', 7251.2987626752 + GHSERZR), ('GHSERZR', -68894.6050887857), ('GFCCHG', 10046.6 + GHSERHG), ('GHSERV', -57463.158455921), ('GLIQAL', -57996.2850123662), ('GRHOMBHG', -104149.498678239), ('GFENI', None), ('GFCCZR', 6520.0 + GHSERZR), ('U', None), ('GHSERVZ', -57463.158455921), ('GLIQV', 9415.59444185221 + GHSERV), ('LB', None), ('GLIQRH', -48315.478673478), ('GHCPHG', -103109.498678239), ('GBCCRH', 13360.0 + GHSERRH), ('GLIQAU', 1288.9608 + GHSERAU)])\n"
     ]
    }
   ],
   "source": [
    "from collections import OrderedDict\n",
    "\n",
    "function_value = OrderedDict()\n",
    "for func in functions:\n",
    "    expression = Piecewise()\n",
    "    # print(func)\n",
    "    if func not in db.symbols:\n",
    "        print('Wrong function: ' + str(func))\n",
    "        function_value[func] = None\n",
    "        continue\n",
    "    \n",
    "    for arg in db.symbols[func].args:\n",
    "        # condition = arg[0].subs(T, temp)\n",
    "        # expression = arg[1].subs(T, temp)\n",
    "        # result.append([condition, expression])\n",
    "        if arg.is_Add:\n",
    "            expression = arg.subs(T, temp).evalf()\n",
    "        elif arg.is_Float or arg.is_Integer:\n",
    "            expression = arg\n",
    "        else:\n",
    "            bool_res = False\n",
    "            if len(arg.atoms()) > 0:\n",
    "                bool_res = arg.subs(T, temp)\n",
    "            if arg.is_Boolean:\n",
    "                bool_res = arg\n",
    "            if bool_res: \n",
    "                function_value[func] = expression\n",
    "                break\n",
    "\n",
    "print(function_value)"
   ]
  },
  {
   "attachments": {},
   "cell_type": "markdown",
   "metadata": {},
   "source": [
    "# Текущие результаты:"
   ]
  },
  {
   "cell_type": "code",
   "execution_count": 17,
   "metadata": {},
   "outputs": [
    {
     "name": "stdout",
     "output_type": "stream",
     "text": [
      "Список компонентов:\n",
      "['V', 'AU', 'RH', 'SM', 'ZR', 'AL', 'HG', 'SE', 'VA']\n"
     ]
    }
   ],
   "source": [
    "print('Список компонентов:')\n",
    "print(components)"
   ]
  },
  {
   "cell_type": "code",
   "execution_count": 18,
   "metadata": {},
   "outputs": [
    {
     "name": "stdout",
     "output_type": "stream",
     "text": [
      "Все фазы для компонентов из списка:\n",
      "93\n",
      "['AGSB_ORTHO', 'AL11SM3_HT', 'AL11SM3_LT', 'AL21V2', 'AL23V4', 'AL2PD5', 'AL2SM', 'AL2ZR', 'AL2ZR3', 'AL3M_D022', 'AL3NB', 'AL3PD2_D513', 'AL3SM', 'AL3ZR', 'AL3ZR2', 'AL3ZR5', 'AL45V7', 'AL4RE_LT', 'AL4ZR5', 'AL5FE4', 'AL8V5', 'ALCE_AMORPHOUS', 'ALCR2_C11B', 'ALCU_THETA', 'ALM_D019', 'ALNB3', 'ALPD2_C37', 'ALPHA_PU', 'ALPT3', 'ALRE2_C11B', 'ALSM', 'ALSM2', 'ALTA_SIGMA', 'ALTI', 'ALZR', 'ALZR2', 'ALZR3', 'AU10ZR7', 'AU2HF', 'AU2ZR', 'AU2ZR3', 'AU3ZR', 'AU4ZR', 'AU51ND14', 'AU5HF', 'AUHF_ALPHA', 'AUHF_BETA', 'AUZN_BETA', 'AUZR', 'AUZR2', 'AUZR3', 'BCT_A5', 'CU2SE_ALPHA', 'CU2SE_BETA', 'DIAMOND_A4', 'D_GAMMA', 'FEUZR_DELTA', 'FEZR2', 'FEZR3', 'GA5V6', 'GA7V6_D82', 'GAMMA_PU', 'GAV3_A15', 'HEXAGONAL_A8', 'IR3ZR', 'IRZR_ALPHA', 'IRZR_BETA', 'LAVES_C14', 'LAVES_C15', 'LAVES_C36', 'LIQUID', 'MB2_C32', 'MN2ZR', 'MSM_A', 'MSM_B', 'NI10ZR7', 'NI3ZR', 'NI5ZR', 'OMEGA_ZR', 'ORTHORHOMBIC_A20', 'PD3ZR', 'PT2V', 'PT3V_D022', 'PTV3_A15', 'PTV_B19', 'RHOMBO_A10', 'RHOMBO_C19', 'SIGMA', 'TETRAGONAL_A6', 'TETRAGONAL_U', 'TIAU4', 'V2ZR', 'V3SI']\n"
     ]
    }
   ],
   "source": [
    "print('Все фазы для компонентов из списка:')\n",
    "print(len(getPhases(phases_mask)))\n",
    "print(getPhases(phases_mask))"
   ]
  },
  {
   "cell_type": "code",
   "execution_count": 19,
   "metadata": {},
   "outputs": [
    {
     "name": "stdout",
     "output_type": "stream",
     "text": [
      "Все фазы для компонентов из списка(бинарные): 0b100001000000000000000100000000000000000110000000000000000000000000000000000000000000000000000000000010000000000000000000000000000000000000000000110000000000000001100000000000000000000100000000010000000000000000000000000000000000000000000001000000000000000000000000000000000000011000000000000000000000000000000000010000000000000100000000000000000000000000000000000000010000000000000000000000000000000000000000000000110000000000000000000000000000000010000000000000000000000000000000000000000000000000000000000001000000000000000000000010000000000000000000000000011100000000000000000000000000000000110001000000000000000000000000000000000000000000000000000000000000000000000000000000000001000000000000000000000000000000000000000000000000000000000000000000000000000000000000000000000000000000000000000000100000000000100000010000000100000000000000000000000000000000011000000001000000000000000000000000000000000000000000000000000000000000000000000000000000000000000000000000000000000100000000000001000000000000000000000000000000000000000000000000000000000000000000000000000000000000000000000000000000000000000000001100000000000000000000000000000000000000000000000000000000000000000000000000000000000000000000000000000000000000000000000000000000000000000000000000000000000000000000000000000000000000000000000000000000000000000000000000000000000000000000000000000000000000000000000000000000000000000000000000000000000000000000000000000000000000000000000000000000000000000000000000000000000000000000000000000001000000000000000000000000000000000001110000010000000000000000000000000000000000001100000000000000000000101000100000000010000000011000000010001000000000000000000000000000000000111001000101100000100100000100010100100000000000000000000000000000010000000000001100000000100000000000000000010000010000100000000001000111000000001000000000001000011000000000001100000000000100000001000000000000001100000000000000011000000000000001000000000000000000000000000000000000000000000000000000\n"
     ]
    }
   ],
   "source": [
    "print(f'Все фазы для компонентов из списка(бинарные): {bin(phases_mask)}')"
   ]
  },
  {
   "cell_type": "code",
   "execution_count": 20,
   "metadata": {},
   "outputs": [
    {
     "name": "stdout",
     "output_type": "stream",
     "text": [
      "Параметры расчета:\n",
      "Давление 101325, Температура 1200, Количестов вещества по 0.125 для компоненты\n"
     ]
    }
   ],
   "source": [
    "print('Параметры расчета:')\n",
    "print(f'Давление {P}, Температура {temp}, Количестов вещества по {amount} для компоненты')"
   ]
  },
  {
   "cell_type": "code",
   "execution_count": 21,
   "metadata": {},
   "outputs": [
    {
     "name": "stdout",
     "output_type": "stream",
     "text": [
      "Значения функций для компонентов:\n",
      "OrderedDict([('GB', None), ('GBCCZR', -69104.2656226965), ('GBCCCZ', -5725.0), ('GBCCAU', 2930.0 + GHSERAU), ('GLAVAL', 5000.0 + GHSERAL), ('GHCPAU', 2160.75 + GHSERAU), ('GBCCL', None), ('GHSERSE', 0), ('GHSERAU', -77272.6856248379), ('GBCCMZ', 0.0), ('GFCCGD', 500.0 + GHSERGD), ('GHSERAL', -54976.3276402473), ('GHSERHG', -112210.200050902), ('GFE', None), ('GLIQSE', 0), ('GBCCAL', 4307.4 + GHSERAL), ('GHSERGD', -105270.77857148), ('GBCCGD', -104573.24219628), ('GLIQGD', -102198.298584263), ('GHSERRH', 0), ('GHCPRH', 2400.0 + GHSERRH), ('GHCPAL', 3321.0 + GHSERAL), ('GLIQZR', 7251.2987626752 + GHSERZR), ('GHSERZR', -68894.6050887857), ('GFCCHG', 10046.6 + GHSERHG), ('GHSERV', -57463.158455921), ('GLIQAL', -57996.2850123662), ('GRHOMBHG', -104149.498678239), ('GFENI', None), ('GFCCZR', 6520.0 + GHSERZR), ('U', None), ('GHSERVZ', -57463.158455921), ('GLIQV', 9415.59444185221 + GHSERV), ('LB', None), ('GLIQRH', -48315.478673478), ('GHCPHG', -103109.498678239), ('GBCCRH', 13360.0 + GHSERRH), ('GLIQAU', 1288.9608 + GHSERAU)])\n"
     ]
    }
   ],
   "source": [
    "print('Значения функций для компонентов:')\n",
    "print(function_value)"
   ]
  },
  {
   "cell_type": "code",
   "execution_count": 22,
   "metadata": {},
   "outputs": [
    {
     "name": "stdout",
     "output_type": "stream",
     "text": [
      "Фазы для заданых параметров:\n",
      "['AUZR', 'LIQUID', 'AL2SM', '', '', '', '', '', '']\n",
      "В бинарном виде:\n",
      "['0b10000000000000000000000000000000000000000000000000000000000000000000000000000000000000000000000000000000000000000000000000000000000000000000000000000000000000000000000000000000000000000000000000000000000000000000000000000000000000000000000000000000000000000000000000000000000000000000000000000000000000000000000000000000000000000000000000000000000000000000000000000000000000000000000000000000000000000000000000000000000000000000000000000', '0b10000000000000000000000000000000000000000000000000000000000000000000000000000000000000000000000000000000000000000000000000000000000000000000000000000000000000000000000000000000000000000000000000000000000000000000000000000000000000000000000000000000000000000000000000000000000000000000000000000000000000000000000000000000000000000000000000000000000000000000000000000000000000000000000000000000000000000000000000000000000000000000000000000000000000000000000000000000000000000000000000000000000000000000000000000000000000000000000000000000000000000000000000000000000000000000000000000000000000000000000000000000000000000000000000000000000000000000000000000000000000000000000000000000000000000000000000000000000000000000000000000000000000000000000000000000000000000000000000000000000000000000000000000000000000000000000000000000000000000000000000000000000000000000000000000000000000000000000000000000000000000000000000000000000000000000000000000000000000000000000000000000000000000000000000000000000000000000000000000000000000000000000000000000000000000000000000000000000000000000000000000000000000000000000000000000000000000000000000000000000000000000000000000000000000000000000000000000000000000000000000000000000000000000000000000000000000000000000000000000000000000000000000000000000000000000000000000000000000000000000000000000000000000000000000000000000000000000000000000000000000000000000000000000000000000000000000000000000000000000000000', '0b100000000000000000000000000000000000000000000000000000000000000000000000000000000000000000000000000000000000000', '0b0', '0b0', '0b0', '0b0', '0b0', '0b0']\n"
     ]
    }
   ],
   "source": [
    "print('Фазы для заданых параметров:')\n",
    "print(eq_phases)\n",
    "print('В бинарном виде:')\n",
    "print([bin(phase) for phase in eq_phases_bin])"
   ]
  }
 ],
 "metadata": {
  "kernelspec": {
   "display_name": "Python 3 (ipykernel)",
   "language": "python",
   "name": "python3"
  },
  "language_info": {
   "codemirror_mode": {
    "name": "ipython",
    "version": 3
   },
   "file_extension": ".py",
   "mimetype": "text/x-python",
   "name": "python",
   "nbconvert_exporter": "python",
   "pygments_lexer": "ipython3",
   "version": "3.7.8"
  },
  "vscode": {
   "interpreter": {
    "hash": "0a54084e6b208ee8d1ce3989ffc20924477a5f55f5a43e22e699a6741623861e"
   }
  }
 },
 "nbformat": 4,
 "nbformat_minor": 4
}
