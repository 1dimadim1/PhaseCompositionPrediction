{
 "cells": [
  {
   "cell_type": "code",
   "execution_count": null,
   "metadata": {},
   "outputs": [],
   "source": [
    "from pycalphad import Database, equilibrium, variables as v, calculate\n",
    "db_name = 'models/sgsol_2021_pycalphad.tdb'\n",
    "db = Database(db_name)"
   ]
  },
  {
   "cell_type": "code",
   "execution_count": null,
   "metadata": {},
   "outputs": [],
   "source": [
    "import random\n",
    "\n",
    "random.seed(10)\n",
    "all_components = list(db.elements)\n",
    "all_phases =  list(db.phases)\n",
    "all_phases.sort()\n",
    "all_components.sort()\n",
    "print('Количество фаз =' + str(len(all_phases)))\n",
    "print('Количество компонент =' + str(len(all_components)))\n",
    "print(all_components)\n",
    "# components = random.sample(all_components, 8)\n",
    "components = ['V', 'AU', 'RH', 'SM', 'ZR', 'AL', 'HG', 'SE']\n",
    "\n",
    "print(components)\n"
   ]
  },
  {
   "cell_type": "code",
   "execution_count": null,
   "metadata": {},
   "outputs": [],
   "source": [
    "counter = 0 \n",
    "components_phases = {}\n",
    "for comp in components:\n",
    "    components_phases[comp] = set()\n",
    "for item in db.phases.items():\n",
    "    # item[0] - name, item[1] - content\n",
    "    # item[1] - name, constituents, sublattices, model_hints\n",
    "    if len(item[1].constituents)>4:\n",
    "        # print(item[1].constituents)\n",
    "        counter += 1\n",
    "    \n",
    "    for species in item[1].constituents[0]:\n",
    "        # name, constituents, charge\n",
    "        for phase in components_phases.keys():\n",
    "            if phase in species.name:\n",
    "                components_phases[phase].add(item[0])\n",
    "    #     print(species)\n",
    "    # print(item[1].constituents[0])\n",
    "\n",
    "print(counter)\n",
    "print(components_phases)\n",
    "\n",
    "for comp, phases in components_phases.items():\n",
    "    mask = [1 if phase in phases else 0 for phase in all_phases]\n",
    "    components_phases[comp] = int(''.join(map(str, mask)), 2)"
   ]
  },
  {
   "cell_type": "code",
   "execution_count": null,
   "metadata": {},
   "outputs": [],
   "source": [
    "for comp, phases in components_phases.items():\n",
    "    print(f'{comp}: {bin(phases)}')"
   ]
  },
  {
   "cell_type": "code",
   "execution_count": null,
   "metadata": {},
   "outputs": [],
   "source": [
    "def getPhases(intMask):\n",
    "    return [all_phases[i] for i in range(len(all_phases)) if (intMask & (1 << i)) > 0]\n",
    "print(getPhases(components_phases['SE']))"
   ]
  },
  {
   "cell_type": "code",
   "execution_count": null,
   "metadata": {},
   "outputs": [],
   "source": [
    "for comp, phases in components_phases.items():\n",
    "    print(comp)\n",
    "    print(getPhases(phases))\n",
    "    for phase in getPhases(phases):\n",
    "        if str(phase) in db.symbols:\n",
    "            print(f'{phase} in {db.symbols}')\n",
    "print('GSM4SB3' in db.symbols)"
   ]
  },
  {
   "cell_type": "code",
   "execution_count": null,
   "metadata": {},
   "outputs": [],
   "source": [
    "import re\n",
    "\n",
    "# read the text file\n",
    "text = \"\"\n",
    "function_start = False\n",
    "with open(db_name, 'r') as f:\n",
    "    for line in f:\n",
    "        if \"Standard functions for the elements\" in line:\n",
    "            function_start = True\n",
    "        if \"Data for the elements from unary database\" in line:\n",
    "            function_start = False\n",
    "\n",
    "        if function_start:\n",
    "            text += line\n",
    "\n",
    "component_functions = {}\n",
    "# find all the component names in the text\n",
    "component_names = re.findall(r'\\$ ([A-Z][a-z]*)', text)\n",
    "for component in component_names:\n",
    "    # find the text between the component name and the next component name\n",
    "    pattern = r'\\$ {}.*?\\$ [A-Z][a-z]*'.format(component)\n",
    "    component_text = re.search(pattern, text, re.DOTALL).group()\n",
    "    \n",
    "    # find all the function names in the component text\n",
    "    function_names = re.findall(r'FUNCTION ([A-Z]*)', component_text)\n",
    "    \n",
    "    component_functions[component] = function_names"
   ]
  },
  {
   "cell_type": "code",
   "execution_count": null,
   "metadata": {},
   "outputs": [],
   "source": [
    "# print the functions for each component\n",
    "for component, functions in component_functions.items():\n",
    "    if len(functions) > 0:\n",
    "        print(component + ':')\n",
    "        print(functions)"
   ]
  }
 ],
 "metadata": {
  "kernelspec": {
   "display_name": "Python 3",
   "language": "python",
   "name": "python3"
  },
  "language_info": {
   "codemirror_mode": {
    "name": "ipython",
    "version": 3
   },
   "file_extension": ".py",
   "mimetype": "text/x-python",
   "name": "python",
   "nbconvert_exporter": "python",
   "pygments_lexer": "ipython3",
   "version": "3.7.8"
  },
  "orig_nbformat": 4,
  "vscode": {
   "interpreter": {
    "hash": "0a54084e6b208ee8d1ce3989ffc20924477a5f55f5a43e22e699a6741623861e"
   }
  }
 },
 "nbformat": 4,
 "nbformat_minor": 2
}
