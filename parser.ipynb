{
 "cells": [
  {
   "cell_type": "code",
   "execution_count": null,
   "metadata": {},
   "outputs": [],
   "source": [
    "from pycalphad import Database, equilibrium, variables as v, calculate\n",
    "db_name = 'models/sgsol_2021_pycalphad.tdb'\n",
    "db = Database(db_name)"
   ]
  },
  {
   "cell_type": "code",
   "execution_count": null,
   "metadata": {},
   "outputs": [],
   "source": [
    "# constants:\n",
    "P = 101325"
   ]
  },
  {
   "attachments": {},
   "cell_type": "markdown",
   "metadata": {},
   "source": [
    "# Компоненты и фазы"
   ]
  },
  {
   "cell_type": "code",
   "execution_count": null,
   "metadata": {},
   "outputs": [],
   "source": [
    "import random\n",
    "\n",
    "random.seed(10)\n",
    "all_components = list(db.elements)\n",
    "all_phases =  list(db.phases)\n",
    "all_phases.sort()\n",
    "all_components.sort()\n",
    "print('Количество фаз =' + str(len(all_phases)))\n",
    "print('Количество компонент =' + str(len(all_components)))\n",
    "print(all_components)\n",
    "# components = random.sample(all_components, 8)\n",
    "components = ['V', 'AU', 'RH', 'SM', 'ZR', 'AL', 'HG', 'SE']\n",
    "\n",
    "print(components)\n"
   ]
  },
  {
   "attachments": {},
   "cell_type": "markdown",
   "metadata": {},
   "source": [
    "# Бинарные фазы для компонент"
   ]
  },
  {
   "cell_type": "code",
   "execution_count": null,
   "metadata": {},
   "outputs": [],
   "source": [
    "counter = 0 \n",
    "components_phases = {}\n",
    "for comp in components:\n",
    "    components_phases[comp] = set()\n",
    "for item in db.phases.items():\n",
    "    # item[0] - name, item[1] - content\n",
    "    # item[1] - name, constituents, sublattices, model_hints\n",
    "    if len(item[1].constituents)>4:\n",
    "        counter += 1\n",
    "    \n",
    "    for species in item[1].constituents[0]:\n",
    "        # name, constituents, charge\n",
    "        for phase in components_phases.keys():\n",
    "            if phase in species.name:\n",
    "                components_phases[phase].add(item[0])\n",
    "\n",
    "print(counter)\n",
    "print(components_phases)\n",
    "\n",
    "for comp, phases in components_phases.items():\n",
    "    mask = [1 if phase in phases else 0 for phase in all_phases]\n",
    "    components_phases[comp] = int(''.join(map(str, mask)), 2)"
   ]
  },
  {
   "cell_type": "code",
   "execution_count": null,
   "metadata": {},
   "outputs": [],
   "source": [
    "for comp, phases in components_phases.items():\n",
    "    print(f'{comp}: {bin(phases)}')"
   ]
  },
  {
   "cell_type": "code",
   "execution_count": null,
   "metadata": {},
   "outputs": [],
   "source": [
    "def getPhases(int_mask):\n",
    "    return [all_phases[i] for i in range(len(all_phases)) if (int_mask & (1 << i)) > 0]\n",
    "def getAllPhases(comp_phases):\n",
    "    int_mask = 0\n",
    "    for phases in comp_phases.values():\n",
    "        int_mask |= phases\n",
    "    return getPhases(int_mask)\n",
    "# print(getAllPhases(components_phases))\n",
    "print(getPhases(components_phases['SE']))"
   ]
  },
  {
   "cell_type": "code",
   "execution_count": null,
   "metadata": {},
   "outputs": [],
   "source": [
    "for comp, phases in components_phases.items():\n",
    "    print(comp)\n",
    "    print(getPhases(phases))\n",
    "    for phase in getPhases(phases):\n",
    "        if str(phase) in db.symbols:\n",
    "            print(f'{phase} in {db.symbols}')"
   ]
  },
  {
   "attachments": {},
   "cell_type": "markdown",
   "metadata": {},
   "source": [
    "# Функции"
   ]
  },
  {
   "cell_type": "code",
   "execution_count": null,
   "metadata": {},
   "outputs": [],
   "source": [
    "import re\n",
    "\n",
    "# read the text file\n",
    "text = \"\"\n",
    "function_start = False\n",
    "with open(db_name, 'r') as f:\n",
    "    for line in f:\n",
    "        if \"Standard functions for the elements\" in line:\n",
    "            function_start = True\n",
    "        if \"Data for the elements from unary database\" in line:\n",
    "            function_start = False\n",
    "\n",
    "        if function_start:\n",
    "            text += line\n",
    "\n",
    "component_functions = {}\n",
    "# find all the component names in the text\n",
    "component_names = re.findall(r'\\$ ([A-Z][a-z]*)', text)\n",
    "for component in component_names:\n",
    "    # find the text between the component name and the next component name\n",
    "    pattern = r'\\$ {}.*?\\$ [A-Z][a-z]*'.format(component)\n",
    "    component_text = re.search(pattern, text, re.DOTALL).group()\n",
    "    \n",
    "    # find all the function names in the component text\n",
    "    function_names = re.findall(r'FUNCTION ([A-Z]*)', component_text)\n",
    "    \n",
    "    component_functions[component] = function_names\n",
    "component_functions = {k.upper():v for k,v in component_functions.items()}"
   ]
  },
  {
   "cell_type": "code",
   "execution_count": null,
   "metadata": {},
   "outputs": [],
   "source": [
    "# print the functions for each component\n",
    "for component, functions in component_functions.items():\n",
    "    if len(functions) > 0:\n",
    "        print(f\"{component} : {functions}\")"
   ]
  },
  {
   "cell_type": "code",
   "execution_count": null,
   "metadata": {},
   "outputs": [],
   "source": [
    "functions = set()\n",
    "for component in components:\n",
    "    if str(component) in component_functions.keys():\n",
    "        functions.update(component_functions[component])\n",
    "    else:\n",
    "        print(f'Check - {component}')\n",
    "print(functions)"
   ]
  },
  {
   "cell_type": "code",
   "execution_count": null,
   "metadata": {},
   "outputs": [],
   "source": [
    "from symengine import Piecewise, Symbol, lib\n",
    "import math\n",
    "\n",
    "temp = 1200\n",
    "T = Symbol('T')\n",
    "print(db.symbols['GBCCGD'])\n",
    "print(type(temp))\n",
    "expr = db.symbols['GBCCGD'].subs(T, temp)\n",
    "print(expr)\n",
    "# print(db.symbols['GBCCGD'].subs(T, 800).simplify())\n",
    "# print (math.log(14))\n"
   ]
  },
  {
   "cell_type": "code",
   "execution_count": null,
   "metadata": {},
   "outputs": [],
   "source": [
    "from collections import OrderedDict\n",
    "\n",
    "function_value = OrderedDict()\n",
    "for func in functions:\n",
    "    expression = Piecewise()\n",
    "    print(func)\n",
    "    if func not in db.symbols:\n",
    "        print('Wrong function: ' + str(func))\n",
    "        function_value[func] = None\n",
    "        continue\n",
    "    \n",
    "    for arg in db.symbols[func].args:\n",
    "        # condition = arg[0].subs(T, temp)\n",
    "        # expression = arg[1].subs(T, temp)\n",
    "        # result.append([condition, expression])\n",
    "        if arg.is_Add:\n",
    "            expression = arg.subs(T, temp).evalf()\n",
    "        elif arg.is_Float or arg.is_Integer:\n",
    "            expression = arg\n",
    "        else:\n",
    "            bool_res = False\n",
    "            if len(arg.atoms()) > 0:\n",
    "                bool_res = arg.subs(T, temp)\n",
    "            if arg.is_Boolean:\n",
    "                bool_res = arg\n",
    "            if bool_res: \n",
    "                function_value[func] = expression\n",
    "                break\n",
    "\n",
    "print(function_value)"
   ]
  },
  {
   "attachments": {},
   "cell_type": "markdown",
   "metadata": {},
   "source": [
    "# Расчет фазовых равновесий"
   ]
  },
  {
   "cell_type": "code",
   "execution_count": 31,
   "metadata": {},
   "outputs": [
    {
     "name": "stdout",
     "output_type": "stream",
     "text": [
      "Components: AL AL1 AL1AU AL1AU2 AL1AU4 AL2 AL2AU AL2AU5 AU HG RH SE SM V VA ZR\n",
      "Phases: "
     ]
    },
    {
     "ename": "DofError",
     "evalue": "MOB4: Sublattices of (frozenset({Species('VA', 'VA1'), Species('TI', 'TI1'), Species('MO', 'MO1')}), frozenset({Species('VA', 'VA1'), Species('B', 'B1')})) contains only VA (VACUUM) constituents",
     "output_type": "error",
     "traceback": [
      "\u001b[1;31m---------------------------------------------------------------------------\u001b[0m",
      "\u001b[1;31mDofError\u001b[0m                                  Traceback (most recent call last)",
      "\u001b[1;32m~\\AppData\\Local\\Temp\\ipykernel_2632\\495503403.py\u001b[0m in \u001b[0;36m<module>\u001b[1;34m\u001b[0m\n\u001b[0;32m     10\u001b[0m     \u001b[1;32mif\u001b[0m \u001b[0mcomp\u001b[0m \u001b[1;33m!=\u001b[0m \u001b[0mnecessary_component\u001b[0m\u001b[1;33m:\u001b[0m\u001b[1;33m\u001b[0m\u001b[1;33m\u001b[0m\u001b[0m\n\u001b[0;32m     11\u001b[0m         \u001b[0mconditions\u001b[0m\u001b[1;33m[\u001b[0m\u001b[0mv\u001b[0m\u001b[1;33m.\u001b[0m\u001b[0mX\u001b[0m\u001b[1;33m(\u001b[0m\u001b[0mcomp\u001b[0m\u001b[1;33m)\u001b[0m\u001b[1;33m]\u001b[0m \u001b[1;33m=\u001b[0m \u001b[0mamount\u001b[0m\u001b[1;33m\u001b[0m\u001b[1;33m\u001b[0m\u001b[0m\n\u001b[1;32m---> 12\u001b[1;33m \u001b[0meq\u001b[0m \u001b[1;33m=\u001b[0m \u001b[0mequilibrium\u001b[0m\u001b[1;33m(\u001b[0m\u001b[0mdb\u001b[0m\u001b[1;33m,\u001b[0m\u001b[0mcomponents\u001b[0m\u001b[1;33m,\u001b[0m\u001b[0mgetAllPhases\u001b[0m\u001b[1;33m(\u001b[0m\u001b[0mcomponents_phases\u001b[0m\u001b[1;33m)\u001b[0m\u001b[1;33m,\u001b[0m\u001b[0mconditions\u001b[0m\u001b[1;33m,\u001b[0m \u001b[0mverbose\u001b[0m\u001b[1;33m=\u001b[0m\u001b[1;32mTrue\u001b[0m\u001b[1;33m)\u001b[0m\u001b[1;33m\u001b[0m\u001b[1;33m\u001b[0m\u001b[0m\n\u001b[0m\u001b[0;32m     13\u001b[0m \u001b[0mgibbs_energy\u001b[0m \u001b[1;33m=\u001b[0m \u001b[0meq\u001b[0m\u001b[1;33m.\u001b[0m\u001b[0mGM\u001b[0m\u001b[1;33m\u001b[0m\u001b[1;33m\u001b[0m\u001b[0m\n",
      "\u001b[1;32m~\\AppData\\Roaming\\Python\\Python37\\site-packages\\pycalphad\\core\\equilibrium.py\u001b[0m in \u001b[0;36mequilibrium\u001b[1;34m(dbf, comps, phases, conditions, output, model, verbose, broadcast, calc_opts, to_xarray, scheduler, parameters, solver, callables, phase_records, **kwargs)\u001b[0m\n\u001b[0;32m    243\u001b[0m     \u001b[0moutput\u001b[0m \u001b[1;33m=\u001b[0m \u001b[0msorted\u001b[0m\u001b[1;33m(\u001b[0m\u001b[0moutput\u001b[0m\u001b[1;33m)\u001b[0m\u001b[1;33m\u001b[0m\u001b[1;33m\u001b[0m\u001b[0m\n\u001b[0;32m    244\u001b[0m     \u001b[1;32mif\u001b[0m \u001b[0mphase_records\u001b[0m \u001b[1;32mis\u001b[0m \u001b[1;32mNone\u001b[0m\u001b[1;33m:\u001b[0m\u001b[1;33m\u001b[0m\u001b[1;33m\u001b[0m\u001b[0m\n\u001b[1;32m--> 245\u001b[1;33m         \u001b[0mmodels\u001b[0m \u001b[1;33m=\u001b[0m \u001b[0minstantiate_models\u001b[0m\u001b[1;33m(\u001b[0m\u001b[0mdbf\u001b[0m\u001b[1;33m,\u001b[0m \u001b[0mcomps\u001b[0m\u001b[1;33m,\u001b[0m \u001b[0mactive_phases\u001b[0m\u001b[1;33m,\u001b[0m \u001b[0mmodel\u001b[0m\u001b[1;33m=\u001b[0m\u001b[0mmodel\u001b[0m\u001b[1;33m,\u001b[0m \u001b[0mparameters\u001b[0m\u001b[1;33m=\u001b[0m\u001b[0mparameters\u001b[0m\u001b[1;33m)\u001b[0m\u001b[1;33m\u001b[0m\u001b[1;33m\u001b[0m\u001b[0m\n\u001b[0m\u001b[0;32m    246\u001b[0m         phase_records = build_phase_records(dbf, comps, active_phases, conds, models,\n\u001b[0;32m    247\u001b[0m                                             \u001b[0moutput\u001b[0m\u001b[1;33m=\u001b[0m\u001b[1;34m'GM'\u001b[0m\u001b[1;33m,\u001b[0m \u001b[0mcallables\u001b[0m\u001b[1;33m=\u001b[0m\u001b[0mcallables\u001b[0m\u001b[1;33m,\u001b[0m\u001b[1;33m\u001b[0m\u001b[1;33m\u001b[0m\u001b[0m\n",
      "\u001b[1;32m~\\AppData\\Roaming\\Python\\Python37\\site-packages\\pycalphad\\core\\utils.py\u001b[0m in \u001b[0;36minstantiate_models\u001b[1;34m(dbf, comps, phases, model, parameters, symbols_only)\u001b[0m\n\u001b[0;32m    381\u001b[0m         \u001b[0mmod\u001b[0m \u001b[1;33m=\u001b[0m \u001b[0mmodels_defaultdict\u001b[0m\u001b[1;33m[\u001b[0m\u001b[0mname\u001b[0m\u001b[1;33m]\u001b[0m\u001b[1;33m\u001b[0m\u001b[1;33m\u001b[0m\u001b[0m\n\u001b[0;32m    382\u001b[0m         \u001b[1;32mif\u001b[0m \u001b[0misinstance\u001b[0m\u001b[1;33m(\u001b[0m\u001b[0mmod\u001b[0m\u001b[1;33m,\u001b[0m \u001b[0mtype\u001b[0m\u001b[1;33m)\u001b[0m\u001b[1;33m:\u001b[0m\u001b[1;33m\u001b[0m\u001b[1;33m\u001b[0m\u001b[0m\n\u001b[1;32m--> 383\u001b[1;33m             \u001b[0mmodels_dict\u001b[0m\u001b[1;33m[\u001b[0m\u001b[0mname\u001b[0m\u001b[1;33m]\u001b[0m \u001b[1;33m=\u001b[0m \u001b[0mmod\u001b[0m\u001b[1;33m(\u001b[0m\u001b[0mdbf\u001b[0m\u001b[1;33m,\u001b[0m \u001b[0mcomps\u001b[0m\u001b[1;33m,\u001b[0m \u001b[0mname\u001b[0m\u001b[1;33m,\u001b[0m \u001b[0mparameters\u001b[0m\u001b[1;33m=\u001b[0m\u001b[0mparameters\u001b[0m\u001b[1;33m)\u001b[0m\u001b[1;33m\u001b[0m\u001b[1;33m\u001b[0m\u001b[0m\n\u001b[0m\u001b[0;32m    384\u001b[0m         \u001b[1;32melse\u001b[0m\u001b[1;33m:\u001b[0m\u001b[1;33m\u001b[0m\u001b[1;33m\u001b[0m\u001b[0m\n\u001b[0;32m    385\u001b[0m             \u001b[0mmodels_dict\u001b[0m\u001b[1;33m[\u001b[0m\u001b[0mname\u001b[0m\u001b[1;33m]\u001b[0m \u001b[1;33m=\u001b[0m \u001b[0mmod\u001b[0m\u001b[1;33m\u001b[0m\u001b[1;33m\u001b[0m\u001b[0m\n",
      "\u001b[1;32m~\\AppData\\Roaming\\Python\\Python37\\site-packages\\pycalphad\\model.py\u001b[0m in \u001b[0;36m__init__\u001b[1;34m(self, dbe, comps, phase_name, parameters)\u001b[0m\n\u001b[0;32m    227\u001b[0m             raise DofError(\n\u001b[0;32m    228\u001b[0m                 \u001b[1;34m'{0}: Sublattices of {1} contains only VA (VACUUM) constituents'\u001b[0m\u001b[0;31m \u001b[0m\u001b[0;31m\\\u001b[0m\u001b[1;33m\u001b[0m\u001b[1;33m\u001b[0m\u001b[0m\n\u001b[1;32m--> 229\u001b[1;33m                 .format(self.phase_name, phase.constituents))\n\u001b[0m\u001b[0;32m    230\u001b[0m         \u001b[0mself\u001b[0m\u001b[1;33m.\u001b[0m\u001b[0mcomponents\u001b[0m \u001b[1;33m=\u001b[0m \u001b[0msorted\u001b[0m\u001b[1;33m(\u001b[0m\u001b[0mself\u001b[0m\u001b[1;33m.\u001b[0m\u001b[0mcomponents\u001b[0m\u001b[1;33m)\u001b[0m\u001b[1;33m\u001b[0m\u001b[1;33m\u001b[0m\u001b[0m\n\u001b[0;32m    231\u001b[0m         \u001b[0mdesired_active_pure_elements\u001b[0m \u001b[1;33m=\u001b[0m \u001b[1;33m[\u001b[0m\u001b[0mlist\u001b[0m\u001b[1;33m(\u001b[0m\u001b[0mx\u001b[0m\u001b[1;33m.\u001b[0m\u001b[0mconstituents\u001b[0m\u001b[1;33m.\u001b[0m\u001b[0mkeys\u001b[0m\u001b[1;33m(\u001b[0m\u001b[1;33m)\u001b[0m\u001b[1;33m)\u001b[0m \u001b[1;32mfor\u001b[0m \u001b[0mx\u001b[0m \u001b[1;32min\u001b[0m \u001b[0mself\u001b[0m\u001b[1;33m.\u001b[0m\u001b[0mcomponents\u001b[0m\u001b[1;33m]\u001b[0m\u001b[1;33m\u001b[0m\u001b[1;33m\u001b[0m\u001b[0m\n",
      "\u001b[1;31mDofError\u001b[0m: MOB4: Sublattices of (frozenset({Species('VA', 'VA1'), Species('TI', 'TI1'), Species('MO', 'MO1')}), frozenset({Species('VA', 'VA1'), Species('B', 'B1')})) contains only VA (VACUUM) constituents"
     ]
    }
   ],
   "source": [
    "necessary_component = 'VA'\n",
    "temp = 1200\n",
    "if necessary_component not in components:\n",
    "    components.append(necessary_component)\n",
    "\n",
    "conditions = {v.T:temp,v.P:P}\n",
    "# TODO: make random amount of component\n",
    "amount = 1.0/len(components)\n",
    "for comp in components:\n",
    "    if comp != necessary_component:\n",
    "        conditions[v.X(comp)] = amount\n",
    "eq = equilibrium(db,components,getAllPhases(components_phases),conditions, verbose=True)\n",
    "gibbs_energy = eq.GM"
   ]
  },
  {
   "cell_type": "code",
   "execution_count": 32,
   "metadata": {},
   "outputs": [],
   "source": [
    "gibbs_energy = '???'"
   ]
  },
  {
   "attachments": {},
   "cell_type": "markdown",
   "metadata": {},
   "source": [
    "# Текущие результаты:"
   ]
  },
  {
   "cell_type": "code",
   "execution_count": 33,
   "metadata": {},
   "outputs": [
    {
     "name": "stdout",
     "output_type": "stream",
     "text": [
      "Список компонентов:\n",
      "['V', 'AU', 'RH', 'SM', 'ZR', 'AL', 'HG', 'SE', 'VA']\n"
     ]
    }
   ],
   "source": [
    "print('Список компонентов:')\n",
    "print(components)"
   ]
  },
  {
   "cell_type": "code",
   "execution_count": 34,
   "metadata": {},
   "outputs": [
    {
     "name": "stdout",
     "output_type": "stream",
     "text": [
      "Все фазы для компонентов из списка:\n",
      "['AG2BA', 'AG2BA3', 'AG2CA', 'AG2DY', 'AG2ER', 'AG3BE8', 'AGCA3', 'AGCD', 'AGCD_ETA', 'AGCE', 'AGDY', 'AGER', 'AGGD_B2', 'AGIN2', 'AGLA_B2', 'AGMG3', 'AGND', 'AGSB_ORTHO', 'AGSC', 'AGSR', 'AGTI2', 'AL11SM3_HT', 'AL11SM3_LT', 'AL11_CEND3_H', 'AL28IR9', 'AL2AU', 'AL3CO', 'AL3DY_D024', 'AL3GD', 'AL3HF2', 'AL3HF4', 'AL3HF_D022', 'AL3HF_D023', 'AL3IR_D018', 'AL3LA', 'AL3M_D022', 'AL3NB', 'AL3NI', 'AL3NI2', 'AL3NI5', 'AL3PD', 'AL3PD2_D513', 'AL3PD5', 'AL3PR', 'AL3PT2', 'AL3PT5', 'AL3PU_L12', 'AL3U_L12', 'AL5W', 'AL63MO37', 'AL9CO2', 'AL9IR2', 'ALCU_THETA', 'ALFESI_GAMMA', 'ALMGZN_TAU', 'ALPHA_GE3RU2', 'ALPR', 'ALSM2', 'ASGE', 'ASNI', 'AU36ND17', 'AU4PR3', 'AU6LA', 'AUGA2_C1', 'AUPR_GAMMA', 'BA5PB3_D8L', 'BA6MG23_D8A', 'BABI3', 'BCC_B2', 'BCT_A5', 'BE12MO_D2B', 'BE12V_D2B', 'BI2LA', 'BI3ER5', 'BILA2', 'BILA_B1', 'BILI3_D03', 'BILI_HT', 'BIMN_B82', 'BIND_B1', 'BIRB3_D03', 'BIU_B1', 'CA5PB3', 'CA5SI3', 'CA5SN3_D8L', 'CD2PU', 'CD2SR', 'CD3SR5_D8L', 'CD6Y', 'CDGD_B2', 'CDIN_ALPHA', 'CEFE2_C15', 'CEMG', 'CEMG12', 'CEMG2', 'CEMG3', 'CENI', 'CENI2', 'CENI3', 'CENI5', 'CESB2', 'CESB_B1', 'CESI2_CC', 'CESI_B27', 'CESN3_L12', 'CEZN11', 'CO2DY', 'CO2ER_C15', 'CO2GD', 'CO2SI_ALPHA', 'CO2ZR', 'CO3CE', 'CRZN13', 'CU10SN3', 'CU2EU', 'CU2SE_ALPHA', 'CU33SI7_GAMMA', 'CU5YB_D2D', 'CU5ZR', 'CU6CE', 'CU77INSN23', 'CUND', 'CUSE_ALPHA', 'CUSM', 'CUTI', 'ERSB_B1', 'EUMG5', 'EUMG_B2', 'FCC_A1', 'FE7TA6_MU', 'FENDB_T2', 'FEUZR_LAMBDA', 'GA2LA_C32', 'GA3TB', 'GA7PT3', 'GA7SR8', 'GA7V6_D82', 'GDZN2', 'GE10SC11', 'GE31V17', 'GE3PT2', 'GE4SC5', 'GEK3', 'GENI2_C37', 'GEZR_B27', 'HF3SI2', 'HF5SN3_D88', 'HIGH_SIGMA', 'LA2MG17', 'M2R', 'MN2SM_LAVES_C14', 'MN2SN', 'MOB4', 'MOB_A', 'MONI3_GAMMA', 'NBSN2', 'ND2ZN17', 'ND3ZN11', 'ND3ZN22', 'ND4SB3', 'ND5SB3', 'ND7NI3_D102', 'NDB4', 'NDB6', 'NDB66', 'NDH2', 'NDH_GAMMA', 'NDNI2_C15', 'NDNI3', 'NDNI5H3', 'NDNI5H6', 'NDNI5_D2D', 'NDNI_B33', 'NDSB', 'NDSB2', 'NDZN11', 'NDZN2', 'NDZN3', 'NDZN_B2', 'NI10ZR7', 'NI11ZR9', 'NI12P5', 'NI17SM2', 'NI17TH2', 'NI17Y2', 'NI19SM5', 'NI21ZR8', 'NI2GA3', 'NI2IN', 'NI2IN3', 'NI2SI_C37', 'NI2SI_HEX', 'NI2SM', 'NI2TA', 'NI2TH_C32', 'NI2V', 'NI2V7', 'NI2Y', 'NI2Y3', 'NI3B', 'NI3GA2', 'NI3GA4', 'NI3IN', 'NI3IN7', 'NI3MOTA', 'NI3NB', 'NI3SB_D03', 'NI3SB_D0A', 'NI3SI2', 'NI3SI_MONOCL', 'NI3SI_ORTHO', 'NI3SM', 'NI3SN2', 'NI3SN4', 'NI3SN_LT', 'NI3TH7_D102', 'NI3TI', 'NI3V', 'NI3Y', 'NI3ZR', 'NI4B3_M', 'NI4B3_O', 'NI4W', 'NI4Y', 'NI5GA3', 'NI5P2_H', 'NI5P2_L', 'NI5SB2_LT', 'NI5SC_D2D', 'NI5SI2', 'NI5SM', 'NI5TH_D2D', 'NI5Y', 'NI5ZR', 'NI6P5', 'NI7SC2', 'NI7SM2', 'NI7TH2_ALPHA', 'NI7TH2_BETA', 'NI7TH4', 'NI7Y2', 'NI7ZR2', 'NI8TA', 'NIB', 'NIGA4', 'NIHF2', 'NIIN', 'NISB2_C18', 'NISB_B81', 'NISC2', 'NISI2_C1', 'NISI_B31', 'NISM', 'NISM3', 'NISR', 'NITA', 'NITA2', 'NITH', 'NITI2', 'NIW', 'NIW2', 'NIY', 'NIY3', 'NIZN_BETA1', 'NIZN_DELTA', 'NIZN_GAMMA', 'NIZR', 'PD2TB5', 'PD2ZN', 'PD39SI20', 'PD3PB', 'PD3SC', 'PD3SI', 'PD3SM7', 'PD3SN', 'PD3SN2_ALPHA', 'PD3SN2_BETA', 'PD3SN2_DELTA', 'PD3TB', 'PD3TB2_A', 'PD3TB2_B', 'PD3ZR', 'PD4SM3', 'PD4TB3', 'PD4ZR3', 'PD5PB3_ALPHA', 'PD5PB3_BETA', 'PD5PB3_GAMMA', 'PD5SI', 'PD5SM', 'PD7SM', 'PD7TB', 'PD9SI2', 'PDPB', 'PDPB2', 'PDSC', 'PDSC4', 'PDSN2', 'PDSN3', 'PDSN4', 'PDTB_A', 'PDTB_B', 'PDZN2', 'PDZN_1BETA', 'PDZN_BETA', 'PDZN_ETA', 'PDZN_GAMMA', 'PR2SB', 'PR4SB3', 'PR5SB3', 'PRSB', 'PRSB2', 'PSI', 'PT17SI8_ALPHA', 'PT17SI8_BETA', 'PT2SI_ALPHA', 'PT2SI_BETA', 'PT2SN3', 'PT2TA', 'PT2V', 'PT3PB', 'PT3SB2', 'PT3SB_D023', 'PT3SI_ALPHA', 'PT3SI_BETA', 'PT3SN_L12', 'PT3TA', 'PT3TI', 'PT3TI4', 'PT3V_D022', 'PT5SB_L12', 'PT5SI2', 'PT6SI5', 'PT782SI218', 'PT8TI', 'PTPB', 'PTPB4', 'PTSB2_C2', 'PTSB_B81', 'PTSI', 'PTSN2_C1', 'PTSN4_D1C', 'PTSN_B81', 'PTTA', 'PTTA6', 'PTTA_SIGMA', 'PTTI3', 'PTTI_ALPHA', 'PTTI_BETA', 'PTV3_A15', 'PTV_B19', 'PU2C3_D5C', 'PU3C2', 'PUC2_C11A', 'PUC_B1', 'P_PHASE', 'RE24TI5_A12', 'RE2SI', 'RE3B_E1A', 'RE7B3_D102', 'REB2', 'RED_P', 'RESI2', 'RESI_B20', 'RETI_B2', 'RHOMBOHEDRAL_A7', 'RHOMBO_A10', 'RHOMBO_C19', 'RU2SI', 'RU2SN3', 'RU2ZR', 'RU3SN7', 'RU4SI3', 'RUZR', 'R_PHASE', 'SB2SN3', 'SB2TB', 'SB2TM', 'SB3TB4_BETA', 'SB3TB4_D73', 'SB3TB5_D88', 'SB3TM5_ALPHA', 'SB3TM5_BETA', 'SB3Y4_D73', 'SB3Y5_D88', 'SBSN', 'SBTB_B1', 'SBTB_BETA', 'SBTM_B1', 'SBTM_BETA', 'SBY3', 'SBY_B1', 'SBZN_BETA', 'SBZN_DELTA', 'SBZN_EPSILON', 'SBZN_ETA', 'SBZN_GAMMA', 'SBZN_ZETA', 'SC2SI3', 'SC5SI3', 'SCSI', 'SI2SR_ALPHA', 'SI2SR_BETA', 'SI2TE3_HT', 'SI2TE3_LT', 'SI2U3', 'SI3N4', 'SI3SR5_D8L', 'SIB3', 'SIB6', 'SIC', 'SIGMA', 'SISR2_C37', 'SISR_B33', 'SIU3_L', 'SM11SN10', 'SM13ZN58', 'SM2SB', 'SM2SN3', 'SM2ZN17', 'SM3ZN11', 'SM3ZN22', 'SM4SB3', 'SM4SN3', 'SM5SB3', 'SM5SN3', 'SM5SN4', 'SMSB', 'SMSB2', 'SMSN2', 'SMSN3', 'SMZN11_D2B', 'SMZN2', 'SMZN3', 'SMZN_B2', 'SN10Y11', 'SN2Y', 'SN2ZR', 'SN3TI5', 'SN3V2', 'SN3Y', 'SN3Y5', 'SN3ZR5', 'SN4P3', 'SN4Y5', 'SN5TI6', 'SN5Y2', 'SNTI2', 'SNTI3', 'SNV3', 'SNZR4', 'SR2PB', 'SR2PB3', 'SR3PB5', 'SR5PB3', 'SR5PB4', 'SRB6', 'SRCU', 'SRCU5', 'SRPB', 'SRPB3', 'SRZN', 'SRZN13', 'SRZN2', 'SRZN5_ALPHA', 'SRZN5_BETA', 'TA2SI', 'TA3SI', 'TA4C3', 'TA5SI3', 'TASI2', 'TETRAGONAL_A6', 'TETRAGONAL_U', 'TETRAG_AD', 'TET_ALPHA1', 'TH2ZN17', 'TH2ZN_C16', 'THZN2', 'THZN4_D13', 'TI2N', 'TI2ZN', 'TI3AU', 'TI3B4', 'TI3N2', 'TI3SI', 'TI3SIC2', 'TI4N3', 'TI5SI4', 'TIAU', 'TIAU2', 'TIAU4', 'TIB_B27', 'TIMN_ALPHA', 'TIMN_BETA', 'TISI', 'TISI2', 'TIZN', 'V2ZR', 'ZRSI']\n"
     ]
    }
   ],
   "source": [
    "print('Все фазы для компонентов из списка:')\n",
    "print(getAllPhases(components_phases))"
   ]
  },
  {
   "cell_type": "code",
   "execution_count": 35,
   "metadata": {},
   "outputs": [
    {
     "name": "stdout",
     "output_type": "stream",
     "text": [
      "Все фазы для компонентов из списка(бинарные): 0b100000000000000000000000000000000000000000000000000001000000000111111111111111111111111111111111111111111111111111111111111111111111111111111111111111111111111111111111111111111111111111111111111111111111111111111111111111111101111111111111111111111111110000011111111110010111111111111111111111111111110000000000000000000000000011111111111111111111111111111111111111111111111111111111111111111111111111111111111111111111111111111111111111010000001000000000000000000000000111000000000000000000000000110000000000000000000000000000000000000000000000000000000000000000000100000000000000000000000000000000000000000000000000000000000000000001000000000000000000000000000000000000000000000000000000000001000000000000000000000000000010010000000010000000000000010000000100000000001000000000100000100000000000001001000000000000000000000000000000000000000000000000000000000000011100000000000000000000001000000000000001000000001000000000000000010000100000000000000000000000000000000100000000000011000000000000010000000000000000000000000000000000000000000000000000110010000000000100000000000000000000000000000000000001000000011100000000000000000000000000000000010000000100000010000010000010000000000000000000000000000000000000000000000000000000000000000000000000000000000000000000000000000000101000001111000000000000000000000111111111111110100000000000000000000000000000000011100000000001000110000000000000000000000000000000011100000000000000000000000000100000000100001000100011110000000000000000000000000000000000000000010000000000000000100000000000000000011001100000010110000000000000000000000000000000000000000000000100000000000000000000000000100000000000010000000000000100000000000000100000000000000000001100000000000000000000000000000000000001000000000000010001000000000000010000000000000100000000010000000000000000000011000000000000000110000000000000000000000000000000000100000000100011111111111111111111000000000000000000000000000000000000110000000000000001011000000000010111111111111110000000000000000000000100000000000110011100\n"
     ]
    }
   ],
   "source": [
    "int_mask = 0\n",
    "for phases in components_phases.values():\n",
    "    int_mask |= phases\n",
    "print(f'Все фазы для компонентов из списка(бинарные): {bin(int_mask)}')"
   ]
  },
  {
   "cell_type": "code",
   "execution_count": 36,
   "metadata": {},
   "outputs": [
    {
     "name": "stdout",
     "output_type": "stream",
     "text": [
      "Параметры расчета:\n",
      "Давление 101325, Температура 1200, Количестов вещества по 0.1111111111111111 для компоненты\n"
     ]
    }
   ],
   "source": [
    "print('Параметры расчета:')\n",
    "print(f'Давление {P}, Температура {temp}, Количестов вещества по {amount} для компоненты')"
   ]
  },
  {
   "cell_type": "code",
   "execution_count": 37,
   "metadata": {},
   "outputs": [
    {
     "name": "stdout",
     "output_type": "stream",
     "text": [
      "Значения функций для компонентов:\n",
      "OrderedDict([('GLIQAL', -57996.2850123662), ('GHSERHG', -112210.200050902), ('GLIQRH', -48315.478673478), ('GHSERV', -57463.158455921), ('GLIQGD', -102198.298584263), ('GFCCHG', 10046.6 + GHSERHG), ('GFE', None), ('GBCCGD', -104573.24219628), ('GHCPRH', 2400.0 + GHSERRH), ('GHCPAL', 3321.0 + GHSERAL), ('GHSERRH', 0), ('GFENI', None), ('GBCCZR', -69104.2656226965), ('GFCCGD', 500.0 + GHSERGD), ('GBCCCZ', -5725.0), ('GLIQV', 9415.59444185221 + GHSERV), ('GLIQSE', 0), ('GLAVAL', 5000.0 + GHSERAL), ('U', None), ('GBCCAU', 2930.0 + GHSERAU), ('GHSERVZ', -57463.158455921), ('GHSERGD', -105270.77857148), ('GHSERAL', -54976.3276402473), ('GBCCAL', 4307.4 + GHSERAL), ('GHSERSE', 0), ('GHSERZR', -68894.6050887857), ('GBCCL', None), ('LB', None), ('GHSERAU', -77272.6856248379), ('GLIQAU', 1288.9608 + GHSERAU), ('GBCCRH', 13360.0 + GHSERRH), ('GFCCZR', 6520.0 + GHSERZR), ('GB', None), ('GHCPAU', 2160.75 + GHSERAU), ('GBCCMZ', 0.0), ('GHCPHG', -103109.498678239), ('GLIQZR', 7251.2987626752 + GHSERZR), ('GRHOMBHG', -104149.498678239)])\n"
     ]
    }
   ],
   "source": [
    "print('Значения функций для компонентов:')\n",
    "print(function_value)"
   ]
  },
  {
   "cell_type": "code",
   "execution_count": 38,
   "metadata": {},
   "outputs": [
    {
     "name": "stdout",
     "output_type": "stream",
     "text": [
      "Значение энергии Гиббса для заданых параметров:\n",
      "???\n"
     ]
    }
   ],
   "source": [
    "print('Значение энергии Гиббса для заданых параметров:')\n",
    "print(gibbs_energy)"
   ]
  },
  {
   "cell_type": "markdown",
   "metadata": {},
   "source": []
  }
 ],
 "metadata": {
  "kernelspec": {
   "display_name": "Python 3 (ipykernel)",
   "language": "python",
   "name": "python3"
  },
  "language_info": {
   "codemirror_mode": {
    "name": "ipython",
    "version": 3
   },
   "file_extension": ".py",
   "mimetype": "text/x-python",
   "name": "python",
   "nbconvert_exporter": "python",
   "pygments_lexer": "ipython3",
   "version": "3.7.8"
  },
  "vscode": {
   "interpreter": {
    "hash": "0a54084e6b208ee8d1ce3989ffc20924477a5f55f5a43e22e699a6741623861e"
   }
  }
 },
 "nbformat": 4,
 "nbformat_minor": 4
}
