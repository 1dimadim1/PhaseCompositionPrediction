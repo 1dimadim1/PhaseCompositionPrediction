{
 "cells": [
  {
   "cell_type": "code",
   "execution_count": null,
   "metadata": {},
   "outputs": [],
   "source": [
    "from pycalphad import Database, equilibrium, variables as v, calculate\n",
    "db_name = 'models/sgsol_2021_pycalphad.tdb'\n",
    "db = Database(db_name)"
   ]
  },
  {
   "attachments": {},
   "cell_type": "markdown",
   "metadata": {},
   "source": [
    "Компоненты и фазы"
   ]
  },
  {
   "cell_type": "code",
   "execution_count": null,
   "metadata": {},
   "outputs": [],
   "source": [
    "import random\n",
    "\n",
    "random.seed(10)\n",
    "all_components = list(db.elements)\n",
    "all_phases =  list(db.phases)\n",
    "all_phases.sort()\n",
    "all_components.sort()\n",
    "print('Количество фаз =' + str(len(all_phases)))\n",
    "print('Количество компонент =' + str(len(all_components)))\n",
    "print(all_components)\n",
    "# components = random.sample(all_components, 8)\n",
    "components = ['V', 'AU', 'RH', 'SM', 'ZR', 'AL', 'HG', 'SE']\n",
    "\n",
    "print(components)\n"
   ]
  },
  {
   "attachments": {},
   "cell_type": "markdown",
   "metadata": {},
   "source": [
    "Бинарные фазы для компонент"
   ]
  },
  {
   "cell_type": "code",
   "execution_count": null,
   "metadata": {},
   "outputs": [],
   "source": [
    "counter = 0 \n",
    "components_phases = {}\n",
    "for comp in components:\n",
    "    components_phases[comp] = set()\n",
    "for item in db.phases.items():\n",
    "    # item[0] - name, item[1] - content\n",
    "    # item[1] - name, constituents, sublattices, model_hints\n",
    "    if len(item[1].constituents)>4:\n",
    "        counter += 1\n",
    "    \n",
    "    for species in item[1].constituents[0]:\n",
    "        # name, constituents, charge\n",
    "        for phase in components_phases.keys():\n",
    "            if phase in species.name:\n",
    "                components_phases[phase].add(item[0])\n",
    "\n",
    "print(counter)\n",
    "print(components_phases)\n",
    "\n",
    "for comp, phases in components_phases.items():\n",
    "    mask = [1 if phase in phases else 0 for phase in all_phases]\n",
    "    components_phases[comp] = int(''.join(map(str, mask)), 2)"
   ]
  },
  {
   "cell_type": "code",
   "execution_count": null,
   "metadata": {},
   "outputs": [],
   "source": [
    "for comp, phases in components_phases.items():\n",
    "    print(f'{comp}: {bin(phases)}')"
   ]
  },
  {
   "cell_type": "code",
   "execution_count": null,
   "metadata": {},
   "outputs": [],
   "source": [
    "def getPhases(intMask):\n",
    "    return [all_phases[i] for i in range(len(all_phases)) if (intMask & (1 << i)) > 0]\n",
    "print(getPhases(components_phases['SE']))"
   ]
  },
  {
   "cell_type": "code",
   "execution_count": null,
   "metadata": {},
   "outputs": [],
   "source": [
    "for comp, phases in components_phases.items():\n",
    "    print(comp)\n",
    "    print(getPhases(phases))\n",
    "    for phase in getPhases(phases):\n",
    "        if str(phase) in db.symbols:\n",
    "            print(f'{phase} in {db.symbols}')"
   ]
  },
  {
   "attachments": {},
   "cell_type": "markdown",
   "metadata": {},
   "source": [
    "Функции"
   ]
  },
  {
   "cell_type": "code",
   "execution_count": null,
   "metadata": {},
   "outputs": [],
   "source": [
    "import re\n",
    "\n",
    "# read the text file\n",
    "text = \"\"\n",
    "function_start = False\n",
    "with open(db_name, 'r') as f:\n",
    "    for line in f:\n",
    "        if \"Standard functions for the elements\" in line:\n",
    "            function_start = True\n",
    "        if \"Data for the elements from unary database\" in line:\n",
    "            function_start = False\n",
    "\n",
    "        if function_start:\n",
    "            text += line\n",
    "\n",
    "component_functions = {}\n",
    "# find all the component names in the text\n",
    "component_names = re.findall(r'\\$ ([A-Z][a-z]*)', text)\n",
    "for component in component_names:\n",
    "    # find the text between the component name and the next component name\n",
    "    pattern = r'\\$ {}.*?\\$ [A-Z][a-z]*'.format(component)\n",
    "    component_text = re.search(pattern, text, re.DOTALL).group()\n",
    "    \n",
    "    # find all the function names in the component text\n",
    "    function_names = re.findall(r'FUNCTION ([A-Z]*)', component_text)\n",
    "    \n",
    "    component_functions[component] = function_names\n",
    "component_functions = {k.upper():v for k,v in component_functions.items()}"
   ]
  },
  {
   "cell_type": "code",
   "execution_count": null,
   "metadata": {},
   "outputs": [],
   "source": [
    "# print the functions for each component\n",
    "for component, functions in component_functions.items():\n",
    "    if len(functions) > 0:\n",
    "        print(f\"{component} : {functions}\")"
   ]
  },
  {
   "cell_type": "code",
   "execution_count": 53,
   "metadata": {},
   "outputs": [
    {
     "name": "stdout",
     "output_type": "stream",
     "text": [
      "{'GBCCL', 'GLIQAU', 'GHCPAU', 'GLIQGD', 'GHSERVZ', 'GLIQRH', 'GLIQV', 'U', 'GHSERV', 'GB', 'GBCCAU', 'GBCCRH', 'GLIQSE', 'GLIQAL', 'GBCCMZ', 'GFCCGD', 'GFCCZR', 'GFCCHG', 'GHCPHG', 'GLIQZR', 'GHSERAU', 'GBCCAL', 'GHSERSE', 'GHSERGD', 'GRHOMBHG', 'GLAVAL', 'GHSERHG', 'GBCCZR', 'GHSERRH', 'GBCCCZ', 'GHSERAL', 'LB', 'GHCPAL', 'GBCCGD', 'GFE', 'GFENI', 'GHSERZR', 'GHCPRH'}\n"
     ]
    }
   ],
   "source": [
    "functions = set()\n",
    "for component in components:\n",
    "    if str(component) in component_functions.keys():\n",
    "        functions.update(component_functions[component])\n",
    "    else:\n",
    "        print(f'Check - {component}')\n",
    "print(functions)"
   ]
  },
  {
   "cell_type": "code",
   "execution_count": 34,
   "metadata": {},
   "outputs": [
    {
     "name": "stdout",
     "output_type": "stream",
     "text": [
      "Piecewise((12552.0 + GHSERAU - 9.385866*T, And(T < 3200.0, 298.15 <= T)), (0, True))\n",
      "Piecewise((240.75 + GHSERAU + 1.6*T, And(T < 3200.0, 298.15 <= T)), (0, True))\n",
      "Piecewise((6225.4407 + 88.80921026*T - 24.7214131*T*log(T) - 8665.73348*T**(-1.0) - 0.00285240521*T**2.0 - 3.14674076e-07*T**3.0, And(T < 1000.0, 100.0 <= T)), (146262.037 - 1208.70685*T + 159.352082*T*log(T) - 19678357.0*T**(-1.0) - 0.108247135*T**2.0 + 1.06945505e-05*T**3.0, And(T < 1508.15, 1000.0 <= T)), (-5397.314 + 192.336215*T - 38.5075*T*log(T), And(T < 3600.0, 1508.15 <= T)), (0, True))\n",
      "Piecewise((-7930.43 + 133.346053*T - 24.134*T*log(T) + 69460.0*T**(-1.0) - 0.003098*T**2.0 + 1.2175e-07*T**3.0, And(T < 790.0, 298.15 <= T)), (-7967.842 + 143.291093*T - 25.9*T*log(T) + 6.25e-05*T**2.0 - 6.8e-07*T**3.0, And(T < 4000.0, 790.0 <= T)), (0, True))\n",
      "Piecewise((11244.082 + 125.099593*T - 24.0178336*T*log(T) + 55846.0*T**(-1.0) - 0.003424186*T**2.0 - 1.68032e-07*T**3.0, And(T < 700.0, 298.15 <= T)), (35898.508 - 147.926418*T + 15.6492377*T*log(T) - 2638940.0*T**(-1.0) - 0.028665357*T**2.0 + 2.100572e-06*T**3.0, And(T < 2237.0, 700.0 <= T)), (-18208.54 + 332.974832*T - 50.58456*T*log(T), And(T < 2500.0, 2237.0 <= T)), (0, True))\n",
      "Piecewise((20764.117 + GHSERV - 9.455552*T - 5.19136e-22*T**7.0, And(T < 2183.0, 298.15 <= T)), (-19617.51 + 311.055983*T - 47.43*T*log(T), And(T < 4000.0, 2183.0 <= T)), (0, True))\n",
      "Piecewise((-7930.43 + 133.346053*T - 24.134*T*log(T) + 69460.0*T**(-1.0) - 0.003098*T**2.0 + 1.2175e-07*T**3.0, And(T < 790.0, 298.15 <= T)), (-7967.842 + 143.291093*T - 25.9*T*log(T) + 6.25e-05*T**2.0 - 6.8e-07*T**3.0, And(T < 2183.0, 790.0 <= T)), (-41689.864 + 321.140783*T - 47.43*T*log(T) + 6.44389e+31*T**(-9.0), And(T < 4000.0, 2183.0 <= T)), (0, True))\n",
      "Piecewise((4250.0 + GHSERAU - 1.1*T, And(T < 3200.0, 298.15 <= T)), (0, True))\n",
      "Piecewise((19000.0 + GHSERRH - 4.7*T, And(T < 2500.0, 298.15 <= T)), (0, True))\n",
      "Piecewise((50533.347 - 1178.288242*T + 194.1074389*T*log(T) - 2224398.0*T**(-1.0) - 0.390268991*T**2.0 + 0.000119219297*T**3.0, And(T < 494.0, 298.15 <= T)), (-5228.304 + 183.72559*T - 35.1456*T*log(T), And(T < 1000.0, 494.0 <= T)), (0, True))\n",
      "Piecewise((11005.045 + GHSERAL - 11.84185*T + 7.9337e-20*T**7.0, And(T < 933.473, 298.15 <= T)), (-795.991 + 177.430209*T - 31.748192*T*log(T), And(T < 2900.0, 933.473 <= T)), (0, True))\n",
      "Piecewise((0.0, And(T < 6000.0, 298.15 <= T)), (0, True))\n",
      "Piecewise((500.0 + GHSERGD, And(T < 3600.0, 200.0 <= T)), (0, True))\n",
      "Piecewise((7600.0 + GHSERZR - 0.9*T, And(T < 6000.0, 298.15 <= T)), (0, True))\n",
      "Piecewise((5.0 + GHSERHG + 8.368*T, And(T < 2000.0, 298.15 <= T)), (0, True))\n",
      "Piecewise((-10468.401 + 123.974598*T - 28.847*T*log(T) + 13330.0*T**(-1.0) + 0.01699705*T**2.0 - 2.4555667e-05*T**3.0, And(T < 234.32, 200.0 <= T)), (-11225.394 + 136.628158*T - 30.2091*T*log(T) + 35545.0*T**(-1.0) + 0.00107555*T**2.0 - 2.28298e-07*T**3.0, And(T < 2000.0, 234.32 <= T)), (0, True))\n",
      "Piecewise((18147.69 + GHSERZR - 9.080812*T + 1.6275e-22*T**7.0, And(T < 2128.0, 298.15 <= T)), (-8281.26 + 253.812609*T - 42.144*T*log(T), And(T < 6000.0, 2128.0 <= T)), (0, True))\n",
      "Piecewise((-6938.856 + 106.830098*T - 22.75455*T*log(T) - 25097.0*T**(-1.0) - 0.00385924*T**2.0 + 3.79625e-07*T**3.0, And(T < 929.4, 298.15 <= T)), (-93586.481 + 1021.69543*T - 155.7067449*T*log(T) + 10637210.0*T**(-1.0) + 0.08756015*T**2.0 - 1.1518713e-05*T**3.0, And(T < 1337.33, 929.4 <= T)), (314067.829 - 2016.378254*T + 263.2522592*T*log(T) - 67999832.0*T**(-1.0) - 0.118216828*T**2.0 + 8.923844e-06*T**3.0, And(T < 1735.8, 1337.33 <= T)), (-12133.783 + 165.272524*T - 30.9616*T*log(T), And(T < 3200.0, 1735.8 <= T)), (0, True))\n",
      "Piecewise((10083.0 + GHSERAL - 4.813*T, And(T < 2900.0, 298.15 <= T)), (0, True))\n",
      "Piecewise((-9376.371 + 174.205877*T - 33.6527*T*log(T) + 102249.0*T**(-1.0) + 0.02424314*T**2.0 - 1.5318461e-05*T**3.0, And(T < 494.0, 298.15 <= T)), (-37546.134 + 507.111538*T - 81.2006585*T*log(T) + 2614263.0*T**(-1.0) + 0.037144892*T**2.0 - 5.611026e-06*T**3.0, And(T < 800.0, 494.0 <= T)), (-12193.47 + 197.770166*T - 35.1456*T*log(T), And(T < 1000.0, 800.0 <= T)), (0, True))\n",
      "Piecewise((-6834.59 + 97.13101*T - 24.7214131*T*log(T) - 8665.7*T**(-1.0) - 0.00285240521*T**2.0 - 3.14674076e-07*T**3.0, And(T < 1000.0, 200.0 <= T)), (-6483.25 + 95.6919917*T - 24.6598297*T*log(T) - 0.00185225011*T**2.0 - 6.61211607e-07*T**3.0, And(T < 1508.15, 1000.0 <= T)), (-123124.99 + 699.1255361*T - 101.800197*T*log(T) + 29356890.3*T**(-1.0) + 0.0150644246*T**2.0 - 6.39165948e-07*T**3.0, And(T < 3600.0, 1508.15 <= T)), (0, True))\n",
      "Piecewise((-10668.401 + 123.274598*T - 28.847*T*log(T) + 13330.0*T**(-1.0) + 0.01699705*T**2.0 - 2.4555667e-05*T**3.0, And(T < 234.32, 200.0 <= T)), (-11425.394 + 135.928158*T - 30.2091*T*log(T) + 35545.0*T**(-1.0) + 0.00107555*T**2.0 - 2.28298e-07*T**3.0, And(T < 2000.0, 234.32 <= T)), (0, True))\n",
      "Piecewise((5000.0 + GHSERAL, And(T < 6000.0, 298.15 <= T)), (0, True))\n",
      "Piecewise((82356.855 - 3348.194658*T + 618.1933082*T*log(T) - 2366612.0*T**(-1.0) - 2.0282337*T**2.0 + 0.001183982129*T**3.0, And(T < 234.32, 200.0 <= T)), (-8961.207 + 135.232291*T - 32.257*T*log(T) + 6670.0*T**(-1.0) + 0.0097977*T**2.0 - 3.20695e-06*T**3.0, And(T < 400.0, 234.32 <= T)), (-7970.627 + 112.33345*T - 28.414*T*log(T) - 41095.0*T**(-1.0) + 0.00318535*T**2.0 - 1.077802e-06*T**3.0, And(T < 700.0, 400.0 <= T)), (-7161.338 + 90.797305*T - 24.87*T*log(T) - 27495.0*T**(-1.0) - 0.00166775*T**2.0 + 8.737e-09*T**3.0, And(T < 2000.0, 700.0 <= T)), (0, True))\n",
      "Piecewise((-525.539 + 124.9457*T - 25.607406*T*log(T) + 25233.0*T**(-1.0) - 0.000340084*T**2.0 - 9.729e-09*T**3.0 - 7.6143e-11*T**4.0, And(T < 2128.0, 298.15 <= T)), (-30705.955 + 264.284163*T - 42.144*T*log(T) + 1.276058e+32*T**(-9.0), And(T < 6000.0, 2128.0 <= T)), (0, True))\n",
      "Piecewise((-7848.828 + 132.020923*T - 24.0178336*T*log(T) + 55846.0*T**(-1.0) - 0.003424186*T**2.0 - 1.68032e-07*T**3.0, And(T < 1200.0, 298.15 <= T)), (-28367.852 + 305.771019*T - 48.3766632*T*log(T) + 3348162.0*T**(-1.0) + 0.00966345*T**2.0 - 1.512774e-06*T**3.0, And(T < 2237.0, 1200.0 <= T)), (-6237470.481 + 30151.634226*T - 3874.2105805*T*log(T) + 1880362184.0*T**(-1.0) + 1.049213607*T**2.0 - 5.3978814e-05*T**3.0, And(T < 2450.0, 2237.0 <= T)), (-44863.489 + 344.889895*T - 50.58456*T*log(T), And(T < 2500.0, 2450.0 <= T)), (0, True))\n",
      "Piecewise((-5725.0, And(T < 6000.0, 298.15 <= T)), (0, True))\n",
      "Piecewise((-7976.15 + 137.093038*T - 24.3671976*T*log(T) + 74092.0*T**(-1.0) - 0.001884662*T**2.0 - 8.77664e-07*T**3.0, And(T < 700.0, 298.15 <= T)), (-11276.24 + 223.048446*T - 38.5844296*T*log(T) + 74092.0*T**(-1.0) + 0.018531982*T**2.0 - 5.764227e-06*T**3.0, And(T < 933.473, 700.0 <= T)), (-11278.361 + 188.684136*T - 31.748192*T*log(T) - 1.230622e+28*T**(-9.0), And(T < 2900.0, 933.473 <= T)), (0, True))\n",
      "Piecewise((5481.0 + GHSERAL - 1.8*T, And(T < 2900.0, 298.15 <= T)), (0, True))\n",
      "Piecewise((-3600.78 + 95.01916415*T - 24.721413*T*log(T) - 8665.7*T**(-1.0) - 0.00285240521*T**2.0 - 3.14674076e-07*T**3.0, And(T < 1000.0, 100.0 <= T)), (152792.74 - 1349.588729*T + 180.097094*T*log(T) - 22038836.0*T**(-1.0) - 0.119550229*T**2.0 + 1.17915728e-05*T**3.0, And(T < 1508.15, 1000.0 <= T)), (-15783.76 + 202.2221768*T - 38.960425*T*log(T), And(T < 1586.15, 1508.15 <= T)), (-19850.56 + 224.8180291*T - 41.904333*T*log(T) + 995428.6*T**(-1.0) + 0.000858222759*T**2.0 - 3.77570269e-08*T**3.0, And(T < 3600.0, 1586.15 <= T)), (0, True))\n",
      "Piecewise((-7827.595 + 125.64905*T - 24.1618*T*log(T) + 34971.0*T**(-1.0) - 0.00437791*T**2.0, And(T < 2128.0, 130.0 <= T)), (-26085.921 + 262.724183*T - 42.144*T*log(T) - 1.342896e+31*T**(-9.0), And(T < 6000.0, 2128.0 <= T)), (0, True))\n",
      "Piecewise((3000.0 + GHSERRH - 0.5*T, And(T < 2500.0, 298.15 <= T)), (0, True))\n"
     ]
    }
   ],
   "source": [
    "for func in functions:\n",
    "    if func in db.symbols:\n",
    "        print(db.symbols[func])\n"
   ]
  },
  {
   "cell_type": "code",
   "execution_count": 56,
   "metadata": {},
   "outputs": [
    {
     "name": "stdout",
     "output_type": "stream",
     "text": [
      "Piecewise((70417.066733688 - 19777.1304*log(800), True), (-1024901.6494864 + 144077.6752*log(800), False), (145993.98144 - 31168.34*log(800), False), (161778.079997987 - 33523.4664*log(800), False), (0, True))\n"
     ]
    }
   ],
   "source": [
    "from symengine.lib.symengine_wrapper import Piecewise, Symbol\n",
    "import math\n",
    "\n",
    "T = Symbol('T')\n",
    "# print(db.symbols['GBCCGD'])\n",
    "print(db.symbols['GBCCGD'].subs(T, 800))\n",
    "# print (math.log(14))\n"
   ]
  }
 ],
 "metadata": {
  "kernelspec": {
   "display_name": "Python 3",
   "language": "python",
   "name": "python3"
  },
  "language_info": {
   "codemirror_mode": {
    "name": "ipython",
    "version": 3
   },
   "file_extension": ".py",
   "mimetype": "text/x-python",
   "name": "python",
   "nbconvert_exporter": "python",
   "pygments_lexer": "ipython3",
   "version": "3.7.8"
  },
  "orig_nbformat": 4,
  "vscode": {
   "interpreter": {
    "hash": "0a54084e6b208ee8d1ce3989ffc20924477a5f55f5a43e22e699a6741623861e"
   }
  }
 },
 "nbformat": 4,
 "nbformat_minor": 2
}
