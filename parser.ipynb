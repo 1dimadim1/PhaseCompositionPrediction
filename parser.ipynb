{
 "cells": [
  {
   "cell_type": "code",
   "execution_count": 1,
   "metadata": {},
   "outputs": [
    {
     "name": "stderr",
     "output_type": "stream",
     "text": [
      "C:\\Users\\Dmitry\\AppData\\Roaming\\Python\\Python37\\site-packages\\pycalphad\\io\\tdb.py:925: UserWarning: The type definition character `K` was defined in the following phases: ['FCC_A1', 'FCC_L12'], but no corresponding TYPE_DEFINITION line was found in the TDB.\n",
      "  warnings.warn(f\"The type definition character `{typechar}` was defined in the following phases: \"\n",
      "C:\\Users\\Dmitry\\AppData\\Roaming\\Python\\Python37\\site-packages\\pycalphad\\io\\tdb.py:925: UserWarning: The type definition character `S` was defined in the following phases: ['FCC_A1'], but no corresponding TYPE_DEFINITION line was found in the TDB.\n",
      "  warnings.warn(f\"The type definition character `{typechar}` was defined in the following phases: \"\n",
      "C:\\Users\\Dmitry\\AppData\\Roaming\\Python\\Python37\\site-packages\\pycalphad\\io\\tdb.py:925: UserWarning: The type definition character `P` was defined in the following phases: ['FCC_A1', 'FCC_4SL', 'HCP_A3', 'HCP_4SL'], but no corresponding TYPE_DEFINITION line was found in the TDB.\n",
      "  warnings.warn(f\"The type definition character `{typechar}` was defined in the following phases: \"\n",
      "C:\\Users\\Dmitry\\AppData\\Roaming\\Python\\Python37\\site-packages\\pycalphad\\io\\tdb.py:925: UserWarning: The type definition character `M` was defined in the following phases: ['BCC_A2', 'BCC_B2', 'A2_BCC', 'B2_BCC'], but no corresponding TYPE_DEFINITION line was found in the TDB.\n",
      "  warnings.warn(f\"The type definition character `{typechar}` was defined in the following phases: \"\n",
      "C:\\Users\\Dmitry\\AppData\\Roaming\\Python\\Python37\\site-packages\\pycalphad\\io\\tdb.py:925: UserWarning: The type definition character `U` was defined in the following phases: ['HCP_A3'], but no corresponding TYPE_DEFINITION line was found in the TDB.\n",
      "  warnings.warn(f\"The type definition character `{typechar}` was defined in the following phases: \"\n"
     ]
    }
   ],
   "source": [
    "from pycalphad import Database, equilibrium, variables as v, calculate\n",
    "db_name = 'models/sgsol_2021_pycalphad.tdb'\n",
    "db = Database(db_name)"
   ]
  },
  {
   "cell_type": "code",
   "execution_count": 2,
   "metadata": {},
   "outputs": [],
   "source": [
    "# constants:\n",
    "P = 101325"
   ]
  },
  {
   "attachments": {},
   "cell_type": "markdown",
   "metadata": {},
   "source": [
    "# Компоненты и фазы"
   ]
  },
  {
   "cell_type": "code",
   "execution_count": 3,
   "metadata": {},
   "outputs": [
    {
     "name": "stdout",
     "output_type": "stream",
     "text": [
      "Количество фаз =2023\n",
      "Количество компонент =80\n",
      "['AG', 'AL', 'AM', 'AS', 'AU', 'B', 'BA', 'BE', 'BI', 'C', 'CA', 'CD', 'CE', 'CO', 'CR', 'CS', 'CU', 'DY', 'ER', 'EU', 'FE', 'GA', 'GD', 'GE', 'H', 'HF', 'HG', 'HO', 'IN', 'IR', 'K', 'LA', 'LI', 'LU', 'MG', 'MN', 'MO', 'N', 'NA', 'NB', 'ND', 'NI', 'NP', 'O', 'OS', 'P', 'PA', 'PB', 'PD', 'PR', 'PT', 'PU', 'RB', 'RE', 'RH', 'RU', 'S', 'SB', 'SC', 'SE', 'SI', 'SM', 'SN', 'SR', 'TA', 'TB', 'TC', 'TE', 'TH', 'TI', 'TL', 'TM', 'U', 'V', 'VA', 'W', 'Y', 'YB', 'ZN', 'ZR']\n",
      "['V', 'AU', 'RH', 'SM', 'ZR', 'AL', 'HG', 'SE']\n"
     ]
    }
   ],
   "source": [
    "import random\n",
    "\n",
    "random.seed(10)\n",
    "all_components = list(db.elements)\n",
    "all_phases =  list(db.phases)\n",
    "all_phases.sort()\n",
    "all_components.sort()\n",
    "print('Количество фаз =' + str(len(all_phases)))\n",
    "print('Количество компонент =' + str(len(all_components)))\n",
    "print(all_components)\n",
    "# components = random.sample(all_components, 8)\n",
    "components = ['V', 'AU', 'RH', 'SM', 'ZR', 'AL', 'HG', 'SE']\n",
    "\n",
    "print(components)\n"
   ]
  },
  {
   "attachments": {},
   "cell_type": "markdown",
   "metadata": {},
   "source": [
    "# Бинарные фазы для компонент"
   ]
  },
  {
   "cell_type": "code",
   "execution_count": 4,
   "metadata": {},
   "outputs": [
    {
     "name": "stdout",
     "output_type": "stream",
     "text": [
      "['AGSB_ORTHO', 'AL11SM3_HT', 'AL11SM3_LT', 'AL21V2', 'AL23V4', 'AL2PD5', 'AL2SM', 'AL2ZR', 'AL2ZR3', 'AL3M_D022', 'AL3NB', 'AL3PD2_D513', 'AL3SM', 'AL3ZR', 'AL3ZR2', 'AL3ZR5', 'AL45V7', 'AL4RE_LT', 'AL4ZR5', 'AL5FE4', 'AL8V5', 'ALCE_AMORPHOUS', 'ALCR2_C11B', 'ALCU_THETA', 'ALM_D019', 'ALNB3', 'ALPD2_C37', 'ALPHA_PU', 'ALPT3', 'ALRE2_C11B', 'ALSM', 'ALSM2', 'ALTA_SIGMA', 'ALTI', 'ALZR', 'ALZR2', 'ALZR3', 'AU10ZR7', 'AU2HF', 'AU2ZR', 'AU2ZR3', 'AU3ZR', 'AU4ZR', 'AU51ND14', 'AU5HF', 'AUHF_ALPHA', 'AUHF_BETA', 'AUZN_BETA', 'AUZR', 'AUZR2', 'AUZR3', 'BCT_A5', 'CU2SE_ALPHA', 'CU2SE_BETA', 'DIAMOND_A4', 'D_GAMMA', 'FEUZR_DELTA', 'FEZR2', 'FEZR3', 'GA5V6', 'GA7V6_D82', 'GAMMA_PU', 'GAV3_A15', 'HEXAGONAL_A8', 'IR3ZR', 'IRZR_ALPHA', 'IRZR_BETA', 'LAVES_C14', 'LAVES_C15', 'LAVES_C36', 'LIQUID', 'MB2_C32', 'MN2ZR', 'MSM_A', 'MSM_B', 'NI10ZR7', 'NI3ZR', 'NI5ZR', 'OMEGA_ZR', 'ORTHORHOMBIC_A20', 'PD3ZR', 'PT2V', 'PT3V_D022', 'PTV3_A15', 'PTV_B19', 'RHOMBO_A10', 'RHOMBO_C19', 'SIGMA', 'TETRAGONAL_A6', 'TETRAGONAL_U', 'TIAU4', 'V2ZR', 'V3SI']\n"
     ]
    }
   ],
   "source": [
    "counter = 0 \n",
    "possible_phases = []\n",
    "\n",
    "for phase in db.phases.items():\n",
    "    # item[0] - name, item[1] - content\n",
    "    # item[1] - name, constituents, sublattices, model_hints    \n",
    "    found_sublattices = 0\n",
    "    for sublattice_c in phase[1].constituents:\n",
    "        found = False\n",
    "        for comp in components:\n",
    "            if len([species.name for species in sublattice_c if species.name == comp]) > 0:\n",
    "                found = True\n",
    "                break\n",
    "        if found:\n",
    "            found_sublattices += 1\n",
    "        else:\n",
    "            break\n",
    "    \n",
    "    if found_sublattices == len(phase[1].constituents):\n",
    "        possible_phases.append(phase[0])\n",
    "        \n",
    "possible_phases.sort()\n",
    "print(possible_phases)"
   ]
  },
  {
   "cell_type": "code",
   "execution_count": 5,
   "metadata": {},
   "outputs": [
    {
     "name": "stdout",
     "output_type": "stream",
     "text": [
      "True\n"
     ]
    }
   ],
   "source": [
    "import numpy as np\n",
    "\n",
    "def getPhases(int_mask, all_phases = all_phases):\n",
    "    return [all_phases[i] for i in range(len(all_phases)) if (int_mask & (1 << i)) > 0]\n",
    "def phasesToMask(phases, all_phases = all_phases):\n",
    "    mask = [1 if phase in phases else 0 for phase in all_phases][::-1]\n",
    "    return int(''.join(map(str, mask)), 2)\n",
    "def phaseToMask(phase, all_phases = all_phases):\n",
    "    mask = [1 if phase == phase_ else 0 for phase_ in all_phases][::-1]\n",
    "    return int(''.join(map(str, mask)), 2)\n",
    "\n",
    "phases_mask = phasesToMask(possible_phases)\n",
    "print(possible_phases == getPhases(phases_mask, all_phases))"
   ]
  },
  {
   "attachments": {},
   "cell_type": "markdown",
   "metadata": {},
   "source": [
    "# Расчет фазовых равновесий"
   ]
  },
  {
   "cell_type": "code",
   "execution_count": 6,
   "metadata": {},
   "outputs": [
    {
     "name": "stdout",
     "output_type": "stream",
     "text": [
      "{T: 1200, P: 101325, X_AU: 0.125, X_RH: 0.125, X_SM: 0.125, X_ZR: 0.125, X_AL: 0.125, X_HG: 0.125, X_SE: 0.125}\n",
      "['V', 'AU', 'RH', 'SM', 'ZR', 'AL', 'HG', 'SE', 'VA']\n"
     ]
    }
   ],
   "source": [
    "skip_cond_component = 'V'\n",
    "temp = 1200\n",
    "conditions = {v.T:temp,v.P:P}\n",
    "components = ['V', 'AU', 'RH', 'SM', 'ZR', 'AL', 'HG', 'SE']\n",
    "# TODO: make random amount of component\n",
    "amount = 1.0/len(components)\n",
    "\n",
    "for comp in components:\n",
    "    if comp != skip_cond_component:\n",
    "        conditions[v.X(comp)] = amount\n",
    "\n",
    "calc_components = components\n",
    "calc_components.append('VA')\n",
    "print(conditions)\n",
    "print(calc_components)\n",
    "eq = equilibrium(db,calc_components,getPhases(phases_mask),conditions, verbose=False)\n",
    "# gibbs_energy = eq.GM"
   ]
  },
  {
   "cell_type": "code",
   "execution_count": 7,
   "metadata": {},
   "outputs": [],
   "source": [
    "def flatten_array(arr):\n",
    "    result = []\n",
    "    for item in arr.flat:\n",
    "        if isinstance(item, np.ndarray):\n",
    "            result.extend(flatten_array(item))\n",
    "        else:\n",
    "            result.append(item)\n",
    "    return result"
   ]
  },
  {
   "cell_type": "code",
   "execution_count": 8,
   "metadata": {},
   "outputs": [
    {
     "name": "stdout",
     "output_type": "stream",
     "text": [
      "['AUZR', 'LIQUID', 'AL2SM', '', '', '', '', '', '']\n",
      "[['AUZR'], ['LIQUID'], ['AL2SM'], [], [], [], [], [], []]\n"
     ]
    }
   ],
   "source": [
    "eq_phases = flatten_array(np.array(eq.Phase))\n",
    "print(eq_phases)\n",
    "eq_phases_bin = [phaseToMask(phase) for phase in eq_phases]\n",
    "print([getPhases(phase) for phase in eq_phases_bin])"
   ]
  },
  {
   "attachments": {},
   "cell_type": "markdown",
   "metadata": {},
   "source": [
    "# Функции"
   ]
  },
  {
   "cell_type": "code",
   "execution_count": 9,
   "metadata": {},
   "outputs": [
    {
     "name": "stdout",
     "output_type": "stream",
     "text": [
      "['AGSB_ORTHO', 'AL11SM3_HT', 'AL11SM3_LT', 'AL21V2', 'AL23V4', 'AL2PD5', 'AL2SM', 'AL2ZR', 'AL2ZR3', 'AL3M_D022', 'AL3NB', 'AL3PD2_D513', 'AL3SM', 'AL3ZR', 'AL3ZR2', 'AL3ZR5', 'AL45V7', 'AL4RE_LT', 'AL4ZR5', 'AL5FE4', 'AL8V5', 'ALCE_AMORPHOUS', 'ALCR2_C11B', 'ALCU_THETA', 'ALM_D019', 'ALNB3', 'ALPD2_C37', 'ALPHA_PU', 'ALPT3', 'ALRE2_C11B', 'ALSM', 'ALSM2', 'ALTA_SIGMA', 'ALTI', 'ALZR', 'ALZR2', 'ALZR3', 'AU10ZR7', 'AU2HF', 'AU2ZR', 'AU2ZR3', 'AU3ZR', 'AU4ZR', 'AU51ND14', 'AU5HF', 'AUHF_ALPHA', 'AUHF_BETA', 'AUZN_BETA', 'AUZR', 'AUZR2', 'AUZR3', 'BCT_A5', 'CU2SE_ALPHA', 'CU2SE_BETA', 'DIAMOND_A4', 'D_GAMMA', 'FEUZR_DELTA', 'FEZR2', 'FEZR3', 'GA5V6', 'GA7V6_D82', 'GAMMA_PU', 'GAV3_A15', 'HEXAGONAL_A8', 'IR3ZR', 'IRZR_ALPHA', 'IRZR_BETA', 'LAVES_C14', 'LAVES_C15', 'LAVES_C36', 'LIQUID', 'MB2_C32', 'MN2ZR', 'MSM_A', 'MSM_B', 'NI10ZR7', 'NI3ZR', 'NI5ZR', 'OMEGA_ZR', 'ORTHORHOMBIC_A20', 'PD3ZR', 'PT2V', 'PT3V_D022', 'PTV3_A15', 'PTV_B19', 'RHOMBO_A10', 'RHOMBO_C19', 'SIGMA', 'TETRAGONAL_A6', 'TETRAGONAL_U', 'TIAU4', 'V2ZR', 'V3SI']\n"
     ]
    }
   ],
   "source": [
    "from pycalphad.core.utils import instantiate_models\n",
    "# instantiate_models(db, components, getAllPhases(components_phases))\n",
    "print(getPhases(phases_mask))"
   ]
  },
  {
   "cell_type": "code",
   "execution_count": 49,
   "metadata": {},
   "outputs": [
    {
     "name": "stdout",
     "output_type": "stream",
     "text": [
      "(1, -22038836.0/T**1.0 + 180.097094*T*log(T) - 1349.588729*T - 0.119550229*T**2.0 + 1.17915728e-5*T**3.0 + 152792.74)\n"
     ]
    },
    {
     "data": {
      "text/plain": [
       "{'T**0': 152792.740000000, 'T**(-1.0)': 0, 'T': 0, 'T**2.0': 0, 'log(T)': 0}"
      ]
     },
     "execution_count": 49,
     "metadata": {},
     "output_type": "execute_result"
    }
   ],
   "source": [
    "from symengine import Piecewise, Symbol, lib\n",
    "import math\n",
    "import sympy\n",
    "\n",
    "def parseMul(mul):\n",
    "    key = \"\"\n",
    "    value = 0\n",
    "    for arg in mul:\n",
    "        if isinstance(arg, float):\n",
    "            value = arg\n",
    "        else:\n",
    "            key = str(arg)\n",
    "    return (key, value)\n",
    "        \n",
    "\n",
    "def parsePiecewise(expr, temp):\n",
    "    argument = 0\n",
    "    for arg in expr.args_as_sympy():\n",
    "        if arg.is_Add:\n",
    "            argument = arg.as_coeff_Mul()\n",
    "        if arg.is_Boolean and arg.subs(T,temp):\n",
    "            break\n",
    "    if argument == 0:\n",
    "        print(f\"Failed to parse:{expr}\")\n",
    "    print(argument)\n",
    "\n",
    "    parsed_dict = {}\n",
    "\n",
    "    for arg in argument[1].args:\n",
    "        ordered_arg = arg.as_ordered_factors()\n",
    "        if len(ordered_arg) == 1:\n",
    "           parsed_dict[\"T**0\"] = ordered_arg[0]\n",
    "           continue\n",
    "        elif len(ordered_arg) == 3:           \n",
    "            key, value = parseMul(ordered_arg)\n",
    "            parsed_dict[key] = value\n",
    "    \n",
    "    return parsed_dict\n",
    "\n",
    "temp = 1200\n",
    "T = Symbol('T')\n",
    "expr = db.symbols['GBCCGD']\n",
    "parsePiecewise(expr, temp)"
   ]
  },
  {
   "attachments": {},
   "cell_type": "markdown",
   "metadata": {},
   "source": [
    "## Парсер функций"
   ]
  },
  {
   "cell_type": "code",
   "execution_count": 73,
   "metadata": {},
   "outputs": [],
   "source": [
    "from pycalphad.core.utils import instantiate_models\n",
    "models = instantiate_models(db, calc_components, getPhases(phases_mask))"
   ]
  },
  {
   "cell_type": "code",
   "execution_count": 74,
   "metadata": {},
   "outputs": [
    {
     "ename": "AttributeError",
     "evalue": "'Add' object has no attribute 'extract_coeffs'",
     "output_type": "error",
     "traceback": [
      "\u001b[1;31m---------------------------------------------------------------------------\u001b[0m",
      "\u001b[1;31mAttributeError\u001b[0m                            Traceback (most recent call last)",
      "\u001b[1;32m~\\AppData\\Local\\Temp\\ipykernel_25308\\70986487.py\u001b[0m in \u001b[0;36m<module>\u001b[1;34m\u001b[0m\n\u001b[0;32m      2\u001b[0m \u001b[0mT\u001b[0m \u001b[1;33m=\u001b[0m \u001b[0mSymbol\u001b[0m\u001b[1;33m(\u001b[0m\u001b[1;34m'T'\u001b[0m\u001b[1;33m)\u001b[0m\u001b[1;33m\u001b[0m\u001b[1;33m\u001b[0m\u001b[0m\n\u001b[0;32m      3\u001b[0m \u001b[1;33m\u001b[0m\u001b[0m\n\u001b[1;32m----> 4\u001b[1;33m \u001b[0mprint\u001b[0m\u001b[1;33m(\u001b[0m\u001b[0mmodels\u001b[0m\u001b[1;33m[\u001b[0m\u001b[1;34m'AUZR'\u001b[0m\u001b[1;33m]\u001b[0m\u001b[1;33m.\u001b[0m\u001b[0mast\u001b[0m\u001b[1;33m.\u001b[0m\u001b[0msubs\u001b[0m\u001b[1;33m(\u001b[0m\u001b[0mT\u001b[0m\u001b[1;33m,\u001b[0m \u001b[0mtemp\u001b[0m\u001b[1;33m)\u001b[0m\u001b[1;33m.\u001b[0m\u001b[0mextract_coeffs\u001b[0m\u001b[1;33m(\u001b[0m\u001b[1;33m)\u001b[0m\u001b[1;33m)\u001b[0m\u001b[1;33m\u001b[0m\u001b[1;33m\u001b[0m\u001b[0m\n\u001b[0m\u001b[0;32m      5\u001b[0m \u001b[1;31m# print(sympy.Poly(models['AUZR'], temp).coeffs()[0])\u001b[0m\u001b[1;33m\u001b[0m\u001b[1;33m\u001b[0m\u001b[1;33m\u001b[0m\u001b[0m\n\u001b[0;32m      6\u001b[0m \u001b[1;31m# models['AUZR'].args\u001b[0m\u001b[1;33m\u001b[0m\u001b[1;33m\u001b[0m\u001b[1;33m\u001b[0m\u001b[0m\n",
      "\u001b[1;31mAttributeError\u001b[0m: 'Add' object has no attribute 'extract_coeffs'"
     ]
    }
   ],
   "source": [
    "\n",
    "temp = 1200\n",
    "T = Symbol('T')\n",
    "\n",
    "print(models['AUZR'].ast.subs(T, temp).extract_coeffs())\n",
    "# print(sympy.Poly(models['AUZR'], temp).coeffs()[0])\n",
    "# models['AUZR'].args\n"
   ]
  },
  {
   "cell_type": "code",
   "execution_count": null,
   "metadata": {},
   "outputs": [
    {
     "ename": "AttributeError",
     "evalue": "'Integer' object has no attribute 'extract_coeffs'",
     "output_type": "error",
     "traceback": [
      "\u001b[1;31m---------------------------------------------------------------------------\u001b[0m",
      "\u001b[1;31mAttributeError\u001b[0m                            Traceback (most recent call last)",
      "\u001b[1;32m~\\AppData\\Local\\Temp\\ipykernel_25308\\771658601.py\u001b[0m in \u001b[0;36m<module>\u001b[1;34m\u001b[0m\n\u001b[0;32m     13\u001b[0m     \u001b[1;32mif\u001b[0m \u001b[0mcond\u001b[0m\u001b[1;33m.\u001b[0m\u001b[0msubs\u001b[0m\u001b[1;33m(\u001b[0m\u001b[0mT\u001b[0m\u001b[1;33m,\u001b[0m \u001b[0mtemp\u001b[0m\u001b[1;33m)\u001b[0m\u001b[1;33m:\u001b[0m\u001b[1;33m\u001b[0m\u001b[1;33m\u001b[0m\u001b[0m\n\u001b[0;32m     14\u001b[0m         \u001b[0mpolynomial_expr\u001b[0m \u001b[1;33m=\u001b[0m \u001b[0msympy\u001b[0m\u001b[1;33m.\u001b[0m\u001b[0msimplify\u001b[0m\u001b[1;33m(\u001b[0m\u001b[0mexpr\u001b[0m\u001b[1;33m.\u001b[0m\u001b[0msubs\u001b[0m\u001b[1;33m(\u001b[0m\u001b[0mT\u001b[0m\u001b[1;33m,\u001b[0m \u001b[0mtemp\u001b[0m\u001b[1;33m)\u001b[0m\u001b[1;33m)\u001b[0m\u001b[1;33m\u001b[0m\u001b[1;33m\u001b[0m\u001b[0m\n\u001b[1;32m---> 15\u001b[1;33m         \u001b[0mexpr_coeffs\u001b[0m \u001b[1;33m=\u001b[0m \u001b[0mpolynomial_expr\u001b[0m\u001b[1;33m.\u001b[0m\u001b[0mextract_coeffs\u001b[0m\u001b[1;33m(\u001b[0m\u001b[1;33m)\u001b[0m\u001b[1;33m\u001b[0m\u001b[1;33m\u001b[0m\u001b[0m\n\u001b[0m\u001b[0;32m     16\u001b[0m         \u001b[0mcoeffs\u001b[0m\u001b[1;33m.\u001b[0m\u001b[0mextend\u001b[0m\u001b[1;33m(\u001b[0m\u001b[0mexpr_coeffs\u001b[0m\u001b[1;33m)\u001b[0m\u001b[1;33m\u001b[0m\u001b[1;33m\u001b[0m\u001b[0m\n\u001b[0;32m     17\u001b[0m \u001b[1;33m\u001b[0m\u001b[0m\n",
      "\u001b[1;31mAttributeError\u001b[0m: 'Integer' object has no attribute 'extract_coeffs'"
     ]
    }
   ],
   "source": [
    "import sympy\n",
    "\n",
    "temp = 1200\n",
    "T = sympy.Symbol('T')\n",
    "\n",
    "piecewise_expr = sympy.Piecewise(\n",
    "    (2*T + 3, T < 1000),\n",
    "    (3*T + 1, T >= 1000)\n",
    ")\n",
    "\n",
    "coeffs = []\n",
    "for expr, cond in piecewise_expr.args:\n",
    "    if cond.subs(T, temp):\n",
    "        polynomial_expr = sympy.simplify(expr.subs(T, temp))\n",
    "        expr_coeffs = polynomial_expr.extract_coeffs()\n",
    "        coeffs.extend(expr_coeffs)\n",
    "\n",
    "print(coeffs)\n"
   ]
  },
  {
   "cell_type": "code",
   "execution_count": null,
   "metadata": {},
   "outputs": [],
   "source": [
    "for model in models:\n",
    "    print(model)\n",
    "    print(models[model].ast)\n",
    "    break"
   ]
  },
  {
   "cell_type": "code",
   "execution_count": null,
   "metadata": {},
   "outputs": [
    {
     "name": "stdout",
     "output_type": "stream",
     "text": [
      "x -10\n",
      "100\n"
     ]
    }
   ],
   "source": [
    "import sympy\n",
    "\n",
    "def get_piecewise_true_arg(piecewise_func, x_val):\n",
    "    \"\"\"\n",
    "    Returns the true argument of piecewise_func for x = x_val. Assumes piecewise_func is of the form Piecewise((expr1, cond1), (expr2, cond2), ...).\n",
    "    \"\"\"\n",
    "    x = sympy.Symbol('x')\n",
    "    \n",
    "    for expr, cond in piecewise_func.args:\n",
    "        if cond.subs(x, x_val):\n",
    "            print(x, x_val)\n",
    "            return expr.subs(x, x_val)\n",
    "    \n",
    "    return None\n",
    "\n",
    "# example usage\n",
    "piecewise_func = sympy.Piecewise(\n",
    "    (x**2, x < 0),\n",
    "    (x, x >= 0)\n",
    ")\n",
    "true_arg = get_piecewise_true_arg(piecewise_func,-10)\n",
    "print(true_arg)  # output: 1\n"
   ]
  },
  {
   "cell_type": "code",
   "execution_count": null,
   "metadata": {},
   "outputs": [
    {
     "name": "stdout",
     "output_type": "stream",
     "text": [
      "x\n"
     ]
    }
   ],
   "source": [
    "from sympy import Piecewise, symbols\n",
    " # Define the piecewise function\n",
    "x = symbols('x')\n",
    "f = Piecewise((x**2, x < 0), (x, x >= 0))\n",
    " # Specify the value of x\n",
    "x_value = 3\n",
    " # Check which of the conditions are true for the value of x\n",
    "for i in range(len(f.args)):\n",
    "    condition = f.args[i][1]\n",
    "    if condition.subs(x, x_value):\n",
    "        print(f.args[i][0])"
   ]
  },
  {
   "attachments": {},
   "cell_type": "markdown",
   "metadata": {},
   "source": [
    "# Текущие результаты:"
   ]
  },
  {
   "cell_type": "code",
   "execution_count": null,
   "metadata": {},
   "outputs": [
    {
     "name": "stdout",
     "output_type": "stream",
     "text": [
      "Все фазы для компонентов из списка:\n",
      "93\n",
      "['AGSB_ORTHO', 'AL11SM3_HT', 'AL11SM3_LT', 'AL21V2', 'AL23V4', 'AL2PD5', 'AL2SM', 'AL2ZR', 'AL2ZR3', 'AL3M_D022', 'AL3NB', 'AL3PD2_D513', 'AL3SM', 'AL3ZR', 'AL3ZR2', 'AL3ZR5', 'AL45V7', 'AL4RE_LT', 'AL4ZR5', 'AL5FE4', 'AL8V5', 'ALCE_AMORPHOUS', 'ALCR2_C11B', 'ALCU_THETA', 'ALM_D019', 'ALNB3', 'ALPD2_C37', 'ALPHA_PU', 'ALPT3', 'ALRE2_C11B', 'ALSM', 'ALSM2', 'ALTA_SIGMA', 'ALTI', 'ALZR', 'ALZR2', 'ALZR3', 'AU10ZR7', 'AU2HF', 'AU2ZR', 'AU2ZR3', 'AU3ZR', 'AU4ZR', 'AU51ND14', 'AU5HF', 'AUHF_ALPHA', 'AUHF_BETA', 'AUZN_BETA', 'AUZR', 'AUZR2', 'AUZR3', 'BCT_A5', 'CU2SE_ALPHA', 'CU2SE_BETA', 'DIAMOND_A4', 'D_GAMMA', 'FEUZR_DELTA', 'FEZR2', 'FEZR3', 'GA5V6', 'GA7V6_D82', 'GAMMA_PU', 'GAV3_A15', 'HEXAGONAL_A8', 'IR3ZR', 'IRZR_ALPHA', 'IRZR_BETA', 'LAVES_C14', 'LAVES_C15', 'LAVES_C36', 'LIQUID', 'MB2_C32', 'MN2ZR', 'MSM_A', 'MSM_B', 'NI10ZR7', 'NI3ZR', 'NI5ZR', 'OMEGA_ZR', 'ORTHORHOMBIC_A20', 'PD3ZR', 'PT2V', 'PT3V_D022', 'PTV3_A15', 'PTV_B19', 'RHOMBO_A10', 'RHOMBO_C19', 'SIGMA', 'TETRAGONAL_A6', 'TETRAGONAL_U', 'TIAU4', 'V2ZR', 'V3SI']\n"
     ]
    }
   ],
   "source": [
    "print('Все фазы для компонентов из списка:')\n",
    "print(len(getPhases(phases_mask)))\n",
    "print(getPhases(phases_mask))"
   ]
  },
  {
   "cell_type": "code",
   "execution_count": null,
   "metadata": {},
   "outputs": [
    {
     "name": "stdout",
     "output_type": "stream",
     "text": [
      "Все фазы для компонентов из списка:\n",
      "93\n",
      "['AGSB_ORTHO', 'AL11SM3_HT', 'AL11SM3_LT', 'AL21V2', 'AL23V4', 'AL2PD5', 'AL2SM', 'AL2ZR', 'AL2ZR3', 'AL3M_D022', 'AL3NB', 'AL3PD2_D513', 'AL3SM', 'AL3ZR', 'AL3ZR2', 'AL3ZR5', 'AL45V7', 'AL4RE_LT', 'AL4ZR5', 'AL5FE4', 'AL8V5', 'ALCE_AMORPHOUS', 'ALCR2_C11B', 'ALCU_THETA', 'ALM_D019', 'ALNB3', 'ALPD2_C37', 'ALPHA_PU', 'ALPT3', 'ALRE2_C11B', 'ALSM', 'ALSM2', 'ALTA_SIGMA', 'ALTI', 'ALZR', 'ALZR2', 'ALZR3', 'AU10ZR7', 'AU2HF', 'AU2ZR', 'AU2ZR3', 'AU3ZR', 'AU4ZR', 'AU51ND14', 'AU5HF', 'AUHF_ALPHA', 'AUHF_BETA', 'AUZN_BETA', 'AUZR', 'AUZR2', 'AUZR3', 'BCT_A5', 'CU2SE_ALPHA', 'CU2SE_BETA', 'DIAMOND_A4', 'D_GAMMA', 'FEUZR_DELTA', 'FEZR2', 'FEZR3', 'GA5V6', 'GA7V6_D82', 'GAMMA_PU', 'GAV3_A15', 'HEXAGONAL_A8', 'IR3ZR', 'IRZR_ALPHA', 'IRZR_BETA', 'LAVES_C14', 'LAVES_C15', 'LAVES_C36', 'LIQUID', 'MB2_C32', 'MN2ZR', 'MSM_A', 'MSM_B', 'NI10ZR7', 'NI3ZR', 'NI5ZR', 'OMEGA_ZR', 'ORTHORHOMBIC_A20', 'PD3ZR', 'PT2V', 'PT3V_D022', 'PTV3_A15', 'PTV_B19', 'RHOMBO_A10', 'RHOMBO_C19', 'SIGMA', 'TETRAGONAL_A6', 'TETRAGONAL_U', 'TIAU4', 'V2ZR', 'V3SI']\n"
     ]
    }
   ],
   "source": [
    "print('Все фазы для компонентов из списка:')\n",
    "print(len(getPhases(phases_mask)))\n",
    "print(getPhases(phases_mask))"
   ]
  },
  {
   "cell_type": "code",
   "execution_count": null,
   "metadata": {},
   "outputs": [
    {
     "name": "stdout",
     "output_type": "stream",
     "text": [
      "Все фазы для компонентов из списка:\n",
      "93\n",
      "['AGSB_ORTHO', 'AL11SM3_HT', 'AL11SM3_LT', 'AL21V2', 'AL23V4', 'AL2PD5', 'AL2SM', 'AL2ZR', 'AL2ZR3', 'AL3M_D022', 'AL3NB', 'AL3PD2_D513', 'AL3SM', 'AL3ZR', 'AL3ZR2', 'AL3ZR5', 'AL45V7', 'AL4RE_LT', 'AL4ZR5', 'AL5FE4', 'AL8V5', 'ALCE_AMORPHOUS', 'ALCR2_C11B', 'ALCU_THETA', 'ALM_D019', 'ALNB3', 'ALPD2_C37', 'ALPHA_PU', 'ALPT3', 'ALRE2_C11B', 'ALSM', 'ALSM2', 'ALTA_SIGMA', 'ALTI', 'ALZR', 'ALZR2', 'ALZR3', 'AU10ZR7', 'AU2HF', 'AU2ZR', 'AU2ZR3', 'AU3ZR', 'AU4ZR', 'AU51ND14', 'AU5HF', 'AUHF_ALPHA', 'AUHF_BETA', 'AUZN_BETA', 'AUZR', 'AUZR2', 'AUZR3', 'BCT_A5', 'CU2SE_ALPHA', 'CU2SE_BETA', 'DIAMOND_A4', 'D_GAMMA', 'FEUZR_DELTA', 'FEZR2', 'FEZR3', 'GA5V6', 'GA7V6_D82', 'GAMMA_PU', 'GAV3_A15', 'HEXAGONAL_A8', 'IR3ZR', 'IRZR_ALPHA', 'IRZR_BETA', 'LAVES_C14', 'LAVES_C15', 'LAVES_C36', 'LIQUID', 'MB2_C32', 'MN2ZR', 'MSM_A', 'MSM_B', 'NI10ZR7', 'NI3ZR', 'NI5ZR', 'OMEGA_ZR', 'ORTHORHOMBIC_A20', 'PD3ZR', 'PT2V', 'PT3V_D022', 'PTV3_A15', 'PTV_B19', 'RHOMBO_A10', 'RHOMBO_C19', 'SIGMA', 'TETRAGONAL_A6', 'TETRAGONAL_U', 'TIAU4', 'V2ZR', 'V3SI']\n"
     ]
    }
   ],
   "source": [
    "print('Все фазы для компонентов из списка:')\n",
    "print(len(getPhases(phases_mask)))\n",
    "print(getPhases(phases_mask))"
   ]
  },
  {
   "cell_type": "code",
   "execution_count": null,
   "metadata": {},
   "outputs": [
    {
     "name": "stdout",
     "output_type": "stream",
     "text": [
      "Все фазы для компонентов из списка(бинарные): 0b100001000000000000000100000000000000000110000000000000000000000000000000000000000000000000000000000010000000000000000000000000000000000000000000110000000000000001100000000000000000000100000000010000000000000000000000000000000000000000000001000000000000000000000000000000000000011000000000000000000000000000000000010000000000000100000000000000000000000000000000000000010000000000000000000000000000000000000000000000110000000000000000000000000000000010000000000000000000000000000000000000000000000000000000000001000000000000000000000010000000000000000000000000011100000000000000000000000000000000110001000000000000000000000000000000000000000000000000000000000000000000000000000000000001000000000000000000000000000000000000000000000000000000000000000000000000000000000000000000000000000000000000000000100000000000100000010000000100000000000000000000000000000000011000000001000000000000000000000000000000000000000000000000000000000000000000000000000000000000000000000000000000000100000000000001000000000000000000000000000000000000000000000000000000000000000000000000000000000000000000000000000000000000000000001100000000000000000000000000000000000000000000000000000000000000000000000000000000000000000000000000000000000000000000000000000000000000000000000000000000000000000000000000000000000000000000000000000000000000000000000000000000000000000000000000000000000000000000000000000000000000000000000000000000000000000000000000000000000000000000000000000000000000000000000000000000000000000000000000000001000000000000000000000000000000000001110000010000000000000000000000000000000000001100000000000000000000101000100000000010000000011000000010001000000000000000000000000000000000111001000101100000100100000100010100100000000000000000000000000000010000000000001100000000100000000000000000010000010000100000000001000111000000001000000000001000011000000000001100000000000100000001000000000000001100000000000000011000000000000001000000000000000000000000000000000000000000000000000000\n"
     ]
    }
   ],
   "source": [
    "print(f'Все фазы для компонентов из списка(бинарные): {bin(phases_mask)}')"
   ]
  },
  {
   "cell_type": "code",
   "execution_count": null,
   "metadata": {},
   "outputs": [
    {
     "name": "stdout",
     "output_type": "stream",
     "text": [
      "Параметры расчета:\n",
      "Давление 101325, Температура 1200, Количестов вещества по 0.125 для компоненты\n"
     ]
    }
   ],
   "source": [
    "print('Параметры расчета:')\n",
    "print(f'Давление {P}, Температура {temp}, Количестов вещества по {amount} для компоненты')"
   ]
  },
  {
   "cell_type": "code",
   "execution_count": null,
   "metadata": {},
   "outputs": [
    {
     "name": "stdout",
     "output_type": "stream",
     "text": [
      "Значения функций для компонентов:\n",
      "OrderedDict([('GB', None), ('GBCCZR', -69104.2656226965), ('GBCCCZ', -5725.0), ('GBCCAU', 2930.0 + GHSERAU), ('GLAVAL', 5000.0 + GHSERAL), ('GHCPAU', 2160.75 + GHSERAU), ('GBCCL', None), ('GHSERSE', 0), ('GHSERAU', -77272.6856248379), ('GBCCMZ', 0.0), ('GFCCGD', 500.0 + GHSERGD), ('GHSERAL', -54976.3276402473), ('GHSERHG', -112210.200050902), ('GFE', None), ('GLIQSE', 0), ('GBCCAL', 4307.4 + GHSERAL), ('GHSERGD', -105270.77857148), ('GBCCGD', -104573.24219628), ('GLIQGD', -102198.298584263), ('GHSERRH', 0), ('GHCPRH', 2400.0 + GHSERRH), ('GHCPAL', 3321.0 + GHSERAL), ('GLIQZR', 7251.2987626752 + GHSERZR), ('GHSERZR', -68894.6050887857), ('GFCCHG', 10046.6 + GHSERHG), ('GHSERV', -57463.158455921), ('GLIQAL', -57996.2850123662), ('GRHOMBHG', -104149.498678239), ('GFENI', None), ('GFCCZR', 6520.0 + GHSERZR), ('U', None), ('GHSERVZ', -57463.158455921), ('GLIQV', 9415.59444185221 + GHSERV), ('LB', None), ('GLIQRH', -48315.478673478), ('GHCPHG', -103109.498678239), ('GBCCRH', 13360.0 + GHSERRH), ('GLIQAU', 1288.9608 + GHSERAU)])\n"
     ]
    }
   ],
   "source": [
    "print('Значения функций для компонентов:')\n",
    "print(function_value)"
   ]
  },
  {
   "cell_type": "code",
   "execution_count": null,
   "metadata": {},
   "outputs": [
    {
     "name": "stdout",
     "output_type": "stream",
     "text": [
      "Фазы для заданых параметров:\n",
      "['AUZR', 'LIQUID', 'AL2SM', '', '', '', '', '', '']\n",
      "В бинарном виде:\n",
      "['0b10000000000000000000000000000000000000000000000000000000000000000000000000000000000000000000000000000000000000000000000000000000000000000000000000000000000000000000000000000000000000000000000000000000000000000000000000000000000000000000000000000000000000000000000000000000000000000000000000000000000000000000000000000000000000000000000000000000000000000000000000000000000000000000000000000000000000000000000000000000000000000000000000000', '0b10000000000000000000000000000000000000000000000000000000000000000000000000000000000000000000000000000000000000000000000000000000000000000000000000000000000000000000000000000000000000000000000000000000000000000000000000000000000000000000000000000000000000000000000000000000000000000000000000000000000000000000000000000000000000000000000000000000000000000000000000000000000000000000000000000000000000000000000000000000000000000000000000000000000000000000000000000000000000000000000000000000000000000000000000000000000000000000000000000000000000000000000000000000000000000000000000000000000000000000000000000000000000000000000000000000000000000000000000000000000000000000000000000000000000000000000000000000000000000000000000000000000000000000000000000000000000000000000000000000000000000000000000000000000000000000000000000000000000000000000000000000000000000000000000000000000000000000000000000000000000000000000000000000000000000000000000000000000000000000000000000000000000000000000000000000000000000000000000000000000000000000000000000000000000000000000000000000000000000000000000000000000000000000000000000000000000000000000000000000000000000000000000000000000000000000000000000000000000000000000000000000000000000000000000000000000000000000000000000000000000000000000000000000000000000000000000000000000000000000000000000000000000000000000000000000000000000000000000000000000000000000000000000000000000000000000000000000000000000000000000', '0b100000000000000000000000000000000000000000000000000000000000000000000000000000000000000000000000000000000000000', '0b0', '0b0', '0b0', '0b0', '0b0', '0b0']\n"
     ]
    }
   ],
   "source": [
    "print('Фазы для заданых параметров:')\n",
    "print(eq_phases)\n",
    "print('В бинарном виде:')\n",
    "print([bin(phase) for phase in eq_phases_bin])"
   ]
  }
 ],
 "metadata": {
  "kernelspec": {
   "display_name": "Python 3 (ipykernel)",
   "language": "python",
   "name": "python3"
  },
  "language_info": {
   "codemirror_mode": {
    "name": "ipython",
    "version": 3
   },
   "file_extension": ".py",
   "mimetype": "text/x-python",
   "name": "python",
   "nbconvert_exporter": "python",
   "pygments_lexer": "ipython3",
   "version": "3.7.8"
  },
  "vscode": {
   "interpreter": {
    "hash": "0a54084e6b208ee8d1ce3989ffc20924477a5f55f5a43e22e699a6741623861e"
   }
  }
 },
 "nbformat": 4,
 "nbformat_minor": 4
}
