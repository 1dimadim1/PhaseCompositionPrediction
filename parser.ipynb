{
 "cells": [
  {
   "cell_type": "code",
   "execution_count": null,
   "metadata": {},
   "outputs": [],
   "source": [
    "from pycalphad import Database, equilibrium, variables as v, calculate\n",
    "db_name = 'models/sgsol_2021_pycalphad.tdb'\n",
    "db = Database(db_name)"
   ]
  },
  {
   "cell_type": "code",
   "execution_count": null,
   "metadata": {},
   "outputs": [],
   "source": [
    "# constants:\n",
    "P = 101325"
   ]
  },
  {
   "attachments": {},
   "cell_type": "markdown",
   "metadata": {},
   "source": [
    "# Компоненты и фазы"
   ]
  },
  {
   "cell_type": "code",
   "execution_count": null,
   "metadata": {},
   "outputs": [],
   "source": [
    "import random\n",
    "\n",
    "random.seed(10)\n",
    "all_components = list(db.elements)\n",
    "all_phases =  list(db.phases)\n",
    "all_phases.sort()\n",
    "all_components.sort()\n",
    "print('Количество фаз =' + str(len(all_phases)))\n",
    "print('Количество компонент =' + str(len(all_components)))\n",
    "print(all_components)\n",
    "# components = random.sample(all_components, 8)\n",
    "components = ['V', 'AU', 'RH', 'SM', 'ZR', 'AL', 'HG', 'SE']\n",
    "\n",
    "print(components)\n"
   ]
  },
  {
   "attachments": {},
   "cell_type": "markdown",
   "metadata": {},
   "source": [
    "# Бинарные фазы для компонент"
   ]
  },
  {
   "cell_type": "code",
   "execution_count": null,
   "metadata": {},
   "outputs": [],
   "source": [
    "counter = 0 \n",
    "components_phases = {}\n",
    "for comp in components:\n",
    "    components_phases[comp] = set()\n",
    "for item in db.phases.items():\n",
    "    # item[0] - name, item[1] - content\n",
    "    # item[1] - name, constituents, sublattices, model_hints\n",
    "    if len(item[1].constituents)>4:\n",
    "        counter += 1\n",
    "    \n",
    "    for species in item[1].constituents[0]:\n",
    "        # name, constituents, charge\n",
    "        for phase in components_phases.keys():\n",
    "            if phase in species.name:\n",
    "                components_phases[phase].add(item[0])\n",
    "\n",
    "print(counter)\n",
    "print(components_phases)\n",
    "\n",
    "for comp, phases in components_phases.items():\n",
    "    mask = [1 if phase in phases else 0 for phase in all_phases]\n",
    "    components_phases[comp] = int(''.join(map(str, mask)), 2)"
   ]
  },
  {
   "cell_type": "code",
   "execution_count": null,
   "metadata": {},
   "outputs": [],
   "source": [
    "for comp, phases in components_phases.items():\n",
    "    print(f'{comp}: {bin(phases)}')"
   ]
  },
  {
   "cell_type": "code",
   "execution_count": null,
   "metadata": {},
   "outputs": [],
   "source": [
    "def getPhases(int_mask):\n",
    "    return [all_phases[i] for i in range(len(all_phases)) if (int_mask & (1 << i)) > 0]\n",
    "def getAllPhases(comp_phases):\n",
    "    int_mask = 0\n",
    "    for phases in comp_phases.values():\n",
    "        int_mask |= phases\n",
    "    return getPhases(int_mask)\n",
    "# print(getAllPhases(components_phases))\n",
    "print(getPhases(components_phases['SE']))"
   ]
  },
  {
   "cell_type": "code",
   "execution_count": null,
   "metadata": {},
   "outputs": [],
   "source": [
    "for comp, phases in components_phases.items():\n",
    "    print(comp)\n",
    "    print(getPhases(phases))\n",
    "    for phase in getPhases(phases):\n",
    "        if str(phase) in db.symbols:\n",
    "            print(f'{phase} in {db.symbols}')"
   ]
  },
  {
   "attachments": {},
   "cell_type": "markdown",
   "metadata": {},
   "source": [
    "# Функции"
   ]
  },
  {
   "cell_type": "code",
   "execution_count": null,
   "metadata": {},
   "outputs": [],
   "source": [
    "import re\n",
    "\n",
    "# read the text file\n",
    "text = \"\"\n",
    "function_start = False\n",
    "with open(db_name, 'r') as f:\n",
    "    for line in f:\n",
    "        if \"Standard functions for the elements\" in line:\n",
    "            function_start = True\n",
    "        if \"Data for the elements from unary database\" in line:\n",
    "            function_start = False\n",
    "\n",
    "        if function_start:\n",
    "            text += line\n",
    "\n",
    "component_functions = {}\n",
    "# find all the component names in the text\n",
    "component_names = re.findall(r'\\$ ([A-Z][a-z]*)', text)\n",
    "for component in component_names:\n",
    "    # find the text between the component name and the next component name\n",
    "    pattern = r'\\$ {}.*?\\$ [A-Z][a-z]*'.format(component)\n",
    "    component_text = re.search(pattern, text, re.DOTALL).group()\n",
    "    \n",
    "    # find all the function names in the component text\n",
    "    function_names = re.findall(r'FUNCTION ([A-Z]*)', component_text)\n",
    "    \n",
    "    component_functions[component] = function_names\n",
    "component_functions = {k.upper():v for k,v in component_functions.items()}"
   ]
  },
  {
   "cell_type": "code",
   "execution_count": null,
   "metadata": {},
   "outputs": [],
   "source": [
    "# print the functions for each component\n",
    "for component, functions in component_functions.items():\n",
    "    if len(functions) > 0:\n",
    "        print(f\"{component} : {functions}\")"
   ]
  },
  {
   "cell_type": "code",
   "execution_count": null,
   "metadata": {},
   "outputs": [],
   "source": [
    "functions = set()\n",
    "for component in components:\n",
    "    if str(component) in component_functions.keys():\n",
    "        functions.update(component_functions[component])\n",
    "    else:\n",
    "        print(f'Check - {component}')\n",
    "print(functions)"
   ]
  },
  {
   "cell_type": "code",
   "execution_count": null,
   "metadata": {},
   "outputs": [],
   "source": [
    "from symengine import Piecewise, Symbol, lib\n",
    "import math\n",
    "\n",
    "temp = 1200\n",
    "T = Symbol('T')\n",
    "print(db.symbols['GBCCGD'])\n",
    "print(type(temp))\n",
    "expr = db.symbols['GBCCGD'].subs(T, temp)\n",
    "print(expr)\n",
    "# print(db.symbols['GBCCGD'].subs(T, 800).simplify())\n",
    "# print (math.log(14))\n"
   ]
  },
  {
   "cell_type": "code",
   "execution_count": null,
   "metadata": {},
   "outputs": [],
   "source": [
    "function_value = {}\n",
    "func = 'GBCCGD'\n",
    "for func in functions:\n",
    "    expression = Piecewise()\n",
    "    print(func)\n",
    "    if func not in db.symbols:\n",
    "        print('Wrong function: ' + str(func))\n",
    "        function_value[func] = None\n",
    "        continue\n",
    "    \n",
    "    for arg in db.symbols[func].args:\n",
    "        # condition = arg[0].subs(T, temp)\n",
    "        # expression = arg[1].subs(T, temp)\n",
    "        # result.append([condition, expression])\n",
    "        if arg.is_Add:\n",
    "            expression = arg.subs(T, temp).evalf()\n",
    "        elif arg.is_Float or arg.is_Integer:\n",
    "            expression = arg\n",
    "        else:\n",
    "            bool_res = False\n",
    "            if len(arg.atoms()) > 0:\n",
    "                bool_res = arg.subs(T, temp)\n",
    "            if arg.is_Boolean:\n",
    "                bool_res = arg\n",
    "            if bool_res: \n",
    "                function_value[func] = expression\n",
    "                break\n",
    "\n",
    "print(function_value)"
   ]
  },
  {
   "attachments": {},
   "cell_type": "markdown",
   "metadata": {},
   "source": [
    "# Расчет фазовых равновесий"
   ]
  },
  {
   "cell_type": "code",
   "execution_count": 83,
   "metadata": {},
   "outputs": [
    {
     "name": "stdout",
     "output_type": "stream",
     "text": [
      "Components: AL AL1 AL1AU AL1AU2 AL1AU4 AL2 AL2AU AL2AU5 AU HG RH SE SM V VA ZR\n",
      "Phases: "
     ]
    },
    {
     "ename": "DofError",
     "evalue": "MOB4: Sublattices of (frozenset({Species('VA', 'VA1'), Species('TI', 'TI1'), Species('MO', 'MO1')}), frozenset({Species('VA', 'VA1'), Species('B', 'B1')})) contains only VA (VACUUM) constituents",
     "output_type": "error",
     "traceback": [
      "\u001b[1;31m---------------------------------------------------------------------------\u001b[0m",
      "\u001b[1;31mDofError\u001b[0m                                  Traceback (most recent call last)",
      "\u001b[1;32m~\\AppData\\Local\\Temp\\ipykernel_12752\\495503403.py\u001b[0m in \u001b[0;36m<module>\u001b[1;34m\u001b[0m\n\u001b[0;32m     10\u001b[0m     \u001b[1;32mif\u001b[0m \u001b[0mcomp\u001b[0m \u001b[1;33m!=\u001b[0m \u001b[0mnecessary_component\u001b[0m\u001b[1;33m:\u001b[0m\u001b[1;33m\u001b[0m\u001b[1;33m\u001b[0m\u001b[0m\n\u001b[0;32m     11\u001b[0m         \u001b[0mconditions\u001b[0m\u001b[1;33m[\u001b[0m\u001b[0mv\u001b[0m\u001b[1;33m.\u001b[0m\u001b[0mX\u001b[0m\u001b[1;33m(\u001b[0m\u001b[0mcomp\u001b[0m\u001b[1;33m)\u001b[0m\u001b[1;33m]\u001b[0m \u001b[1;33m=\u001b[0m \u001b[0mamount\u001b[0m\u001b[1;33m\u001b[0m\u001b[1;33m\u001b[0m\u001b[0m\n\u001b[1;32m---> 12\u001b[1;33m \u001b[0meq\u001b[0m \u001b[1;33m=\u001b[0m \u001b[0mequilibrium\u001b[0m\u001b[1;33m(\u001b[0m\u001b[0mdb\u001b[0m\u001b[1;33m,\u001b[0m\u001b[0mcomponents\u001b[0m\u001b[1;33m,\u001b[0m\u001b[0mgetAllPhases\u001b[0m\u001b[1;33m(\u001b[0m\u001b[0mcomponents_phases\u001b[0m\u001b[1;33m)\u001b[0m\u001b[1;33m,\u001b[0m\u001b[0mconditions\u001b[0m\u001b[1;33m,\u001b[0m \u001b[0mverbose\u001b[0m\u001b[1;33m=\u001b[0m\u001b[1;32mTrue\u001b[0m\u001b[1;33m)\u001b[0m\u001b[1;33m\u001b[0m\u001b[1;33m\u001b[0m\u001b[0m\n\u001b[0m\u001b[0;32m     13\u001b[0m \u001b[0mgibbs_energy\u001b[0m \u001b[1;33m=\u001b[0m \u001b[0meq\u001b[0m\u001b[1;33m.\u001b[0m\u001b[0mGM\u001b[0m\u001b[1;33m\u001b[0m\u001b[1;33m\u001b[0m\u001b[0m\n",
      "\u001b[1;32m~\\AppData\\Roaming\\Python\\Python37\\site-packages\\pycalphad\\core\\equilibrium.py\u001b[0m in \u001b[0;36mequilibrium\u001b[1;34m(dbf, comps, phases, conditions, output, model, verbose, broadcast, calc_opts, to_xarray, scheduler, parameters, solver, callables, phase_records, **kwargs)\u001b[0m\n\u001b[0;32m    243\u001b[0m     \u001b[0moutput\u001b[0m \u001b[1;33m=\u001b[0m \u001b[0msorted\u001b[0m\u001b[1;33m(\u001b[0m\u001b[0moutput\u001b[0m\u001b[1;33m)\u001b[0m\u001b[1;33m\u001b[0m\u001b[1;33m\u001b[0m\u001b[0m\n\u001b[0;32m    244\u001b[0m     \u001b[1;32mif\u001b[0m \u001b[0mphase_records\u001b[0m \u001b[1;32mis\u001b[0m \u001b[1;32mNone\u001b[0m\u001b[1;33m:\u001b[0m\u001b[1;33m\u001b[0m\u001b[1;33m\u001b[0m\u001b[0m\n\u001b[1;32m--> 245\u001b[1;33m         \u001b[0mmodels\u001b[0m \u001b[1;33m=\u001b[0m \u001b[0minstantiate_models\u001b[0m\u001b[1;33m(\u001b[0m\u001b[0mdbf\u001b[0m\u001b[1;33m,\u001b[0m \u001b[0mcomps\u001b[0m\u001b[1;33m,\u001b[0m \u001b[0mactive_phases\u001b[0m\u001b[1;33m,\u001b[0m \u001b[0mmodel\u001b[0m\u001b[1;33m=\u001b[0m\u001b[0mmodel\u001b[0m\u001b[1;33m,\u001b[0m \u001b[0mparameters\u001b[0m\u001b[1;33m=\u001b[0m\u001b[0mparameters\u001b[0m\u001b[1;33m)\u001b[0m\u001b[1;33m\u001b[0m\u001b[1;33m\u001b[0m\u001b[0m\n\u001b[0m\u001b[0;32m    246\u001b[0m         phase_records = build_phase_records(dbf, comps, active_phases, conds, models,\n\u001b[0;32m    247\u001b[0m                                             \u001b[0moutput\u001b[0m\u001b[1;33m=\u001b[0m\u001b[1;34m'GM'\u001b[0m\u001b[1;33m,\u001b[0m \u001b[0mcallables\u001b[0m\u001b[1;33m=\u001b[0m\u001b[0mcallables\u001b[0m\u001b[1;33m,\u001b[0m\u001b[1;33m\u001b[0m\u001b[1;33m\u001b[0m\u001b[0m\n",
      "\u001b[1;32m~\\AppData\\Roaming\\Python\\Python37\\site-packages\\pycalphad\\core\\utils.py\u001b[0m in \u001b[0;36minstantiate_models\u001b[1;34m(dbf, comps, phases, model, parameters, symbols_only)\u001b[0m\n\u001b[0;32m    381\u001b[0m         \u001b[0mmod\u001b[0m \u001b[1;33m=\u001b[0m \u001b[0mmodels_defaultdict\u001b[0m\u001b[1;33m[\u001b[0m\u001b[0mname\u001b[0m\u001b[1;33m]\u001b[0m\u001b[1;33m\u001b[0m\u001b[1;33m\u001b[0m\u001b[0m\n\u001b[0;32m    382\u001b[0m         \u001b[1;32mif\u001b[0m \u001b[0misinstance\u001b[0m\u001b[1;33m(\u001b[0m\u001b[0mmod\u001b[0m\u001b[1;33m,\u001b[0m \u001b[0mtype\u001b[0m\u001b[1;33m)\u001b[0m\u001b[1;33m:\u001b[0m\u001b[1;33m\u001b[0m\u001b[1;33m\u001b[0m\u001b[0m\n\u001b[1;32m--> 383\u001b[1;33m             \u001b[0mmodels_dict\u001b[0m\u001b[1;33m[\u001b[0m\u001b[0mname\u001b[0m\u001b[1;33m]\u001b[0m \u001b[1;33m=\u001b[0m \u001b[0mmod\u001b[0m\u001b[1;33m(\u001b[0m\u001b[0mdbf\u001b[0m\u001b[1;33m,\u001b[0m \u001b[0mcomps\u001b[0m\u001b[1;33m,\u001b[0m \u001b[0mname\u001b[0m\u001b[1;33m,\u001b[0m \u001b[0mparameters\u001b[0m\u001b[1;33m=\u001b[0m\u001b[0mparameters\u001b[0m\u001b[1;33m)\u001b[0m\u001b[1;33m\u001b[0m\u001b[1;33m\u001b[0m\u001b[0m\n\u001b[0m\u001b[0;32m    384\u001b[0m         \u001b[1;32melse\u001b[0m\u001b[1;33m:\u001b[0m\u001b[1;33m\u001b[0m\u001b[1;33m\u001b[0m\u001b[0m\n\u001b[0;32m    385\u001b[0m             \u001b[0mmodels_dict\u001b[0m\u001b[1;33m[\u001b[0m\u001b[0mname\u001b[0m\u001b[1;33m]\u001b[0m \u001b[1;33m=\u001b[0m \u001b[0mmod\u001b[0m\u001b[1;33m\u001b[0m\u001b[1;33m\u001b[0m\u001b[0m\n",
      "\u001b[1;32m~\\AppData\\Roaming\\Python\\Python37\\site-packages\\pycalphad\\model.py\u001b[0m in \u001b[0;36m__init__\u001b[1;34m(self, dbe, comps, phase_name, parameters)\u001b[0m\n\u001b[0;32m    227\u001b[0m             raise DofError(\n\u001b[0;32m    228\u001b[0m                 \u001b[1;34m'{0}: Sublattices of {1} contains only VA (VACUUM) constituents'\u001b[0m\u001b[0;31m \u001b[0m\u001b[0;31m\\\u001b[0m\u001b[1;33m\u001b[0m\u001b[1;33m\u001b[0m\u001b[0m\n\u001b[1;32m--> 229\u001b[1;33m                 .format(self.phase_name, phase.constituents))\n\u001b[0m\u001b[0;32m    230\u001b[0m         \u001b[0mself\u001b[0m\u001b[1;33m.\u001b[0m\u001b[0mcomponents\u001b[0m \u001b[1;33m=\u001b[0m \u001b[0msorted\u001b[0m\u001b[1;33m(\u001b[0m\u001b[0mself\u001b[0m\u001b[1;33m.\u001b[0m\u001b[0mcomponents\u001b[0m\u001b[1;33m)\u001b[0m\u001b[1;33m\u001b[0m\u001b[1;33m\u001b[0m\u001b[0m\n\u001b[0;32m    231\u001b[0m         \u001b[0mdesired_active_pure_elements\u001b[0m \u001b[1;33m=\u001b[0m \u001b[1;33m[\u001b[0m\u001b[0mlist\u001b[0m\u001b[1;33m(\u001b[0m\u001b[0mx\u001b[0m\u001b[1;33m.\u001b[0m\u001b[0mconstituents\u001b[0m\u001b[1;33m.\u001b[0m\u001b[0mkeys\u001b[0m\u001b[1;33m(\u001b[0m\u001b[1;33m)\u001b[0m\u001b[1;33m)\u001b[0m \u001b[1;32mfor\u001b[0m \u001b[0mx\u001b[0m \u001b[1;32min\u001b[0m \u001b[0mself\u001b[0m\u001b[1;33m.\u001b[0m\u001b[0mcomponents\u001b[0m\u001b[1;33m]\u001b[0m\u001b[1;33m\u001b[0m\u001b[1;33m\u001b[0m\u001b[0m\n",
      "\u001b[1;31mDofError\u001b[0m: MOB4: Sublattices of (frozenset({Species('VA', 'VA1'), Species('TI', 'TI1'), Species('MO', 'MO1')}), frozenset({Species('VA', 'VA1'), Species('B', 'B1')})) contains only VA (VACUUM) constituents"
     ]
    }
   ],
   "source": [
    "necessary_component = 'VA'\n",
    "temp = 1200\n",
    "if necessary_component not in components:\n",
    "    components.append(necessary_component)\n",
    "\n",
    "conditions = {v.T:temp,v.P:P}\n",
    "# TODO: make random amount of component\n",
    "amount = 1.0/len(components)\n",
    "for comp in components:\n",
    "    if comp != necessary_component:\n",
    "        conditions[v.X(comp)] = amount\n",
    "eq = equilibrium(db,components,getAllPhases(components_phases),conditions, verbose=True)\n",
    "gibbs_energy = eq.GM"
   ]
  },
  {
   "cell_type": "code",
   "execution_count": null,
   "metadata": {},
   "outputs": [],
   "source": [
    "gibbs_energy = '???'"
   ]
  },
  {
   "attachments": {},
   "cell_type": "markdown",
   "metadata": {},
   "source": [
    "# Текущие результаты:"
   ]
  },
  {
   "cell_type": "code",
   "execution_count": null,
   "metadata": {},
   "outputs": [],
   "source": [
    "print('Список компонентов:')\n",
    "print(components)"
   ]
  },
  {
   "cell_type": "code",
   "execution_count": null,
   "metadata": {},
   "outputs": [],
   "source": [
    "print('Все фазы для компонентов из списка:')\n",
    "print(getAllPhases(components_phases))"
   ]
  },
  {
   "cell_type": "code",
   "execution_count": null,
   "metadata": {},
   "outputs": [],
   "source": [
    "int_mask = 0\n",
    "for phases in components_phases.values():\n",
    "    int_mask |= phases\n",
    "print(f'Все фазы для компонентов из списка(бинарные): {bin(int_mask)}')"
   ]
  },
  {
   "cell_type": "code",
   "execution_count": 84,
   "metadata": {},
   "outputs": [
    {
     "name": "stdout",
     "output_type": "stream",
     "text": [
      "Параметры расчета:\n",
      "Давление 101325, Температура 1200, Количестов вещества по 0.1111111111111111 для компоненты\n"
     ]
    }
   ],
   "source": [
    "print('Параметры расчета:')\n",
    "print(f'Давление {P}, Температура {temp}, Количестов вещества по {amount} для компоненты')"
   ]
  },
  {
   "cell_type": "code",
   "execution_count": 85,
   "metadata": {},
   "outputs": [
    {
     "name": "stdout",
     "output_type": "stream",
     "text": [
      "Значения функций для компонентов:\n",
      "{'GHSERHG': -112210.200050902, 'GBCCRH': 13360.0 + GHSERRH, 'GLIQAU': 1288.9608 + GHSERAU, 'GRHOMBHG': -104149.498678239, 'GHCPAU': 2160.75 + GHSERAU, 'GLIQZR': 7251.2987626752 + GHSERZR, 'GBCCMZ': 0.0, 'GFCCZR': 6520.0 + GHSERZR, 'GHSERV': -57463.158455921, 'GHSERZR': -68894.6050887857, 'GFCCGD': 500.0 + GHSERGD, 'U': None, 'GLAVAL': 5000.0 + GHSERAL, 'GHSERAL': -54976.3276402473, 'GBCCGD': -104573.24219628, 'GBCCCZ': -5725.0, 'GHSERVZ': -57463.158455921, 'GHSERAU': -77272.6856248379, 'GFE': None, 'GBCCAU': 2930.0 + GHSERAU, 'GBCCZR': -69104.2656226965, 'GBCCAL': 4307.4 + GHSERAL, 'GLIQV': 9415.59444185221 + GHSERV, 'GHCPHG': -103109.498678239, 'GHSERGD': -105270.77857148, 'GHCPAL': 3321.0 + GHSERAL, 'LB': None, 'GLIQRH': -48315.478673478, 'GLIQSE': 0, 'GFCCHG': 10046.6 + GHSERHG, 'GB': None, 'GBCCL': None, 'GLIQAL': -57996.2850123662, 'GHSERRH': 0, 'GHSERSE': 0, 'GHCPRH': 2400.0 + GHSERRH, 'GFENI': None, 'GLIQGD': -102198.298584263}\n"
     ]
    }
   ],
   "source": [
    "print('Значения функций для компонентов:')\n",
    "print(function_value)"
   ]
  },
  {
   "cell_type": "code",
   "execution_count": 86,
   "metadata": {},
   "outputs": [
    {
     "name": "stdout",
     "output_type": "stream",
     "text": [
      "Значение энергии Гиббса для заданых параметров:\n",
      "???\n"
     ]
    }
   ],
   "source": [
    "print('Значение энергии Гиббса для заданых параметров:')\n",
    "print(gibbs_energy)"
   ]
  },
  {
   "cell_type": "markdown",
   "metadata": {},
   "source": []
  }
 ],
 "metadata": {
  "kernelspec": {
   "display_name": "Python 3 (ipykernel)",
   "language": "python",
   "name": "python3"
  },
  "language_info": {
   "codemirror_mode": {
    "name": "ipython",
    "version": 3
   },
   "file_extension": ".py",
   "mimetype": "text/x-python",
   "name": "python",
   "nbconvert_exporter": "python",
   "pygments_lexer": "ipython3",
   "version": "3.7.8"
  },
  "vscode": {
   "interpreter": {
    "hash": "0a54084e6b208ee8d1ce3989ffc20924477a5f55f5a43e22e699a6741623861e"
   }
  }
 },
 "nbformat": 4,
 "nbformat_minor": 4
}
