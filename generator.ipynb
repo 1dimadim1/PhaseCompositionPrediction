{
 "cells": [
  {
   "cell_type": "code",
   "execution_count": 77,
   "metadata": {},
   "outputs": [
    {
     "name": "stderr",
     "output_type": "stream",
     "text": [
      "/home/dmitry/.local/lib/python3.10/site-packages/pycalphad/io/tdb.py:925: UserWarning: The type definition character `K` was defined in the following phases: ['FCC_A1', 'FCC_L12'], but no corresponding TYPE_DEFINITION line was found in the TDB.\n",
      "  warnings.warn(f\"The type definition character `{typechar}` was defined in the following phases: \"\n",
      "/home/dmitry/.local/lib/python3.10/site-packages/pycalphad/io/tdb.py:925: UserWarning: The type definition character `S` was defined in the following phases: ['FCC_A1'], but no corresponding TYPE_DEFINITION line was found in the TDB.\n",
      "  warnings.warn(f\"The type definition character `{typechar}` was defined in the following phases: \"\n",
      "/home/dmitry/.local/lib/python3.10/site-packages/pycalphad/io/tdb.py:925: UserWarning: The type definition character `P` was defined in the following phases: ['FCC_A1', 'FCC_4SL', 'HCP_A3', 'HCP_4SL'], but no corresponding TYPE_DEFINITION line was found in the TDB.\n",
      "  warnings.warn(f\"The type definition character `{typechar}` was defined in the following phases: \"\n",
      "/home/dmitry/.local/lib/python3.10/site-packages/pycalphad/io/tdb.py:925: UserWarning: The type definition character `M` was defined in the following phases: ['BCC_A2', 'BCC_B2', 'A2_BCC', 'B2_BCC'], but no corresponding TYPE_DEFINITION line was found in the TDB.\n",
      "  warnings.warn(f\"The type definition character `{typechar}` was defined in the following phases: \"\n",
      "/home/dmitry/.local/lib/python3.10/site-packages/pycalphad/io/tdb.py:925: UserWarning: The type definition character `U` was defined in the following phases: ['HCP_A3'], but no corresponding TYPE_DEFINITION line was found in the TDB.\n",
      "  warnings.warn(f\"The type definition character `{typechar}` was defined in the following phases: \"\n"
     ]
    }
   ],
   "source": [
    "from pycalphad import Database, equilibrium, variables as v\n",
    "# from pycalphad.core.utils import filter_phases\n",
    "import random\n",
    "import numpy as np\n",
    "import time\n",
    "from tqdm import tqdm\n",
    "# from tqdm.auto import tqdm\n",
    "\n",
    "# constants:\n",
    "P = 101325\n",
    "db_name = 'models/sgsol_2021_pycalphad.tdb'\n",
    "db = Database(db_name)\n",
    "# TODO: check 'PM' param\n",
    "all_components = ['LI', 'BE', 'NA', 'MG', 'AL', 'K', 'CA', 'SC', 'TI', 'V', 'CR', 'MN', 'FE',\n",
    "                  'CO', 'NI', 'CU', 'ZN', 'GA', 'Y', 'ZR', 'NB', 'MO', 'TC',\n",
    "                  'RH', 'PD', 'AG', 'CD', 'IN', 'SN', 'BA', 'LA', 'CE', 'PR', 'ND', 'SM', 'EU',\n",
    "                  'GD', 'TB', 'DY', 'HO', 'ER', 'HF', 'TA', 'W', 'RE', 'OS', 'IR',\n",
    "                  'PT', 'AU', 'HG', 'TL', 'PB', 'BI', 'C', 'SI']\n",
    "all_phases = list(db.phases)\n",
    "all_phases.sort()\n",
    "all_components.sort()"
   ]
  },
  {
   "cell_type": "code",
   "execution_count": 78,
   "metadata": {},
   "outputs": [],
   "source": [
    "# phase result parser\n",
    "def flattenArray(arr):\n",
    "    result = []\n",
    "    for item in arr.flat:\n",
    "        if isinstance(item, np.ndarray):\n",
    "            result.extend(flattenArray(item))\n",
    "        else:\n",
    "            result.append(item)\n",
    "    return result\n",
    "\n",
    "# Get all possible phases for that components\n",
    "def getPossiblePhases(db, components):\n",
    "    possible_phases = []\n",
    "    for phase_full in db.phases.items():\n",
    "        # item[0] - name, item[1] - content\n",
    "        # item[1]: name, constituents, sublattices, model_hints\n",
    "        found_sublattices = 0\n",
    "        phase = phase_full[1]\n",
    "\n",
    "        for sublattice_c in phase.constituents:\n",
    "            found = False\n",
    "            for comp in components:\n",
    "                if len([species.name for species in sublattice_c if species.name == comp]) > 0:\n",
    "                    found = True\n",
    "                    break\n",
    "            if found:\n",
    "                found_sublattices += 1\n",
    "            else:\n",
    "                break\n",
    "\n",
    "        if found_sublattices == len(phase.constituents):\n",
    "            possible_phases.append(phase.name)\n",
    "\n",
    "    possible_phases.sort()\n",
    "    return possible_phases\n",
    "\n",
    "# TODO: fix ordered_phases\n",
    "def filterOrderedPhases(dbf, candidate_phases=None):\n",
    "    if candidate_phases == None:\n",
    "        candidate_phases = dbf.phases.keys()\n",
    "    else:\n",
    "        candidate_phases = set(\n",
    "            candidate_phases).intersection(dbf.phases.keys())\n",
    "    # all_phases = [{\"name\": phase, \"ordered\": dbf.phases[phase].model_hints.get('ordered_phase'),'dis':dbf.phases[phase].model_hints.get('disordered_phase')} for phase in candidate_phases if dbf.phases[phase].model_hints.get('ordered_phase') != None]\n",
    "    # disordered_phases = [dbf.phases[phase].model_hints.get('disordered_phase') for phase in candidate_phases]\n",
    "    ordered_phases = [dbf.phases[phase].model_hints.get(\n",
    "        'ordered_phase') for phase in candidate_phases]\n",
    "\n",
    "    phases = [phase for phase in candidate_phases if\n",
    "              (phase not in ordered_phases)]\n",
    "    #  or (phase in disordered_phases and\n",
    "    # dbf.phases[phase].model_hints.get('ordered_phase') not in candidate_phases)\n",
    "    return sorted(phases)\n",
    "\n",
    "\n",
    "def getPhases(int_mask, all_phases=all_phases):\n",
    "    return [all_phases[i] for i in range(len(all_phases)) if (int_mask & (1 << i)) > 0]\n",
    "\n",
    "\n",
    "def phasesToMask(phases, all_phases=all_phases):\n",
    "    phases.sort()\n",
    "    mask = [1 if phase in phases else 0 for phase in all_phases][::-1]\n",
    "    return int(''.join(map(str, mask)), 2)\n",
    "\n",
    "\n",
    "def phaseToMask(phase, all_phases=all_phases):\n",
    "    mask = [1 if phase == phase_ else 0 for phase_ in all_phases][::-1]\n",
    "    return int(''.join(map(str, mask)), 2)\n",
    "\n",
    "def compToMask(components, all_components=all_components):\n",
    "    components.sort()\n",
    "    mask = [1 if comp in components else 0 for comp in all_components][::-1]\n",
    "    return int(''.join(map(str, mask)), 2)\n",
    "\n",
    "def getComponents(int_mask, all_components=all_components):\n",
    "    return [all_components[i] for i in range(len(all_components)) if (int_mask & (1 << i)) > 0]\n",
    "\n",
    "def equilibriumRow(conditions, components, temp, amounts):\n",
    "    calc_components = components.copy()\n",
    "    calc_components.append('VA')\n",
    "    row_values = {}\n",
    "    founded_phases = []\n",
    "    possible_phases = getPossiblePhases(db, components)\n",
    "    possible_phases = filterOrderedPhases(db, possible_phases)\n",
    "    # print(set(possible_phases) - set(filtred_phase))\n",
    "\n",
    "    tic = time.perf_counter()\n",
    "    try:\n",
    "        eq = equilibrium(db, calc_components, possible_phases,\n",
    "                         conditions, verbose=False)\n",
    "        founded_phases = flattenArray(np.array(eq.Phase))\n",
    "    except ValueError as error:\n",
    "        row_values['Error'] = error\n",
    "    toc = time.perf_counter()\n",
    "\n",
    "    row_values = {'Error': '', 'T': temp, 'amounts': amounts, 'P': P, 'Components': compToMask(components), 'phases': phasesToMask(founded_phases),\n",
    "                  'ellapsed_time': toc - tic, 'possible_phases': phasesToMask(possible_phases)} | row_values\n",
    "\n",
    "    return row_values\n",
    "\n",
    "def parseConditions(temp, amounts, components, P=P):\n",
    "    conditions = {v.T: temp, v.P: P}\n",
    "\n",
    "    for i in range(len(components)):\n",
    "        if i != 0:\n",
    "            conditions[v.X(components[i])] = amounts[i]\n",
    "\n",
    "    return conditions\n",
    "\n",
    "def getAmounts(components):\n",
    "    amounts = [0.05]*len(components)\n",
    "    for i in range(len(amounts)):\n",
    "        amounts[i] += random.uniform(0, 1 - sum(amounts))\n",
    "    amounts[0] += 1 - sum(amounts)\n",
    "    return amounts\n",
    "\n",
    "# TODO: make random temperature more stable diffuse\n",
    "def getTemp():\n",
    "    return random.randint(300, 3000)\n"
   ]
  },
  {
   "cell_type": "code",
   "execution_count": 79,
   "metadata": {},
   "outputs": [
    {
     "name": "stdout",
     "output_type": "stream",
     "text": [
      "['TC', 'C', 'SM', 'ZR', 'OS', 'BI', 'PR', 'MG']\n"
     ]
    },
    {
     "name": "stderr",
     "output_type": "stream",
     "text": [
      "100%|██████████| 300/300 [44:33<00:00,  8.91s/it]"
     ]
    },
    {
     "name": "stdout",
     "output_type": "stream",
     "text": [
      "Done!\n"
     ]
    },
    {
     "name": "stderr",
     "output_type": "stream",
     "text": [
      "\n"
     ]
    }
   ],
   "source": [
    "import csv\n",
    "\n",
    "random.seed(42)\n",
    "# skip empty case\n",
    "components = random.sample(all_components, 8) # ['RH', 'CA', 'AL', 'TC', 'GA', 'EU', 'ER', 'CD']\n",
    "line = {}\n",
    "\n",
    "# ['TC', 'C', 'SM', 'ZR', 'OS', 'BI', 'PR', 'MG']\n",
    "with open('ParsedData/equilibrium_result.csv', \"a\") as csv_file:\n",
    "    header = ['Error','T','P','Components','phases','ellapsed_time','possible_phases']\n",
    "    writer = csv.DictWriter(csv_file, fieldnames = header)\n",
    "    # writer.writeheader()\n",
    "    writer = csv.writer(csv_file, delimiter=',')\n",
    "    rnd_state = random.getstate()\n",
    "\n",
    "    # TODO: iterate over components\n",
    "    components = random.sample(all_components, 8)\n",
    "    print(components)\n",
    "    \n",
    "    for i in tqdm(range(300)):\n",
    "        temp = getTemp()\n",
    "        amounts = getAmounts(components)\n",
    "        if i < 50:\n",
    "            continue\n",
    "        conditions = parseConditions(temp, amounts, components)\n",
    "        line = equilibriumRow(conditions, components, temp, amounts) \n",
    "        writer.writerow(list(line.values()))\n",
    "    # TODO: Save random state in a file and continue from state\n",
    "    print('Done!')"
   ]
  }
 ],
 "metadata": {
  "kernelspec": {
   "display_name": "Python 3 (ipykernel)",
   "language": "python",
   "name": "python3"
  },
  "language_info": {
   "codemirror_mode": {
    "name": "ipython",
    "version": 3
   },
   "file_extension": ".py",
   "mimetype": "text/x-python",
   "name": "python",
   "nbconvert_exporter": "python",
   "pygments_lexer": "ipython3",
   "version": "3.10.6"
  },
  "vscode": {
   "interpreter": {
    "hash": "0a54084e6b208ee8d1ce3989ffc20924477a5f55f5a43e22e699a6741623861e"
   }
  }
 },
 "nbformat": 4,
 "nbformat_minor": 4
}
