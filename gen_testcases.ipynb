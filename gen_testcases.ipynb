{
 "cells": [
  {
   "cell_type": "code",
   "execution_count": null,
   "metadata": {},
   "outputs": [],
   "source": [
    "from pycalphad import Database, calculate\n",
    "import numpy as np\n",
    "\n",
    "# constants:\n",
    "P = 101325\n",
    "db_name = 'models/sgsol_2021_pycalphad.tdb'\n",
    "db = Database(db_name)\n",
    "all_phases = list(db.phases)\n",
    "all_phases.sort()"
   ]
  },
  {
   "cell_type": "code",
   "execution_count": 10,
   "metadata": {},
   "outputs": [
    {
     "name": "stdout",
     "output_type": "stream",
     "text": [
      "129\n"
     ]
    }
   ],
   "source": [
    "from pycalphad.core.utils import filter_phases, unpack_components\n",
    "\n",
    "def getPossiblePhases(db, components):\n",
    "    comps = list(components)\n",
    "    if 'VA' not in comps:\n",
    "        comps.append('VA')\n",
    "    comps = unpack_components(db, comps)\n",
    "    return filter_phases(db, comps)\n",
    "\n",
    "T = 2402\n",
    "components = ['ZR', 'MO', 'W', 'TA', 'V', 'CR', 'CO', 'NI']\n",
    "amounts = [0.33701280487558255, 0.3128339138729201, 0.09078200772371792, 0.055387487787436254, 0.052765511638791514, 0.05117692034226036, 0.050023289138882085, 0.050018064620409135]\n",
    "components.append('VA')\n",
    "possible_phases = getPossiblePhases(db, components)\n",
    "print(len(possible_phases))"
   ]
  },
  {
   "cell_type": "code",
   "execution_count": 36,
   "metadata": {},
   "outputs": [],
   "source": [
    "results = [np.nan] * len(all_phases)\n",
    "for i in range(len(all_phases)):\n",
    "    if all_phases[i] in possible_phases:\n",
    "        try:\n",
    "            results[i] = calculate(db, components, all_phases[i] , output = 'GM', P = P, T = T, points = amounts).GM.values.flat[0]\n",
    "        except:\n",
    "            continue"
   ]
  },
  {
   "cell_type": "code",
   "execution_count": 37,
   "metadata": {},
   "outputs": [
    {
     "data": {
      "text/plain": [
       "array([-5.98218402e+004,             -inf, -5.98218402e+004,\n",
       "        1.91074569e-204,  6.76293613e+006,  6.76293613e+006,\n",
       "       -5.98218402e+004, -5.98218402e+004,  6.76293613e+006,\n",
       "       -2.23950363e+005,  6.36915230e-205,  6.76293613e+006,\n",
       "       -5.98218402e+004, -2.99109201e+004, -5.98218402e+004,\n",
       "       -5.98218402e+004, -5.98218402e+004, -5.98218402e+004,\n",
       "       -5.98218402e+004, -5.98218402e+004, -2.15869300e+005,\n",
       "       -5.98218402e+004, -2.99109201e+004, -1.94708769e+005,\n",
       "       -5.98218402e+004, -5.98218402e+004, -5.98218402e+004,\n",
       "       -2.24919534e+005, -2.22919535e+005, -5.98218402e+004,\n",
       "       -2.18021011e+005, -5.98218402e+004, -2.24645847e+005,\n",
       "       -5.98218402e+004, -5.98218402e+004, -5.98218402e+004,\n",
       "       -5.98218402e+004, -5.98218402e+004, -5.98218402e+004,\n",
       "       -5.98218402e+004, -5.98218402e+004,  3.18457615e-205,\n",
       "       -5.98218402e+004,  6.36915230e-205, -5.98218402e+004,\n",
       "       -5.98218402e+004, -5.98218402e+004, -5.98218402e+004,\n",
       "       -5.98218402e+004, -5.98218402e+004, -5.98218402e+004,\n",
       "       -5.98218402e+004, -5.98218402e+004, -1.40441772e+005,\n",
       "       -5.98218402e+004, -5.98218402e+004, -5.98218402e+004,\n",
       "       -5.98218402e+004, -5.98218402e+004, -5.98218402e+004,\n",
       "       -5.98218402e+004, -1.90268854e+005,  6.76293613e+006,\n",
       "        6.76293613e+006,  6.76293613e+006, -5.98218402e+004,\n",
       "        4.70971110e+149, -5.98218402e+004, -5.98218402e+004,\n",
       "       -5.98218402e+004, -5.98218402e+004, -5.98218402e+004,\n",
       "       -5.98218402e+004, -5.98218402e+004, -5.98218402e+004,\n",
       "       -5.98218402e+004, -5.98218402e+004, -5.98218402e+004,\n",
       "        1.27383046e-204, -3.13110608e-094, -5.98218402e+004,\n",
       "       -5.98218402e+004, -5.98218402e+004, -5.98218402e+004,\n",
       "       -5.98218402e+004, -5.98218402e+004, -5.98218402e+004,\n",
       "       -5.98218402e+004, -5.98218402e+004, -5.98218402e+004,\n",
       "       -5.98218402e+004, -5.98218402e+004, -5.98218402e+004,\n",
       "       -5.98218402e+004, -5.98218402e+004, -5.98218402e+004,\n",
       "       -5.98218402e+004, -5.98218402e+004,  6.76293613e+006,\n",
       "       -5.98218402e+004, -5.98218402e+004, -5.98218402e+004,\n",
       "       -2.22856279e+005, -2.22979851e+005, -5.98218402e+004,\n",
       "       -5.98218402e+004, -2.40045987e+005, -2.21029851e+005,\n",
       "       -5.98218402e+004,             -inf, -5.98218402e+004,\n",
       "       -5.98218402e+004, -2.28031803e+005, -5.98218402e+004,\n",
       "       -5.98218402e+004,  6.76293613e+006,  6.76293613e+006,\n",
       "        6.76293613e+006, -2.18029851e+005, -5.98218402e+004,\n",
       "       -5.98218402e+004, -5.98218402e+004, -5.98218402e+004,\n",
       "       -5.98218402e+004, -5.98218402e+004, -5.98218402e+004])"
      ]
     },
     "execution_count": 37,
     "metadata": {},
     "output_type": "execute_result"
    }
   ],
   "source": [
    "np.array(results)[~np.isnan(results)]"
   ]
  }
 ],
 "metadata": {
  "kernelspec": {
   "display_name": "Python 3 (ipykernel)",
   "language": "python",
   "name": "python3"
  },
  "language_info": {
   "codemirror_mode": {
    "name": "ipython",
    "version": 3
   },
   "file_extension": ".py",
   "mimetype": "text/x-python",
   "name": "python",
   "nbconvert_exporter": "python",
   "pygments_lexer": "ipython3",
   "version": "3.10.6"
  },
  "vscode": {
   "interpreter": {
    "hash": "0a54084e6b208ee8d1ce3989ffc20924477a5f55f5a43e22e699a6741623861e"
   }
  }
 },
 "nbformat": 4,
 "nbformat_minor": 4
}
