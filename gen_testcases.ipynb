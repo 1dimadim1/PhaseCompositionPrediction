{
 "cells": [
  {
   "cell_type": "code",
   "execution_count": 15,
   "metadata": {},
   "outputs": [],
   "source": [
    "# !pip install pycalphad\n",
    "# !pip install numpy\n",
    "# !pip install tqdm\n",
    "# !pip install ipywidgets"
   ]
  },
  {
   "cell_type": "code",
   "execution_count": null,
   "metadata": {},
   "outputs": [],
   "source": [
    "from pycalphad import Database, equilibrium, variables as v\n",
    "# from pycalphad.core.utils import filter_phases\n",
    "import random\n",
    "import numpy as np\n",
    "import time\n",
    "from tqdm import tqdm\n",
    "# from tqdm.auto import tqdm\n",
    "\n",
    "# constants:\n",
    "P = 101325\n",
    "db_name = 'models/sgsol_2021_pycalphad.tdb'\n",
    "db = Database(db_name)\n",
    "# TODO: check 'PM' param\n",
    "all_components = ['LI', 'BE', 'NA', 'MG', 'AL', 'K', 'CA', 'SC', 'TI', 'V', 'CR', 'MN', 'FE',\n",
    "                  'CO', 'NI', 'CU', 'ZN', 'GA', 'Y', 'ZR', 'NB', 'MO', 'TC',\n",
    "                  'RH', 'PD', 'AG', 'CD', 'IN', 'SN', 'BA', 'LA', 'CE', 'PR', 'ND', 'SM', 'EU',\n",
    "                  'GD', 'TB', 'DY', 'HO', 'ER', 'HF', 'TA', 'W', 'RE', 'OS', 'IR',\n",
    "                  'PT', 'AU', 'HG', 'TL', 'PB', 'BI', 'C', 'SI']\n",
    "all_phases = list(db.phases)\n",
    "all_phases.sort()\n",
    "all_components.sort()"
   ]
  },
  {
   "cell_type": "code",
   "execution_count": null,
   "metadata": {},
   "outputs": [],
   "source": [
    "# TODO: fix ordered_phases (check B2_BCC and BCC_B2)\n",
    "def filterOrderedPhases(dbf, candidate_phases=None):\n",
    "    if candidate_phases == None:\n",
    "        candidate_phases = dbf.phases.keys()\n",
    "    else:\n",
    "        candidate_phases = set(\n",
    "            candidate_phases).intersection(dbf.phases.keys())\n",
    "    # all_phases = [{\"name\": phase, \"ordered\": dbf.phases[phase].model_hints.get('ordered_phase'),'dis':dbf.phases[phase].model_hints.get('disordered_phase')} for phase in candidate_phases if dbf.phases[phase].model_hints.get('ordered_phase') != None]\n",
    "    # disordered_phases = [dbf.phases[phase].model_hints.get('disordered_phase') for phase in candidate_phases]\n",
    "    ordered_phases = [dbf.phases[phase].model_hints.get(\n",
    "        'ordered_phase') for phase in candidate_phases]\n",
    "    # disordered_phases = [dbf.phases[phase].model_hints.get('disordered_phase') for phase in candidate_phases if phase in ordered_phases]\n",
    "    phases = [phase for phase in candidate_phases if\n",
    "              (phase not in ordered_phases)]\n",
    "    #  or (phase in disordered_phases and\n",
    "    # dbf.phases[phase].model_hints.get('ordered_phase') not in candidate_phases)\n",
    "    return sorted(phases)"
   ]
  },
  {
   "cell_type": "code",
   "execution_count": null,
   "metadata": {},
   "outputs": [
    {
     "name": "stdout",
     "output_type": "stream",
     "text": [
      "124\n"
     ]
    }
   ],
   "source": [
    "from pycalphad.core.utils import filter_phases, unpack_components\n",
    "\n",
    "def getPossiblePhases(db, components):\n",
    "    comps = list(components)\n",
    "    if 'VA' not in comps:\n",
    "        comps.append('VA')\n",
    "    comps = unpack_components(db, comps)\n",
    "    return filter_phases(db, comps)\n",
    "\n",
    "T = 800\n",
    "components = ['ZR', 'MO', 'W', 'TA', 'V', 'CR', 'CO', 'NI']\n",
    "components.append('VA')\n",
    "possible_phases = getPossiblePhases(db, components)\n",
    "possible_phases = filterOrderedPhases(db, possible_phases)\n",
    "print(len(possible_phases))"
   ]
  },
  {
   "cell_type": "code",
   "execution_count": 17,
   "metadata": {},
   "outputs": [
    {
     "name": "stdout",
     "output_type": "stream",
     "text": [
      "Skipped LAVES_C14 - 4060064\n",
      "Skipped LAVES_C15 - 4060064\n",
      "Skipped LAVES_C36 - 2376049\n",
      "Added LIQUID - <xarray.DataArray 'X' (points: 379, component: 8)>\n",
      "array([[0.104293  , 0.06100749, 0.13786785, ..., 0.09314249, 0.26099327,\n",
      "        0.09657526],\n",
      "       [0.0675654 , 0.05229959, 0.09682471, ..., 0.25713181, 0.1679824 ,\n",
      "        0.06680157],\n",
      "       [0.12246138, 0.07959303, 0.0785588 , ..., 0.15590898, 0.2051034 ,\n",
      "        0.18251979],\n",
      "       ...,\n",
      "       [0.2240041 , 0.11481669, 0.05237775, ..., 0.07561585, 0.28192032,\n",
      "        0.13673212],\n",
      "       [0.05334979, 0.16287333, 0.07026131, ..., 0.12428664, 0.0564865 ,\n",
      "        0.28198324],\n",
      "       [0.08213114, 0.08592273, 0.06505728, ..., 0.28215556, 0.0853943 ,\n",
      "        0.09550717]])\n",
      "Coordinates:\n",
      "  * component  (component) <U2 'CO' 'CR' 'MO' 'NI' 'TA' 'V' 'W' 'ZR'\n",
      "    N          float64 1.0\n",
      "    P          float64 1.013e+05\n",
      "    T          float64 800.0\n",
      "Dimensions without coordinates: points\n",
      "Skipped MU_PHASE - 8032090\n",
      "Skipped SIGMA - 2274048\n"
     ]
    }
   ],
   "source": [
    "from pycalphad import calculate\n",
    "def filterX(x_result):\n",
    "    for x in x_result:\n",
    "        if x > 0.35 or x < 0.05:\n",
    "            return False\n",
    "    return True\n",
    "        \n",
    "\n",
    "results = [None] * len(all_phases)\n",
    "gm_result = 0\n",
    "# for i in tqdm(range(len(all_phases))):\n",
    "for i in range(len(all_phases)):\n",
    "    if all_phases[i] in possible_phases:\n",
    "            results = calculate(db, components, all_phases[i], output = 'GM', P = P, T =T)\n",
    "            X_results = results.X[0][0][0]\n",
    "            if len(X_results) > 1000000:\n",
    "                print(f'Skipped {all_phases[i]} - {len(X_results)}')\n",
    "                continue\n",
    "            filter_arr = []\n",
    "            for j in range(len(X_results)):\n",
    "                filter_arr.append(filterX(X_results[j]))\n",
    "                # if filterX(X_results[j]):\n",
    "                #      print(f'{all_phases[i]} - {j}')\n",
    "            \n",
    "            X_results = X_results[filter_arr]\n",
    "            if len(X_results) > 0:\n",
    "                print(f'Added {all_phases[i]} - {X_results}')\n",
    "                # gm_result = len(results.GM[0][0][0])"
   ]
  }
 ],
 "metadata": {
  "kernelspec": {
   "display_name": "Python 3 (ipykernel)",
   "language": "python",
   "name": "python3"
  },
  "language_info": {
   "codemirror_mode": {
    "name": "ipython",
    "version": 3
   },
   "file_extension": ".py",
   "mimetype": "text/x-python",
   "name": "python",
   "nbconvert_exporter": "python",
   "pygments_lexer": "ipython3",
   "version": "3.10.6"
  },
  "vscode": {
   "interpreter": {
    "hash": "0a54084e6b208ee8d1ce3989ffc20924477a5f55f5a43e22e699a6741623861e"
   }
  }
 },
 "nbformat": 4,
 "nbformat_minor": 4
}
