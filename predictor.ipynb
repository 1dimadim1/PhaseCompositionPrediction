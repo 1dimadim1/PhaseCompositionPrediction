{
 "cells": [
  {
   "attachments": {},
   "cell_type": "markdown",
   "metadata": {},
   "source": [
    "# Импортируем модель"
   ]
  },
  {
   "cell_type": "code",
   "execution_count": 1,
   "metadata": {},
   "outputs": [
    {
     "name": "stderr",
     "output_type": "stream",
     "text": [
      "2023-05-10 13:43:13.354701: I tensorflow/tsl/cuda/cudart_stub.cc:28] Could not find cuda drivers on your machine, GPU will not be used.\n",
      "2023-05-10 13:43:13.438402: I tensorflow/tsl/cuda/cudart_stub.cc:28] Could not find cuda drivers on your machine, GPU will not be used.\n",
      "2023-05-10 13:43:13.441130: I tensorflow/core/platform/cpu_feature_guard.cc:182] This TensorFlow binary is optimized to use available CPU instructions in performance-critical operations.\n",
      "To enable the following instructions: AVX2 FMA, in other operations, rebuild TensorFlow with the appropriate compiler flags.\n",
      "2023-05-10 13:43:14.763347: W tensorflow/compiler/tf2tensorrt/utils/py_utils.cc:38] TF-TRT Warning: Could not find TensorRT\n"
     ]
    },
    {
     "name": "stdout",
     "output_type": "stream",
     "text": [
      "Load model\n"
     ]
    }
   ],
   "source": [
    "from tensorflow import keras\n",
    "\n",
    "print('Load model')\n",
    "\n",
    "model = keras.models.load_model('models/sgsol_2021')"
   ]
  },
  {
   "attachments": {},
   "cell_type": "markdown",
   "metadata": {},
   "source": [
    "# Импортируем базу данных формата TDB"
   ]
  },
  {
   "cell_type": "code",
   "execution_count": 2,
   "metadata": {},
   "outputs": [
    {
     "name": "stdout",
     "output_type": "stream",
     "text": [
      "load TDB file\n"
     ]
    },
    {
     "name": "stderr",
     "output_type": "stream",
     "text": [
      "/home/dmitry/.local/lib/python3.10/site-packages/pycalphad/io/tdb.py:925: UserWarning: The type definition character `K` was defined in the following phases: ['FCC_A1', 'FCC_L12'], but no corresponding TYPE_DEFINITION line was found in the TDB.\n",
      "  warnings.warn(f\"The type definition character `{typechar}` was defined in the following phases: \"\n",
      "/home/dmitry/.local/lib/python3.10/site-packages/pycalphad/io/tdb.py:925: UserWarning: The type definition character `S` was defined in the following phases: ['FCC_A1'], but no corresponding TYPE_DEFINITION line was found in the TDB.\n",
      "  warnings.warn(f\"The type definition character `{typechar}` was defined in the following phases: \"\n",
      "/home/dmitry/.local/lib/python3.10/site-packages/pycalphad/io/tdb.py:925: UserWarning: The type definition character `P` was defined in the following phases: ['FCC_A1', 'FCC_4SL', 'HCP_A3', 'HCP_4SL'], but no corresponding TYPE_DEFINITION line was found in the TDB.\n",
      "  warnings.warn(f\"The type definition character `{typechar}` was defined in the following phases: \"\n",
      "/home/dmitry/.local/lib/python3.10/site-packages/pycalphad/io/tdb.py:925: UserWarning: The type definition character `M` was defined in the following phases: ['BCC_A2', 'BCC_B2', 'A2_BCC', 'B2_BCC'], but no corresponding TYPE_DEFINITION line was found in the TDB.\n",
      "  warnings.warn(f\"The type definition character `{typechar}` was defined in the following phases: \"\n",
      "/home/dmitry/.local/lib/python3.10/site-packages/pycalphad/io/tdb.py:925: UserWarning: The type definition character `U` was defined in the following phases: ['HCP_A3'], but no corresponding TYPE_DEFINITION line was found in the TDB.\n",
      "  warnings.warn(f\"The type definition character `{typechar}` was defined in the following phases: \"\n"
     ]
    }
   ],
   "source": [
    "from pycalphad import Database\n",
    "from tqdm import tqdm\n",
    "import modules.variables as var\n",
    "\n",
    "print('load TDB file')\n",
    "# constants:\n",
    "P = 101325\n",
    "db_name = 'models/sgsol_2021_pycalphad.tdb'\n",
    "db = Database(db_name)\n",
    "all_components = var.all_components\n",
    "all_phases = var.all_phases"
   ]
  },
  {
   "attachments": {},
   "cell_type": "markdown",
   "metadata": {},
   "source": [
    "# Задаем условия для компонент [CO, CR, MO, NI, TA, V, W, ZR]\t"
   ]
  },
  {
   "cell_type": "code",
   "execution_count": 3,
   "metadata": {},
   "outputs": [],
   "source": [
    "amounts = [[0.10640018, 0.07053918, 0.09098721, 0.08310691, 0.1866029,\n",
    "            0.18583018, 0.17365684, 0.1028766],\n",
    "           [0.05581862, 0.06488962, 0.21049123, 0.10578128, 0.08068205,\n",
    "            0.13075854, 0.22992805, 0.12165063],\n",
    "           [0.0770591, 0.05441745, 0.11515643, 0.17607291, 0.2857176,\n",
    "            0.12056114, 0.0763749, 0.09464048]]\n",
    "temp = [1000] * len(amounts)\n",
    "components = ['CO', 'CR', 'MO', 'NI', 'TA', 'V', 'W', 'ZR']\t"
   ]
  },
  {
   "cell_type": "code",
   "execution_count": 4,
   "metadata": {},
   "outputs": [],
   "source": [
    "from modules.GetGm import getGM\n",
    "from modules.filters import getPossiblePhases\n",
    "\n",
    "possible_phases = getPossiblePhases(db, components)"
   ]
  },
  {
   "attachments": {},
   "cell_type": "markdown",
   "metadata": {},
   "source": [
    "# Расчет энергии Гиббса"
   ]
  },
  {
   "cell_type": "code",
   "execution_count": 5,
   "metadata": {},
   "outputs": [
    {
     "name": "stdout",
     "output_type": "stream",
     "text": [
      "Расчет энергий Гиббса\n"
     ]
    },
    {
     "name": "stderr",
     "output_type": "stream",
     "text": [
      "100%|██████████| 3/3 [00:48<00:00, 16.27s/it]\n"
     ]
    }
   ],
   "source": [
    "print(\"Расчет энергий Гиббса\")\n",
    "gms = []\n",
    "for i in tqdm(range(len(amounts))):\n",
    "    gms.append(getGM(db, components, all_phases, possible_phases, amounts[i], temp[i]))"
   ]
  },
  {
   "attachments": {},
   "cell_type": "markdown",
   "metadata": {},
   "source": [
    "# Обработка энергий Гиббса"
   ]
  },
  {
   "cell_type": "code",
   "execution_count": 6,
   "metadata": {},
   "outputs": [
    {
     "name": "stdout",
     "output_type": "stream",
     "text": [
      "Обработка энергий Гиббса\n"
     ]
    },
    {
     "data": {
      "text/html": [
       "<div>\n",
       "<style scoped>\n",
       "    .dataframe tbody tr th:only-of-type {\n",
       "        vertical-align: middle;\n",
       "    }\n",
       "\n",
       "    .dataframe tbody tr th {\n",
       "        vertical-align: top;\n",
       "    }\n",
       "\n",
       "    .dataframe thead th {\n",
       "        text-align: right;\n",
       "    }\n",
       "</style>\n",
       "<table border=\"1\" class=\"dataframe\">\n",
       "  <thead>\n",
       "    <tr style=\"text-align: right;\">\n",
       "      <th></th>\n",
       "      <th>A15_CR3PT</th>\n",
       "      <th>A2_BCC</th>\n",
       "      <th>AG2BA</th>\n",
       "      <th>AG2BA3</th>\n",
       "      <th>AG2CA</th>\n",
       "      <th>AG2CD3</th>\n",
       "      <th>AG2CE</th>\n",
       "      <th>AG2DY</th>\n",
       "      <th>AG2ER</th>\n",
       "      <th>AG2GA</th>\n",
       "      <th>...</th>\n",
       "      <th>ZRSI2</th>\n",
       "      <th>Temp</th>\n",
       "      <th>CO</th>\n",
       "      <th>CR</th>\n",
       "      <th>MO</th>\n",
       "      <th>NI</th>\n",
       "      <th>TA</th>\n",
       "      <th>V</th>\n",
       "      <th>W</th>\n",
       "      <th>ZR</th>\n",
       "    </tr>\n",
       "  </thead>\n",
       "  <tbody>\n",
       "    <tr>\n",
       "      <th>0</th>\n",
       "      <td>0.0</td>\n",
       "      <td>0.0</td>\n",
       "      <td>0.0</td>\n",
       "      <td>0.0</td>\n",
       "      <td>0.0</td>\n",
       "      <td>0.0</td>\n",
       "      <td>0.0</td>\n",
       "      <td>0.0</td>\n",
       "      <td>0.0</td>\n",
       "      <td>0.0</td>\n",
       "      <td>...</td>\n",
       "      <td>0.0</td>\n",
       "      <td>0.23395</td>\n",
       "      <td>0.106400</td>\n",
       "      <td>0.070539</td>\n",
       "      <td>0.090987</td>\n",
       "      <td>0.083107</td>\n",
       "      <td>0.186603</td>\n",
       "      <td>0.185830</td>\n",
       "      <td>0.173657</td>\n",
       "      <td>0.102877</td>\n",
       "    </tr>\n",
       "    <tr>\n",
       "      <th>1</th>\n",
       "      <td>0.0</td>\n",
       "      <td>0.0</td>\n",
       "      <td>0.0</td>\n",
       "      <td>0.0</td>\n",
       "      <td>0.0</td>\n",
       "      <td>0.0</td>\n",
       "      <td>0.0</td>\n",
       "      <td>0.0</td>\n",
       "      <td>0.0</td>\n",
       "      <td>0.0</td>\n",
       "      <td>...</td>\n",
       "      <td>0.0</td>\n",
       "      <td>0.23395</td>\n",
       "      <td>0.055819</td>\n",
       "      <td>0.064890</td>\n",
       "      <td>0.210491</td>\n",
       "      <td>0.105781</td>\n",
       "      <td>0.080682</td>\n",
       "      <td>0.130759</td>\n",
       "      <td>0.229928</td>\n",
       "      <td>0.121651</td>\n",
       "    </tr>\n",
       "    <tr>\n",
       "      <th>2</th>\n",
       "      <td>0.0</td>\n",
       "      <td>0.0</td>\n",
       "      <td>0.0</td>\n",
       "      <td>0.0</td>\n",
       "      <td>0.0</td>\n",
       "      <td>0.0</td>\n",
       "      <td>0.0</td>\n",
       "      <td>0.0</td>\n",
       "      <td>0.0</td>\n",
       "      <td>0.0</td>\n",
       "      <td>...</td>\n",
       "      <td>0.0</td>\n",
       "      <td>0.23395</td>\n",
       "      <td>0.077059</td>\n",
       "      <td>0.054417</td>\n",
       "      <td>0.115156</td>\n",
       "      <td>0.176073</td>\n",
       "      <td>0.285718</td>\n",
       "      <td>0.120561</td>\n",
       "      <td>0.076375</td>\n",
       "      <td>0.094640</td>\n",
       "    </tr>\n",
       "  </tbody>\n",
       "</table>\n",
       "<p>3 rows × 2032 columns</p>\n",
       "</div>"
      ],
      "text/plain": [
       "   A15_CR3PT  A2_BCC  AG2BA  AG2BA3  AG2CA  AG2CD3  AG2CE  AG2DY  AG2ER  \\\n",
       "0        0.0     0.0    0.0     0.0    0.0     0.0    0.0    0.0    0.0   \n",
       "1        0.0     0.0    0.0     0.0    0.0     0.0    0.0    0.0    0.0   \n",
       "2        0.0     0.0    0.0     0.0    0.0     0.0    0.0    0.0    0.0   \n",
       "\n",
       "   AG2GA  ...  ZRSI2     Temp        CO        CR        MO        NI  \\\n",
       "0    0.0  ...    0.0  0.23395  0.106400  0.070539  0.090987  0.083107   \n",
       "1    0.0  ...    0.0  0.23395  0.055819  0.064890  0.210491  0.105781   \n",
       "2    0.0  ...    0.0  0.23395  0.077059  0.054417  0.115156  0.176073   \n",
       "\n",
       "         TA         V         W        ZR  \n",
       "0  0.186603  0.185830  0.173657  0.102877  \n",
       "1  0.080682  0.130759  0.229928  0.121651  \n",
       "2  0.285718  0.120561  0.076375  0.094640  \n",
       "\n",
       "[3 rows x 2032 columns]"
      ]
     },
     "execution_count": 6,
     "metadata": {},
     "output_type": "execute_result"
    }
   ],
   "source": [
    "import pandas as pd\n",
    "from modules.filters import normGms, normTemp\n",
    "\n",
    "min_temp = 298.15\n",
    "max_temp = 3000\n",
    "\n",
    "print(\"Обработка энергий Гиббса\")\n",
    "\n",
    "# Нормализаиция энергий Гиббса\n",
    "X = normGms(gms, all_phases)\n",
    "\n",
    "# Добавление значение температуры в данные для расчета\n",
    "if type(temp) == int or type(temp) ==  float:\n",
    "    X = X.copy()\n",
    "    X.loc[:, 'Temp'] = temp\n",
    "else:\n",
    "    X = pd.concat([X, pd.DataFrame(temp, columns=['Temp'])], axis=1)\n",
    "    # X = pd.concat([X, pd.DataFrame(temp.to_list(), columns=['Temp'])], axis=1)\n",
    "# Нормализация значения температуры\n",
    "X = normTemp(X, min_temp, max_temp)\n",
    "\n",
    "# Добавление количество компонентов в данные для расчета\n",
    "X_A = pd.DataFrame(amounts, columns=components)\n",
    "# X_A = pd.DataFrame(amounts.to_list(), columns=components)\n",
    "X = pd.concat([X, X_A], axis=1)\n",
    "\n",
    "X"
   ]
  },
  {
   "attachments": {},
   "cell_type": "markdown",
   "metadata": {},
   "source": [
    "# Предсказание стабильных фаз"
   ]
  },
  {
   "cell_type": "code",
   "execution_count": 7,
   "metadata": {},
   "outputs": [
    {
     "name": "stdout",
     "output_type": "stream",
     "text": [
      "Обработка энергий Гиббса\n",
      "1/1 [==============================] - 0s 165ms/step\n"
     ]
    }
   ],
   "source": [
    "print(\"Обработка энергий Гиббса\")\n",
    "\n",
    "results = model.predict(X)"
   ]
  },
  {
   "attachments": {},
   "cell_type": "markdown",
   "metadata": {},
   "source": [
    "# Фильтрация результатов"
   ]
  },
  {
   "cell_type": "code",
   "execution_count": 8,
   "metadata": {},
   "outputs": [
    {
     "name": "stdout",
     "output_type": "stream",
     "text": [
      "Фильтрация энергий Гиббса\n",
      "{'MU_PHASE': 0.24300249, 'LAVES_C15': 0.25761005, 'LAVES_C14': 0.48049244}\n",
      "{'MU_PHASE': 0.22020783, 'LAVES_C15': 0.2622267, 'LAVES_C14': 0.4980362}\n",
      "{'LAVES_C15': 0.25295833, 'MU_PHASE': 0.2545565, 'LAVES_C14': 0.4744896}\n"
     ]
    }
   ],
   "source": [
    "from modules.filters import parsePrediction\n",
    "\n",
    "filter_value = 0.2\n",
    "\n",
    "print(\"Фильтрация энергий Гиббса\")\n",
    "\n",
    "for i in range(len(results)):\n",
    "    print(parsePrediction(results[i], all_phases, filter_value))"
   ]
  },
  {
   "cell_type": "code",
   "execution_count": 9,
   "metadata": {},
   "outputs": [
    {
     "name": "stdout",
     "output_type": "stream",
     "text": [
      "Значение фильтра = 0.2\n",
      "Концентрация = [0.10640018, 0.07053918, 0.09098721, 0.08310691, 0.1866029, 0.18583018, 0.17365684, 0.1028766]\n",
      "Температура = 1000\n",
      " Фазы: ['MU_PHASE', 'LAVES_C15', 'LAVES_C14']\n",
      "\n",
      "Концентрация = [0.05581862, 0.06488962, 0.21049123, 0.10578128, 0.08068205, 0.13075854, 0.22992805, 0.12165063]\n",
      "Температура = 1000\n",
      " Фазы: ['MU_PHASE', 'LAVES_C15', 'LAVES_C14']\n",
      "\n",
      "Концентрация = [0.0770591, 0.05441745, 0.11515643, 0.17607291, 0.2857176, 0.12056114, 0.0763749, 0.09464048]\n",
      "Температура = 1000\n",
      " Фазы: ['LAVES_C15', 'MU_PHASE', 'LAVES_C14']\n",
      "\n"
     ]
    }
   ],
   "source": [
    "from modules.filters import parsePredictionKeys\n",
    "\n",
    "print(f\"Значение фильтра = {filter_value}\")\n",
    "for i in range(len(results)):\n",
    "    print(f\"Концентрация = {amounts[i]}\\nТемпература = {temp[i]}\\n\",\n",
    "          f\"Фазы: {parsePredictionKeys(results[i], all_phases, filter_value)}\\n\")"
   ]
  }
 ],
 "metadata": {
  "kernelspec": {
   "display_name": "Python 3",
   "language": "python",
   "name": "python3"
  },
  "language_info": {
   "codemirror_mode": {
    "name": "ipython",
    "version": 3
   },
   "file_extension": ".py",
   "mimetype": "text/x-python",
   "name": "python",
   "nbconvert_exporter": "python",
   "pygments_lexer": "ipython3",
   "version": "3.10.6"
  },
  "orig_nbformat": 4
 },
 "nbformat": 4,
 "nbformat_minor": 2
}
